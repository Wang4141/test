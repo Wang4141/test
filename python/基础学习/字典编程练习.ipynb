{
 "cells": [
  {
   "cell_type": "code",
   "execution_count": 42,
   "metadata": {},
   "outputs": [],
   "source": [
    "#输入单词\n",
    "words = input(\"输入一句英文句子:\")\n",
    "#对字符串切片\n",
    "word_sp = words.split()\n",
    "#创建空字典\n",
    "word_count = {}\n"
   ]
  },
  {
   "cell_type": "code",
   "execution_count": 43,
   "metadata": {},
   "outputs": [
    {
     "name": "stdout",
     "output_type": "stream",
     "text": [
      "{'hello': 2, 'java': 1, 'python': 1}\n"
     ]
    }
   ],
   "source": [
    "for item in word_sp:#循环计算重复次数\n",
    "    if item not in word_count:\n",
    "        #重复的字符加一\n",
    "        word_count[item] = 1\n",
    "    else:\n",
    "        word_count[item] += 1\n",
    "#输出结果\n",
    "print(word_count)\n"
   ]
  },
  {
   "cell_type": "code",
   "execution_count": 7,
   "metadata": {},
   "outputs": [],
   "source": [
    "import random #导入模块\n",
    "num_ran=[]#创建空列表\n"
   ]
  },
  {
   "cell_type": "code",
   "execution_count": 8,
   "metadata": {},
   "outputs": [
    {
     "name": "stdout",
     "output_type": "stream",
     "text": [
      "{20: 8, 21: 7, 22: 13, 23: 6, 24: 6, 25: 8, 26: 6, 27: 7, 28: 6, 29: 4, 30: 10, 31: 8, 32: 3, 33: 13, 34: 12, 35: 7, 36: 9, 37: 7, 38: 9, 39: 12, 40: 3, 41: 12, 42: 9, 43: 8, 44: 4, 45: 7, 46: 8, 47: 11, 48: 9, 49: 4, 50: 4, 52: 12, 53: 6, 54: 7, 55: 11, 56: 6, 57: 4, 58: 11, 59: 10, 60: 8, 61: 6, 62: 4, 63: 6, 64: 11, 65: 9, 66: 10, 67: 7, 68: 9, 69: 11, 70: 8, 71: 7, 72: 8, 73: 8, 74: 8, 75: 9, 76: 6, 77: 8, 78: 5, 79: 7, 80: 9, 81: 5, 82: 12, 83: 5, 84: 8, 85: 10, 86: 11, 87: 8, 88: 11, 89: 4, 90: 9, 91: 2, 92: 4, 93: 7, 94: 8, 95: 6, 96: 11, 97: 4, 98: 8, 99: 9, 100: 9, 101: 8, 102: 12, 103: 3, 104: 11, 105: 2, 106: 9, 107: 7, 108: 6, 109: 12, 110: 3, 111: 12, 112: 6, 113: 6, 114: 6, 115: 7, 116: 6, 117: 11, 118: 11, 119: 9, 120: 13, 121: 12, 122: 9, 123: 5, 124: 11, 125: 2, 126: 5, 127: 5, 128: 8, 129: 8, 130: 5, 131: 9, 132: 8, 133: 11, 134: 6, 135: 9, 136: 5, 137: 7, 138: 6, 139: 6, 140: 8, 141: 6, 142: 3, 143: 5, 144: 9, 145: 8, 146: 11, 147: 8, 148: 5, 149: 7, 150: 11}\n"
     ]
    }
   ],
   "source": [
    "#随机生成取值范围在[20, 150] 之内的1000个整数\n",
    "for item in range(1000):\n",
    "    num_ran.append(random.randint(20, 150))\n",
    "#对数据进行排序\n",
    "num_sort=sorted(num_ran)\n",
    "num_dic={}#创建空字典\n",
    "#统计重复次数\n",
    "for num in num_sort:\n",
    "    #重复的字符加一\n",
    "    if num in num_dic:\n",
    "        num_dic[num]+=1\n",
    "    else :\n",
    "        num_dic[num]=1\n",
    "#输出所有不同的数字及其每个数字的重复次数\n",
    "print(num_dic)"
   ]
  },
  {
   "cell_type": "code",
   "execution_count": 49,
   "metadata": {},
   "outputs": [
    {
     "name": "stdout",
     "output_type": "stream",
     "text": [
      "k1\n",
      "k2\n",
      "k3\n",
      "v1\n",
      "v2\n",
      "v3\n"
     ]
    }
   ],
   "source": [
    "#创建如下字典\n",
    "dict= {'k1' : 'v1', 'k2' : 'v2', 'k3' : 'v3'}\n",
    "#利用循环遍历打印输出所有的键\n",
    "for key in dict.keys():\n",
    "    print(key)\n",
    "#利用循环遍历打印输出所有的值\n",
    "for value in dict.values():\n",
    "    print(value)\n"
   ]
  },
  {
   "cell_type": "code",
   "execution_count": 50,
   "metadata": {},
   "outputs": [
    {
     "name": "stdout",
     "output_type": "stream",
     "text": [
      "k1 v1\n",
      "k2 v2\n",
      "k3 v3\n"
     ]
    }
   ],
   "source": [
    "#利用循环遍历打印，同时输出所有的键和值\n",
    "for key,value in dict.items():\n",
    "    print(key,value) "
   ]
  },
  {
   "cell_type": "code",
   "execution_count": 51,
   "metadata": {},
   "outputs": [
    {
     "name": "stdout",
     "output_type": "stream",
     "text": [
      "{'k1': 'v1', 'k2': 'v2', 'k3': 'v3', 'k4': 'v4'}\n"
     ]
    }
   ],
   "source": [
    "#在字典当中增加一个新的键值对 'k4' : 'v4',并输出添加数据之后的字典\n",
    "dict['k4']='v4'\n",
    "print(dict)"
   ]
  },
  {
   "cell_type": "code",
   "execution_count": 52,
   "metadata": {},
   "outputs": [
    {
     "name": "stdout",
     "output_type": "stream",
     "text": [
      "{'k2': 'v2', 'k3': 'v3', 'k4': 'v4'}\n"
     ]
    }
   ],
   "source": [
    "#删除字典当中'k1':'v1'键值对，并输出删除数据之后的字典\n",
    "dict.pop('k1')\n",
    "print(dict)"
   ]
  },
  {
   "cell_type": "code",
   "execution_count": 53,
   "metadata": {},
   "outputs": [
    {
     "name": "stdout",
     "output_type": "stream",
     "text": [
      "None\n"
     ]
    }
   ],
   "source": [
    "\n",
    "#删除字典中键\"k5\"对应的键值对，如果字典中不存在键\"k5\",则不报错，返回None\n",
    "print(dict.pop('k5',None))"
   ]
  }
 ],
 "metadata": {
  "interpreter": {
   "hash": "ac59ebe37160ed0dfa835113d9b8498d9f09ceb179beaac4002f036b9467c963"
  },
  "kernelspec": {
   "display_name": "Python 3.9.6 64-bit",
   "name": "python3"
  },
  "language_info": {
   "codemirror_mode": {
    "name": "ipython",
    "version": 3
   },
   "file_extension": ".py",
   "mimetype": "text/x-python",
   "name": "python",
   "nbconvert_exporter": "python",
   "pygments_lexer": "ipython3",
   "version": "3.9.6"
  },
  "orig_nbformat": 4
 },
 "nbformat": 4,
 "nbformat_minor": 2
}
