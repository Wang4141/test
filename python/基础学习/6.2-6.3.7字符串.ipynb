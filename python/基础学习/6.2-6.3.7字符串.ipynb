{
 "cells": [
  {
   "cell_type": "code",
   "execution_count": null,
   "metadata": {},
   "outputs": [],
   "source": [
    "#转义字符\n",
    "#\\b,\\f.\\n,\\r,\\t,\\v,\\\\,\\',\\'',\\ooo,\\xhh,\\\\uhhhh"
   ]
  },
  {
   "cell_type": "code",
   "execution_count": 7,
   "metadata": {},
   "outputs": [
    {
     "name": "stdout",
     "output_type": "stream",
     "text": [
      "0.333\n",
      "350.000000%\n",
      "350.00%\n",
      "   350.00%\n",
      "350.00%   \n"
     ]
    },
    {
     "data": {
      "text/plain": [
       "'The number 55 in hex is :0x37,The number 5555 in oct is 0o12663'"
      ]
     },
     "execution_count": 7,
     "metadata": {},
     "output_type": "execute_result"
    }
   ],
   "source": [
    "print('{0:.3f}'.format(1/3))\n",
    "print('{0:%}'.format(3.5))\n",
    "print('{0:.2%}'.format(3.5))\n",
    "print('{0:10.2%}'.format(3.5))\n",
    "print('{0:<10.2%}'.format(3.5))\n",
    "\n",
    "\"The number {0:,} in hex is :{0:#x},in oct is {0:#o}\".format(55)\n",
    "\n"
   ]
  },
  {
   "cell_type": "code",
   "execution_count": 10,
   "metadata": {},
   "outputs": [
    {
     "data": {
      "text/plain": [
       "'The number 5555 in hex is :15b3,The number 55 in oct is 67'"
      ]
     },
     "execution_count": 10,
     "metadata": {},
     "output_type": "execute_result"
    }
   ],
   "source": [
    "\"The number {0:,} in hex is :{0:x},The number {1} in oct is {1:o}\".format(5555,55)"
   ]
  },
  {
   "cell_type": "code",
   "execution_count": 9,
   "metadata": {},
   "outputs": [
    {
     "data": {
      "text/plain": [
       "'The number 55 in hex is :0x37,The number 5555 in oct is 0o12663'"
      ]
     },
     "execution_count": 9,
     "metadata": {},
     "output_type": "execute_result"
    }
   ],
   "source": [
    "\"The number {1} in hex is :{1:#x},The number {0} in oct is {0:#o}\".format(5555,55)"
   ]
  },
  {
   "cell_type": "code",
   "execution_count": 11,
   "metadata": {},
   "outputs": [
    {
     "data": {
      "text/plain": [
       "'名字：刘,年龄19,qq号123456'"
      ]
     },
     "execution_count": 11,
     "metadata": {},
     "output_type": "execute_result"
    }
   ],
   "source": [
    "#^居中{name：20s}\n",
    "\"名字：{name},年龄{age},qq号{qq}\".format(name = \"刘\", age = \"19\",qq=\"123456\")"
   ]
  },
  {
   "cell_type": "code",
   "execution_count": 13,
   "metadata": {},
   "outputs": [
    {
     "data": {
      "text/plain": [
       "'年龄是41'"
      ]
     },
     "execution_count": 13,
     "metadata": {},
     "output_type": "execute_result"
    }
   ],
   "source": [
    "\"年龄是{age:d}\".format(age=0o51)"
   ]
  },
  {
   "cell_type": "code",
   "execution_count": 14,
   "metadata": {},
   "outputs": [
    {
     "data": {
      "text/plain": [
       "'65      ,      65,   65   '"
      ]
     },
     "execution_count": 14,
     "metadata": {},
     "output_type": "execute_result"
    }
   ],
   "source": [
    "'{0:<8d},{0:>8d},{0:^8d}'.format(65)"
   ]
  },
  {
   "cell_type": "code",
   "execution_count": 15,
   "metadata": {},
   "outputs": [
    {
     "data": {
      "text/plain": [
       "'1_000_000,f_4240'"
      ]
     },
     "execution_count": 15,
     "metadata": {},
     "output_type": "execute_result"
    }
   ],
   "source": [
    "'{0:_},{0:_x}'.format(1000000)"
   ]
  },
  {
   "cell_type": "code",
   "execution_count": 19,
   "metadata": {},
   "outputs": [
    {
     "name": "stdout",
     "output_type": "stream",
     "text": [
      "'Monday'天气是'rainy'\n",
      "'Tuesday'天气是'suny'\n",
      "'Wednesday'天气是'sunny'\n",
      "'Tuesday'天气是'rainy'\n",
      "'Friday'天气是'cloudy'\n"
     ]
    }
   ],
   "source": [
    "weater=[(\"Monday\",\"rainy\"),(\"Tuesday\",\"suny\"),(\"Wednesday\",\"sunny\"),(\"Tuesday\",\"rainy\"),(\"Friday\",\"cloudy\")]\n",
    "formatter=\"'{0[0]}'天气是'{0[1]}'\".format\n",
    "#打印方法1\n",
    "for item in weater:\n",
    "    print(formatter(item))"
   ]
  },
  {
   "cell_type": "code",
   "execution_count": 27,
   "metadata": {},
   "outputs": [
    {
     "data": {
      "text/plain": [
       "[\"'Monday'天气是'rainy'\",\n",
       " \"'Tuesday'天气是'suny'\",\n",
       " \"'Wednesday'天气是'sunny'\",\n",
       " \"'Tuesday'天气是'rainy'\",\n",
       " \"'Friday'天气是'cloudy'\"]"
      ]
     },
     "execution_count": 27,
     "metadata": {},
     "output_type": "execute_result"
    }
   ],
   "source": [
    "#打印方法2\n",
    "list(map(formatter,weater))"
   ]
  },
  {
   "cell_type": "code",
   "execution_count": 20,
   "metadata": {},
   "outputs": [
    {
     "data": {
      "text/plain": [
       "'我的名字是liu,我的年龄是25'"
      ]
     },
     "execution_count": 20,
     "metadata": {},
     "output_type": "execute_result"
    }
   ],
   "source": [
    "name='liu'\n",
    "age=25\n",
    "f'我的名字是{name},我的年龄是{age}'"
   ]
  },
  {
   "cell_type": "code",
   "execution_count": 21,
   "metadata": {},
   "outputs": [
    {
     "ename": "NameError",
     "evalue": "name 'adress' is not defined",
     "output_type": "error",
     "traceback": [
      "\u001b[1;31m---------------------------------------------------------------------------\u001b[0m",
      "\u001b[1;31mNameError\u001b[0m                                 Traceback (most recent call last)",
      "\u001b[1;32m~\\AppData\\Local\\Temp/ipykernel_40388/3509021970.py\u001b[0m in \u001b[0;36m<module>\u001b[1;34m\u001b[0m\n\u001b[1;32m----> 1\u001b[1;33m \u001b[1;34mf'我的地址是{adress}'\u001b[0m\u001b[1;33m\u001b[0m\u001b[1;33m\u001b[0m\u001b[0m\n\u001b[0m",
      "\u001b[1;31mNameError\u001b[0m: name 'adress' is not defined"
     ]
    }
   ],
   "source": [
    "f'我的地址是{adress}'"
   ]
  },
  {
   "cell_type": "code",
   "execution_count": null,
   "metadata": {},
   "outputs": [],
   "source": [
    "name='哈哈哈哈'\n",
    "str1=name.encode('gbk')\n",
    "print(str1)\n",
    "str2=name.encode()#'gb2312'\n",
    "print(str2)\n",
    "str3=name.encode('utf-8')\n",
    "print(str3)\n",
    "\n",
    "u1=str2.decode()\n",
    "print(u1)\n",
    "u2=str2.decode('utf-8')\n",
    "print(u2)\n",
    "u3=str1.decode('utf-8')\n",
    "print(u3)"
   ]
  },
  {
   "cell_type": "code",
   "execution_count": 26,
   "metadata": {},
   "outputs": [
    {
     "name": "stdout",
     "output_type": "stream",
     "text": [
      "4\n",
      "30\n",
      "31\n"
     ]
    },
    {
     "ename": "ValueError",
     "evalue": "substring not found",
     "output_type": "error",
     "traceback": [
      "\u001b[1;31m---------------------------------------------------------------------------\u001b[0m",
      "\u001b[1;31mValueError\u001b[0m                                Traceback (most recent call last)",
      "\u001b[1;32m~\\AppData\\Local\\Temp/ipykernel_40388/3143108136.py\u001b[0m in \u001b[0;36m<module>\u001b[1;34m\u001b[0m\n\u001b[0;32m      3\u001b[0m \u001b[0mprint\u001b[0m\u001b[1;33m(\u001b[0m\u001b[0mtext\u001b[0m\u001b[1;33m.\u001b[0m\u001b[0mrfind\u001b[0m\u001b[1;33m(\u001b[0m\u001b[1;34m'i'\u001b[0m\u001b[1;33m)\u001b[0m\u001b[1;33m)\u001b[0m\u001b[1;33m\u001b[0m\u001b[1;33m\u001b[0m\u001b[0m\n\u001b[0;32m      4\u001b[0m \u001b[0mprint\u001b[0m\u001b[1;33m(\u001b[0m\u001b[0mtext\u001b[0m\u001b[1;33m.\u001b[0m\u001b[0mrindex\u001b[0m\u001b[1;33m(\u001b[0m\u001b[1;34m't'\u001b[0m\u001b[1;33m)\u001b[0m\u001b[1;33m)\u001b[0m\u001b[1;33m\u001b[0m\u001b[1;33m\u001b[0m\u001b[0m\n\u001b[1;32m----> 5\u001b[1;33m \u001b[0mprint\u001b[0m\u001b[1;33m(\u001b[0m\u001b[0mtext\u001b[0m\u001b[1;33m.\u001b[0m\u001b[0mrindex\u001b[0m\u001b[1;33m(\u001b[0m\u001b[1;34m'0'\u001b[0m\u001b[1;33m)\u001b[0m\u001b[1;33m)\u001b[0m\u001b[1;33m\u001b[0m\u001b[1;33m\u001b[0m\u001b[0m\n\u001b[0m",
      "\u001b[1;31mValueError\u001b[0m: substring not found"
     ]
    }
   ],
   "source": [
    "text='Explicit is better than implicit.'\n",
    "print(text.find('i'))\n",
    "print(text.rfind('i'))\n",
    "print(text.rindex('t'))\n",
    "print(text.rindex('0'))"
   ]
  },
  {
   "cell_type": "code",
   "execution_count": 28,
   "metadata": {},
   "outputs": [
    {
     "data": {
      "text/plain": [
       "6"
      ]
     },
     "execution_count": 28,
     "metadata": {},
     "output_type": "execute_result"
    }
   ],
   "source": [
    "text.count('i')"
   ]
  },
  {
   "cell_type": "code",
   "execution_count": 29,
   "metadata": {},
   "outputs": [
    {
     "name": "stdout",
     "output_type": "stream",
     "text": [
      "(0, '机')(1, '器')(2, '人')(3, '是')(4, '一')(5, '门')(6, '涉')(7, '及')(9, '械')(10, '学')(11, '、')(12, '电')(13, '子')(16, '工')(17, '程')(20, '自')(21, '动')(22, '控')(23, '制')(25, '计')(26, '算')(31, '智')(32, '能')(33, '等')(34, '方')(35, '面')(36, '的')(37, '综')(38, '合')(39, '性')(41, '科')(42, '，')(43, '以')(44, '培')(45, '养')(47, '生')(51, '素')(53, '和')(54, '技')(55, '术')(58, '为')(59, '宗')(60, '旨')(65, '规')(66, '划')(68, '设')(71, '作')(73, '调')(74, '试')(75, '应')(76, '用')(78, '主')(79, '要')(81, '习')(82, '特')(83, '征')(85, '实')(86, '践')(88, '课')(91, '在')(92, '拓')(93, '宽')(97, '知')(98, '识')(101, '促')(102, '进')(105, '全')(107, '而')(108, '富')(109, '有')(110, '个')(113, '发')(114, '展')(115, '上')(116, '起')(117, '着')(118, '不')(119, '可')(120, '替')(121, '代')(128, '随')(139, '别')(145, '与')(150, '结')(157, '再')(158, '局')(159, '限')(160, '于')(162, '业')(166, '研')(167, '究')(168, '所')(169, '内')(171, '它')(172, '已')(173, '经')(175, '入')(176, '教')(177, '育')(178, '领')(179, '域')(181, '国')(183, '外')(186, '专')(187, '家')(188, '指')(189, '出')(191, '利')(196, '来')(197, '开')(205, '仅')(211, '理')(212, '解')(226, '抽')(227, '象')(228, '概')(229, '念')(231, '更')(240, '创')(241, '新')(243, '力')(253, '手')(265, '基')(266, '础')(269, '越')(272, '受')(273, '到')(275, '们')(277, '关')(278, '注')(282, '我')(285, '2')(286, '0')(288, '1')(289, '年')(290, '举')(291, '办')(292, '首')(293, '届')(296, '青')(297, '少')(302, '竞')(303, '赛')(311, '带')(316, '下')(320, '各')(321, '地')(324, '了')(325, '校')(326, '本')(334, '小')(335, '组')(337, '选')(338, '修')(341, '丰')(343, '多')(344, '彩')(351, '活')(354, '近')(358, '由')(360, '对')(366, '认')(371, '足')(380, '目')(381, '标')(383, '明')(384, '确')(386, '原')(387, '因')(402, '定')(404, '度')(407, '约')(409, ' ')"
     ]
    }
   ],
   "source": [
    "text='''机器人是一门涉及机械学、电子学、工程学、自动控制、计算机、人工智能等方面的综合性学科，以培养学生的科学素养和技术素养为宗旨，以综合规划、设计制作、调试应用为主要学习特征的实践性课程。在拓宽学生的知识面，促进学生全面而富有个性的发展上起着不可替代的作用。\n",
    "\n",
    "随着科学技术的发展，特别是人工智能与机器人的结合，机器人不再局限于工业应用和研究所内，它已经进入教育领域。国内外教育专家指出，利用机器人来开展实践学习，不仅有利于学生理解科学、工程学和技术等领域的抽象概念，更有利于培养学生的创新能力、综合设计能力和动手实践能力。机器人教育在基础教育越来越受到人们的关注。\n",
    "\n",
    "我国自2001年举办首届全国青少年机器人竞赛以来，在竞赛的带动与促进下，全国各地展开了校本课程、课外科技小组、选修课等丰富多彩的机器人教育活动。近年来，由于对机器人教育认识上的不足，机器人竞赛活动目标不明确等原因，我国机器人教育的发展受到一定程度的制约。 '''\n",
    "for index,ch in enumerate(text):\n",
    "    if ch not in ('\\n',',','。') and index ==text.index(ch):\n",
    "        print((index,ch),end='')"
   ]
  },
  {
   "cell_type": "code",
   "execution_count": 30,
   "metadata": {},
   "outputs": [
    {
     "name": "stdout",
     "output_type": "stream",
     "text": [
      "(5, '门')(6, '涉')(7, '及')(9, '械')(12, '电')(13, '子')(22, '控')(26, '算')(34, '方')(56, '素')(59, '宗')(60, '旨')(65, '规')(66, '划')(73, '调')(74, '试')(77, '为')(78, '主')(79, '要')(83, '征')(92, '拓')(93, '宽')(97, '知')(106, '面')(107, '而')(110, '个')(111, '性')(116, '起')(119, '可')(120, '替')(121, '代')(123, '作')(128, '随')(129, '着')(138, '特')(139, '别')(140, '是')(143, '智')(150, '结')(157, '再')(158, '局')(159, '限')(162, '业')(163, '应')(166, '研')(167, '究')(168, '所')(171, '它')(172, '已')(173, '经')(175, '入')(182, '内')(186, '专')(187, '家')(188, '指')(189, '出')(192, '用')(202, '习')(205, '仅')(211, '理')(212, '解')(216, '工')(221, '术')(223, '领')(224, '域')(226, '抽')(227, '象')(228, '概')(229, '念')(231, '更')(232, '有')(233, '利')(235, '培')(236, '养')(237, '学')(238, '生')(240, '创')(241, '新')(245, '综')(246, '合')(247, '设')(248, '计')(251, '和')(253, '手')(254, '实')(255, '践')(256, '能')(257, '力')(265, '基')(266, '础')(271, '越')(275, '们')(277, '关')(278, '注')(284, '自')(285, '2')(287, '0')(288, '1')(290, '举')(291, '办')(292, '首')(293, '届')(296, '青')(297, '少')(304, '以')(307, '在')(311, '带')(313, '与')(314, '促')(315, '进')(316, '下')(318, '全')(320, '各')(321, '地')(323, '开')(324, '了')(325, '校')(326, '本')(331, '外')(332, '科')(333, '技')(334, '小')(335, '组')(336, '、')(337, '选')(338, '修')(339, '课')(341, '丰')(342, '富')(343, '多')(344, '彩')(354, '近')(355, '年')(356, '来')(358, '由')(359, '于')(360, '对')(366, '认')(367, '识')(368, '上')(371, '足')(376, '竞')(377, '赛')(378, '活')(379, '动')(380, '目')(381, '标')(382, '不')(383, '明')(384, '确')(385, '等')(386, '原')(387, '因')(388, '，')(389, '我')(390, '国')(391, '机')(392, '器')(393, '人')(394, '教')(395, '育')(397, '发')(398, '展')(399, '受')(400, '到')(401, '一')(402, '定')(403, '程')(404, '度')(405, '的')(406, '制')(407, '约')(409, ' ')"
     ]
    }
   ],
   "source": [
    "for index,ch in enumerate(text):\n",
    "    if ch not in ('\\n',',','。') and index ==text.rindex(ch):\n",
    "        print((index,ch),end='')"
   ]
  },
  {
   "cell_type": "code",
   "execution_count": 31,
   "metadata": {},
   "outputs": [
    {
     "name": "stdout",
     "output_type": "stream",
     "text": [
      "(0, '机')(1, '器')(2, '人')(3, '是')(4, '一')(5, '门')(6, '涉')(7, '及')(8, '机')(9, '械')(10, '学')(11, '、')(12, '电')(13, '子')(14, '学')(15, '、')(16, '工')(17, '程')(18, '学')(19, '、')(20, '自')(21, '动')(22, '控')(23, '制')(24, '、')(25, '计')(26, '算')(27, '机')(28, '、')(29, '人')(30, '工')(31, '智')(32, '能')(33, '等')(34, '方')(35, '面')(36, '的')(37, '综')(38, '合')(39, '性')(40, '学')(41, '科')(42, '，')(43, '以')(44, '培')(45, '养')(46, '学')(47, '生')(48, '的')(49, '科')(50, '学')(51, '素')(52, '养')(53, '和')(54, '技')(55, '术')(56, '素')(57, '养')(58, '为')(59, '宗')(60, '旨')(61, '，')(62, '以')(63, '综')(64, '合')(65, '规')(66, '划')(67, '、')(68, '设')(69, '计')(70, '制')(71, '作')(72, '、')(73, '调')(74, '试')(75, '应')(76, '用')(77, '为')(78, '主')(79, '要')(80, '学')(81, '习')(82, '特')(83, '征')(84, '的')(85, '实')(86, '践')(87, '性')(88, '课')(89, '程')(91, '在')(92, '拓')(93, '宽')(94, '学')(95, '生')(96, '的')(97, '知')(98, '识')(99, '面')(100, '，')(101, '促')(102, '进')(103, '学')(104, '生')(105, '全')(106, '面')(107, '而')(108, '富')(109, '有')(110, '个')(111, '性')(112, '的')(113, '发')(114, '展')(115, '上')(116, '起')(117, '着')(118, '不')(119, '可')(120, '替')(121, '代')(122, '的')(123, '作')(124, '用')(128, '随')(129, '着')(130, '科')(131, '学')(132, '技')(133, '术')(134, '的')(135, '发')(136, '展')(137, '，')(138, '特')(139, '别')(140, '是')(141, '人')(142, '工')(143, '智')(144, '能')(145, '与')(146, '机')(147, '器')(148, '人')(149, '的')(150, '结')(151, '合')(152, '，')(153, '机')(154, '器')(155, '人')(156, '不')(157, '再')(158, '局')(159, '限')(160, '于')(161, '工')(162, '业')(163, '应')(164, '用')(165, '和')(166, '研')(167, '究')(168, '所')(169, '内')(170, '，')(171, '它')(172, '已')(173, '经')(174, '进')(175, '入')(176, '教')(177, '育')(178, '领')(179, '域')(181, '国')(182, '内')(183, '外')(184, '教')(185, '育')(186, '专')(187, '家')(188, '指')(189, '出')(190, '，')(191, '利')(192, '用')(193, '机')(194, '器')(195, '人')(196, '来')(197, '开')(198, '展')(199, '实')(200, '践')(201, '学')(202, '习')(203, '，')(204, '不')(205, '仅')(206, '有')(207, '利')(208, '于')(209, '学')(210, '生')(211, '理')(212, '解')(213, '科')(214, '学')(215, '、')(216, '工')(217, '程')(218, '学')(219, '和')(220, '技')(221, '术')(222, '等')(223, '领')(224, '域')(225, '的')(226, '抽')(227, '象')(228, '概')(229, '念')(230, '，')(231, '更')(232, '有')(233, '利')(234, '于')(235, '培')(236, '养')(237, '学')(238, '生')(239, '的')(240, '创')(241, '新')(242, '能')(243, '力')(244, '、')(245, '综')(246, '合')(247, '设')(248, '计')(249, '能')(250, '力')(251, '和')(252, '动')(253, '手')(254, '实')(255, '践')(256, '能')(257, '力')(259, '机')(260, '器')(261, '人')(262, '教')(263, '育')(264, '在')(265, '基')(266, '础')(267, '教')(268, '育')(269, '越')(270, '来')(271, '越')(272, '受')(273, '到')(274, '人')(275, '们')(276, '的')(277, '关')(278, '注')(282, '我')(283, '国')(284, '自')(285, '2')(286, '0')(287, '0')(288, '1')(289, '年')(290, '举')(291, '办')(292, '首')(293, '届')(294, '全')(295, '国')(296, '青')(297, '少')(298, '年')(299, '机')(300, '器')(301, '人')(302, '竞')(303, '赛')(304, '以')(305, '来')(306, '，')(307, '在')(308, '竞')(309, '赛')(310, '的')(311, '带')(312, '动')(313, '与')(314, '促')(315, '进')(316, '下')(317, '，')(318, '全')(319, '国')(320, '各')(321, '地')(322, '展')(323, '开')(324, '了')(325, '校')(326, '本')(327, '课')(328, '程')(329, '、')(330, '课')(331, '外')(332, '科')(333, '技')(334, '小')(335, '组')(336, '、')(337, '选')(338, '修')(339, '课')(340, '等')(341, '丰')(342, '富')(343, '多')(344, '彩')(345, '的')(346, '机')(347, '器')(348, '人')(349, '教')(350, '育')(351, '活')(352, '动')(354, '近')(355, '年')(356, '来')(357, '，')(358, '由')(359, '于')(360, '对')(361, '机')(362, '器')(363, '人')(364, '教')(365, '育')(366, '认')(367, '识')(368, '上')(369, '的')(370, '不')(371, '足')(372, '，')(373, '机')(374, '器')(375, '人')(376, '竞')(377, '赛')(378, '活')(379, '动')(380, '目')(381, '标')(382, '不')(383, '明')(384, '确')(385, '等')(386, '原')(387, '因')(388, '，')(389, '我')(390, '国')(391, '机')(392, '器')(393, '人')(394, '教')(395, '育')(396, '的')(397, '发')(398, '展')(399, '受')(400, '到')(401, '一')(402, '定')(403, '程')(404, '度')(405, '的')(406, '制')(407, '约')(409, ' ')"
     ]
    }
   ],
   "source": [
    "for index,ch in enumerate(text):\n",
    "    if ch not in ('\\n',',','。') and text.index(ch) ==text.index(ch):\n",
    "        print((index,ch),end='')"
   ]
  },
  {
   "cell_type": "code",
   "execution_count": 32,
   "metadata": {},
   "outputs": [
    {
     "data": {
      "text/plain": [
       "['a', 'b', 'c', 'd', 'e', 'f', 'g', 'h', 'i', 'j', 'k']"
      ]
     },
     "execution_count": 32,
     "metadata": {},
     "output_type": "execute_result"
    }
   ],
   "source": [
    "s=\"a,b,c,d,e,f,g,h,i,j,k\"\n",
    "s.split(\",\")"
   ]
  },
  {
   "cell_type": "code",
   "execution_count": 33,
   "metadata": {},
   "outputs": [
    {
     "data": {
      "text/plain": [
       "['Explicit', 'is', 'better', 'than', 'implicit.']"
      ]
     },
     "execution_count": 33,
     "metadata": {},
     "output_type": "execute_result"
    }
   ],
   "source": [
    "text='Explicit is better than implicit.'\n",
    "text.split()"
   ]
  },
  {
   "cell_type": "code",
   "execution_count": 45,
   "metadata": {},
   "outputs": [
    {
     "data": {
      "text/plain": [
       "['Explicit', 'is', 'better', '', '', '', '', '', 'than', 'implicit.']"
      ]
     },
     "execution_count": 45,
     "metadata": {},
     "output_type": "execute_result"
    }
   ],
   "source": [
    "text='Explicit is better      than implicit.'\n",
    "text.split(' ')"
   ]
  },
  {
   "cell_type": "code",
   "execution_count": 38,
   "metadata": {},
   "outputs": [
    {
     "data": {
      "text/plain": [
       "'0:1:2:3:4:5:6:7:8:9'"
      ]
     },
     "execution_count": 38,
     "metadata": {},
     "output_type": "execute_result"
    }
   ],
   "source": [
    "':'.join(map(str,range(10)))"
   ]
  },
  {
   "cell_type": "code",
   "execution_count": 39,
   "metadata": {},
   "outputs": [
    {
     "data": {
      "text/plain": [
       "'ab,ef'"
      ]
     },
     "execution_count": 39,
     "metadata": {},
     "output_type": "execute_result"
    }
   ],
   "source": [
    "','.join('abcdef'.split('cd'))"
   ]
  },
  {
   "cell_type": "code",
   "execution_count": 41,
   "metadata": {},
   "outputs": [
    {
     "data": {
      "text/plain": [
       "'1_2_3_4_5_6_7'"
      ]
     },
     "execution_count": 41,
     "metadata": {},
     "output_type": "execute_result"
    }
   ],
   "source": [
    "'_'.join(['1','2','3','4','5','6','7'])"
   ]
  },
  {
   "cell_type": "code",
   "execution_count": 43,
   "metadata": {},
   "outputs": [
    {
     "name": "stdout",
     "output_type": "stream",
     "text": [
      "nklncs      ert\n"
     ]
    },
    {
     "data": {
      "text/plain": [
       "'nklncs ert'"
      ]
     },
     "execution_count": 43,
     "metadata": {},
     "output_type": "execute_result"
    }
   ],
   "source": [
    "qwe='nklncs      ert'\n",
    "print(qwe)\n",
    "' '.join(qwe.split())"
   ]
  },
  {
   "cell_type": "code",
   "execution_count": 47,
   "metadata": {},
   "outputs": [
    {
     "data": {
      "text/plain": [
       "'你的名字是什么 what is your name '"
      ]
     },
     "execution_count": 47,
     "metadata": {},
     "output_type": "execute_result"
    }
   ],
   "source": [
    "l_text=\"你的名字是什么 what is your NAME \"\n",
    "l_text.lower()"
   ]
  },
  {
   "cell_type": "code",
   "execution_count": 49,
   "metadata": {},
   "outputs": [
    {
     "data": {
      "text/plain": [
       "'你的名字是什么 WHAT IS YOUR NAME '"
      ]
     },
     "execution_count": 49,
     "metadata": {},
     "output_type": "execute_result"
    }
   ],
   "source": [
    "l_text=\"你的名字是什么 what is your NAME \"\n",
    "l_text.upper()"
   ]
  },
  {
   "cell_type": "code",
   "execution_count": 52,
   "metadata": {},
   "outputs": [
    {
     "data": {
      "text/plain": [
       "'What is your name '"
      ]
     },
     "execution_count": 52,
     "metadata": {},
     "output_type": "execute_result"
    }
   ],
   "source": [
    "l_text=\"what is your NAME \"\n",
    "l_text.capitalize()"
   ]
  },
  {
   "cell_type": "code",
   "execution_count": 53,
   "metadata": {},
   "outputs": [
    {
     "data": {
      "text/plain": [
       "'你的名字是什么 What Is Your Name '"
      ]
     },
     "execution_count": 53,
     "metadata": {},
     "output_type": "execute_result"
    }
   ],
   "source": [
    "l_text=\"你的名字是什么 what is your NAME \"\n",
    "l_text.title()"
   ]
  },
  {
   "cell_type": "code",
   "execution_count": 54,
   "metadata": {},
   "outputs": [
    {
     "data": {
      "text/plain": [
       "'你的名字是什么 WHAT IS YOUR name '"
      ]
     },
     "execution_count": 54,
     "metadata": {},
     "output_type": "execute_result"
    }
   ],
   "source": [
    "l_text=\"你的名字是什么 what is your NAME \"\n",
    "l_text.swapcase()"
   ]
  },
  {
   "cell_type": "code",
   "execution_count": 56,
   "metadata": {},
   "outputs": [
    {
     "data": {
      "text/plain": [
       "'你的名字是liu what is your NAME '"
      ]
     },
     "execution_count": 56,
     "metadata": {},
     "output_type": "execute_result"
    }
   ],
   "source": [
    "l_text=\"你的名字是什么 what is your NAME \"\n",
    "l_text.replace('什么','liu')"
   ]
  },
  {
   "cell_type": "code",
   "execution_count": 2,
   "metadata": {},
   "outputs": [
    {
     "data": {
      "text/plain": [
       "'and or '"
      ]
     },
     "execution_count": 2,
     "metadata": {},
     "output_type": "execute_result"
    }
   ],
   "source": [
    "pwd='\"\"and or \"\"'\n",
    "pwd.replace('\"\"','')"
   ]
  },
  {
   "cell_type": "code",
   "execution_count": 6,
   "metadata": {},
   "outputs": [
    {
     "data": {
      "text/plain": [
       "'and or '"
      ]
     },
     "execution_count": 6,
     "metadata": {},
     "output_type": "execute_result"
    }
   ],
   "source": [
    "pwd.replace('\"\"','').replace(\"'\",' ')"
   ]
  },
  {
   "cell_type": "code",
   "execution_count": 7,
   "metadata": {},
   "outputs": [
    {
     "data": {
      "text/plain": [
       "{97: 100,\n",
       " 98: 101,\n",
       " 99: 102,\n",
       " 100: 103,\n",
       " 101: 104,\n",
       " 102: 105,\n",
       " 103: 106,\n",
       " 104: 107,\n",
       " 105: 108,\n",
       " 106: 109,\n",
       " 107: 110,\n",
       " 108: 111,\n",
       " 109: 112,\n",
       " 110: 113,\n",
       " 111: 114,\n",
       " 112: 115,\n",
       " 113: 116,\n",
       " 114: 117,\n",
       " 115: 118,\n",
       " 116: 119,\n",
       " 117: 120,\n",
       " 118: 121,\n",
       " 119: 122,\n",
       " 120: 97,\n",
       " 121: 98,\n",
       " 122: 99}"
      ]
     },
     "execution_count": 7,
     "metadata": {},
     "output_type": "execute_result"
    }
   ],
   "source": [
    "from string import ascii_lowercase as lowercase\n",
    "table=''.maketrans(lowercase,lowercase[3:]+lowercase[:3])\n",
    "table"
   ]
  },
  {
   "cell_type": "code",
   "execution_count": 8,
   "metadata": {},
   "outputs": [
    {
     "data": {
      "text/plain": [
       "'Bhdxwlixo lv ehwwhu wkdq xjob.'"
      ]
     },
     "execution_count": 8,
     "metadata": {},
     "output_type": "execute_result"
    }
   ],
   "source": [
    "text='Beautiful is better than ugly.'\n",
    "text.translate(table)"
   ]
  },
  {
   "cell_type": "code",
   "execution_count": 9,
   "metadata": {},
   "outputs": [
    {
     "data": {
      "text/plain": [
       "'二零二一年一一月一七日'"
      ]
     },
     "execution_count": 9,
     "metadata": {},
     "output_type": "execute_result"
    }
   ],
   "source": [
    "table=''.maketrans('0123456789','零一二三四五六七八九')\n",
    "'2021年11月17日'.translate(table)"
   ]
  }
 ],
 "metadata": {
  "interpreter": {
   "hash": "ac59ebe37160ed0dfa835113d9b8498d9f09ceb179beaac4002f036b9467c963"
  },
  "kernelspec": {
   "display_name": "Python 3.9.6 64-bit",
   "language": "python",
   "name": "python3"
  },
  "language_info": {
   "codemirror_mode": {
    "name": "ipython",
    "version": 3
   },
   "file_extension": ".py",
   "mimetype": "text/x-python",
   "name": "python",
   "nbconvert_exporter": "python",
   "pygments_lexer": "ipython3",
   "version": "3.9.6"
  },
  "orig_nbformat": 4
 },
 "nbformat": 4,
 "nbformat_minor": 2
}
