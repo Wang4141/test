{
 "cells": [
  {
   "cell_type": "code",
   "execution_count": 1,
   "metadata": {},
   "outputs": [
    {
     "name": "stderr",
     "output_type": "stream",
     "text": [
      "Building prefix dict from the default dictionary ...\n",
      "Loading model from cache C:\\Users\\阿山\\AppData\\Local\\Temp\\jieba.cache\n",
      "Loading model cost 1.010 seconds.\n",
      "Prefix dict has been built successfully.\n"
     ]
    },
    {
     "name": "stdout",
     "output_type": "stream",
     "text": [
      "[('，', 8), ('一二三', 2)]\n"
     ]
    }
   ],
   "source": [
    "#1统计频次\n",
    "from collections import Counter\n",
    "from jieba import lcut\n",
    "text='''一二三，爬上山，上山要喊一二三，三不能说成山，山也不能说成三，三山分得清，说话才好听，三山分不清，说话不好听。'''\n",
    "\n",
    "words=lcut(text)\n",
    "fre=Counter(words)\n",
    "print(fre.most_common(2))"
   ]
  },
  {
   "cell_type": "code",
   "execution_count": 4,
   "metadata": {},
   "outputs": [
    {
     "name": "stdout",
     "output_type": "stream",
     "text": [
      "XOqu8FcY\n",
      "7lISiWk0WgKC5X6\n"
     ]
    }
   ],
   "source": [
    "#2生成随机密码\n",
    "from random import choice\n",
    "from string import ascii_letters,digits\n",
    "\n",
    "characters=digits+ascii_letters\n",
    "\n",
    "def generatePassword(n):\n",
    "    return ''.join(choice(characters) for _ in range(n))\n",
    "print(generatePassword(8))\n",
    "print(generatePassword(15))"
   ]
  },
  {
   "cell_type": "code",
   "execution_count": 31,
   "metadata": {},
   "outputs": [
    {
     "name": "stdout",
     "output_type": "stream",
     "text": [
      "('This is a test ', 0.267)\n",
      "('Beautiful is better than ugly. ', 0.065)\n",
      "('Explicit is better than implicit', 0.062)\n",
      "('Simple is better than complex', 0.069)\n",
      "('Sparse is better than dense ', 0.25)\n",
      "('Readablity counts.', 0.278)\n",
      "('Now is better than never', 0.083)\n"
     ]
    }
   ],
   "source": [
    "#3关键词占比\n",
    "from random import choice\n",
    "from string import ascii_letters\n",
    "\n",
    "def check(sentences,words):\n",
    "    '''返回包含至少一个关键词的句子列表'''\n",
    "    return [sentence\n",
    "               for sentence in sentences \n",
    "               if sum(sentence.count(word) for word in words)>0]\n",
    "        \n",
    "\n",
    "sentences=['This is a test ','Beautiful is better than ugly. ','Explicit is better than implicit','Simple is better than complex','Sparse is better than dense ','Readablity counts.','Now is better than never']\n",
    "words=['text','count','dense', 'is', 'simple']\n",
    "result=check(sentences,words)\n",
    "\n",
    "d={sentence:round(sum(sentence.count(word)*len(word) \n",
    "                for word in words)/len(sentence),3) \n",
    "for sentence in result}\n",
    "\n",
    "for item in d.items():\n",
    "    print(item)"
   ]
  },
  {
   "cell_type": "code",
   "execution_count": 34,
   "metadata": {},
   "outputs": [
    {
     "name": "stdout",
     "output_type": "stream",
     "text": [
      "Before Encrypted:Beautiful is better than ugly \n",
      "After Encrypted :\u0012\u001c\u0015\u001d\u001b\u00076\f\u0018H\u0006\u001dp\u001b\u0011\u001c\u001b\u000b\"Y\u0000\u0000\u000e\u0000p\f\u0013\u0004\u0016N\n",
      "After Decrypted:Beautiful is better than ugly \n"
     ]
    }
   ],
   "source": [
    "#4加密解密\n",
    "from itertools import cycle\n",
    "def crypt(sourse,key):\n",
    "    func=lambda x,y:chr(ord(x)^ord(y))\n",
    "    return ''.join(map(func,sourse,cycle(key)))\n",
    "\n",
    "sourse='Beautiful is better than ugly '\n",
    "key='Python'\n",
    "print('Before Encrypted:'+sourse)\n",
    "encrypted=crypt(sourse,key)\n",
    "print('After Encrypted :'+encrypted)\n",
    "decrypted=crypt(encrypted,key)\n",
    "print('After Decrypted:'+decrypted)"
   ]
  },
  {
   "cell_type": "code",
   "execution_count": 37,
   "metadata": {},
   "outputs": [
    {
     "name": "stdout",
     "output_type": "stream",
     "text": [
      "god : good\n",
      "hood : good\n",
      "wello : hello\n",
      "helo : hello\n",
      "pychon : python\n",
      "guguo : fuguo\n",
      "shangdong : shandong\n"
     ]
    }
   ],
   "source": [
    "#5相近字母\n",
    "from collections import Counter\n",
    "\n",
    "def checkAndModify(word):\n",
    "    fre=dict(Counter(word))\n",
    "    similars={w:[fre[ch]-words[w].get(ch,0) for ch in word]\n",
    "    +[words[w][ch]-fre.get(ch,0) for ch in w] for w in words}\n",
    "    return min(similars.items(),key=lambda item:sum(map(lambda i:i**2,item[1])))[0]\n",
    "\n",
    "words={'good','hello','world','python','fuguo','yantai','shandong','great'}\n",
    "words={word:dict(Counter(word)) for word in words}\n",
    "\n",
    "for word in ['god','hood','wello','helo','pychon','guguo','shangdong']:\n",
    "    print(word,':',checkAndModify(word))"
   ]
  },
  {
   "cell_type": "code",
   "execution_count": 41,
   "metadata": {},
   "outputs": [
    {
     "name": "stdout",
     "output_type": "stream",
     "text": [
      "['b', 'c', 'd', 'f', 'r', 'g', 's', 'n', 'v', 'A', 'w', 'e', 'B', '3', 'a']\n"
     ]
    }
   ],
   "source": [
    "#6查找末次出现\n",
    "s='aaaabcdawerasdfasdfwerngsnnvAAAweB3a'\n",
    "\n",
    "result=[]\n",
    "\n",
    "for ch in s:\n",
    "    if ch in result:\n",
    "        result.remove(ch)\n",
    "    result.append(ch)\n",
    "print(result)"
   ]
  },
  {
   "cell_type": "code",
   "execution_count": 42,
   "metadata": {},
   "outputs": [
    {
     "name": "stdout",
     "output_type": "stream",
     "text": [
      "11123\n"
     ]
    }
   ],
   "source": [
    "#7找连续数字串\n",
    "import re\n",
    "def longest(s):\n",
    "    t=re.findall('\\d+',s)\n",
    "    if t:\n",
    "        return max(t,key=len)\n",
    "    return 'NO'\n",
    "\n",
    "print(longest('abc11123ddqa333'))\n"
   ]
  },
  {
   "cell_type": "code",
   "execution_count": 44,
   "metadata": {},
   "outputs": [
    {
     "name": "stdout",
     "output_type": "stream",
     "text": [
      "91863765-233487438\n",
      "53480545-832463289\n",
      "95783956-389174613\n"
     ]
    }
   ],
   "source": [
    "#8提取电话号码\n",
    "import re\n",
    "text='''我的电话号码是84397356891863765-233487438925878578326781，你的是3872347953480545-83246328946137267316，他的是81738095783956-38917461392474'''\n",
    "\n",
    "matchResult=re.findall(r'(\\d{7,8})-(\\d{8,9})',text)\n",
    "for item in matchResult:\n",
    "    print(item[0],item[1],sep='-')"
   ]
  },
  {
   "cell_type": "code",
   "execution_count": 46,
   "metadata": {},
   "outputs": [
    {
     "name": "stdout",
     "output_type": "stream",
     "text": [
      "六十六岁刘老六修了六十六座走马楼楼上摆了六十六瓶苏合油门前栽了六十六棵垂杨柳柳上拴了六十六个大马猴忽然一阵狂风起吹倒了六十六座走马楼打翻了六十六瓶苏合油压倒了六十六棵垂杨柳吓跑了六十六个大马猴气死了六十六岁刘老六六十六岁刘老六\n"
     ]
    }
   ],
   "source": [
    "#9过滤空格，标点\n",
    "from jieba import cut\n",
    "\n",
    "def delPuncs(s):\n",
    "    f=lambda word:len(word)>1 or '\\u4e00'<=word<='\\u9fa5'\n",
    "    return ''.join(filter(f,cut(s)))\n",
    "\n",
    "sentence='''六十六岁刘老六，修了六十六座走马楼，楼上摆了六十六瓶苏合油，门前栽了六十六棵垂杨柳，柳上拴了六十六个大马猴。忽然一阵狂风起，吹倒了六十六座走马楼，打翻了六十六瓶苏合油，压倒了六十六棵垂杨柳，吓跑了六十六个大马猴，气死了六十六岁刘老六（《六十六岁刘老六》）。'''\n",
    "\n",
    "print(delPuncs(sentence))"
   ]
  },
  {
   "cell_type": "code",
   "execution_count": 50,
   "metadata": {},
   "outputs": [
    {
     "name": "stdout",
     "output_type": "stream",
     "text": [
      "a2Cd:4:not suitable for password\n",
      "abcdefghijklmn:14:error\n",
      "abcdefghijklmnopqrstuvwxyzABCDEFGHIJKLMNOPQRSTUVWXYZ:52:error\n",
      "0123456789:10:strong\n",
      "a1b2C3,d4h:10:strong\n",
      "111111111111111111:18:strong\n"
     ]
    }
   ],
   "source": [
    "#10检查密码强度\n",
    "import string\n",
    "def check(pwd):\n",
    "    if not isinstance(pwd,str) or len(pwd)<6:\n",
    "        return 'not suitable for password'\n",
    "    \n",
    "    d={1:'weak',2:'below middle',3:'above middle',4:'strong'}\n",
    "\n",
    "    r=[False]*4\n",
    "\n",
    "    for ch in pwd:\n",
    "        if not r[0] and ch in string.digits:\n",
    "            r[0]=True\n",
    "        elif not r[1] and ch in string.digits:\n",
    "            r[1]=True\n",
    "        elif not r[2] and ch in string.digits:\n",
    "            r[2]=True\n",
    "        elif not r[3] and ch in string.digits:\n",
    "            r[3]=True\n",
    "    return d.get(r.count(True),'error')\n",
    "\n",
    "pwds=('a2Cd','abcdefghijklmn',string.ascii_letters,string.digits,'a1b2C3,d4h','1'*18)\n",
    "\n",
    "for pwd in pwds:\n",
    "    print(pwd,len(pwd),check(pwd),sep=':')\n"
   ]
  },
  {
   "cell_type": "code",
   "execution_count": 54,
   "metadata": {},
   "outputs": [
    {
     "name": "stdout",
     "output_type": "stream",
     "text": [
      "1111abc2d3:1111a\n",
      "abc111111d:111111d\n",
      "a2bc11111111:11111111\n"
     ]
    }
   ],
   "source": [
    "#11找最长数字子串\n",
    "def longest_1(s):\n",
    "    length=len(s)\n",
    "    start=0\n",
    "    span=(0,0)\n",
    "    for pos in range(length):\n",
    "        if s[pos].isdigit() and (pos==0 or not s[pos-1].isdigit()):\n",
    "            start=pos\n",
    "        elif ((not s[pos].isdigit()) and s[pos-1].isdigit() and  pos-start>span[1]-span[0]):\n",
    "            span=(start,pos)\n",
    "    if s[pos].isdigit() and  pos-start>span[1]-span[0]:\n",
    "        span=(start,pos)\n",
    "    return s[span[0]:span[1]+1]\n",
    "\n",
    "ss=('1111abc2d3','abc111111d','a2bc11111111')\n",
    "\n",
    "for s in ss:\n",
    "    print(s,longest_1(s),sep=':')"
   ]
  },
  {
   "cell_type": "code",
   "execution_count": 77,
   "metadata": {},
   "outputs": [],
   "source": [
    "#12生成随机人员信息\n",
    "from random import choice,randint\n",
    "from string import ascii_letters,digits\n",
    "\n"
   ]
  },
  {
   "cell_type": "code",
   "execution_count": 78,
   "metadata": {},
   "outputs": [],
   "source": [
    "StringBase='\\u773c\\u770b\\u7740\\u732a\\u8089\\u4ef7'\\\n",
    "'\\u683c\\u6bcf\\u65a4\\u53c8\\u56de\\u523010\\u5143\\u4ee5'\\\n",
    "'\\u4e0a\\uff0c\\u5f88\\u591a\\u4eba\\u62c5\\u5fc3\\u732a'\\\n",
    "'\\u8089\\u4ef7\\u683c\\u4f1a\\u7ee7\\u7eed\\u201c\\u722c'\\\n",
    "'\\u697c\\u68af\\u201d\\u3002\\u3000\\u3000\\u5bf9\\u6b64'\\\n",
    "'\\uff0c\\u51af\\u6c38\\u8f89\\u8ba4\\u4e3a\\uff0c\\u53d7'\\\n",
    "'\\u9700\\u6c42\\u56de\\u5347\\u7684\\u62c9\\u52a8\\uff0c'\\\n",
    "'\\u732a\\u8089\\u4ef7\\u683c\\u624d\\u51fa\\u73b0\\u53cd'\\\n",
    "'\\u5f39\\u3002\\u201c\\u6309\\u7167\\u5b98\\u65b9\\u6570'\\\n",
    "'\\u636e\\uff0c\\u8fd9\\u6ce2\\u4e0a\\u6da8\\u5e76\\u4e0d'\\\n",
    "'\\u662f\\u5468\\u671f\\u6027\\u7684\\u3001\\u8d8b\\u52bf'\\\n",
    "'\\u6027\\u7684\\uff0c\\u76ee\\u524d\\u751f\\u732a\\u4ea7'\\\n",
    "'\\u80fd\\u6c34\\u5e73\\u8fd8\\u5904\\u4e8e\\u9ad8\\u4f4d'\\\n",
    "'\\uff0c\\u56e0\\u6b64\\u53ea\\u662f\\u9636\\u6bb5\\u6027'\\\n",
    "'\\u7684\\u53cd\\u5f39\\u3002\\u201d\\u3000\\u3000\\u201c'\\\n",
    "'\\u5230\\u4e8612\\u6708\\u4efd\\uff0c\\u732a\\u4ef7\\u6216'\\\n",
    "'\\u4f1a\\u9762\\u4e34\\u9ad8\\u4f4d\\u4e0b\\u6ed1\\u7684'\\\n",
    "'\\u8d70\\u52bf\\u3002\\u201d\\u725b\\u54f2\\u9884\\u8ba1'\\\n",
    "'\\uff0c\\u5e74\\u5e95\\u7684\\u65f6\\u5019\\uff0c\\u90e8'\\\n",
    "'\\u5206\\u5934\\u90e8\\u4f01\\u4e1a\\u3001\\u751f\\u732a'\\\n",
    "'\\u4e0a\\u5e02\\u516c\\u53f8\\uff0c\\u4e3a\\u4e86\\u5b8c'\\\n",
    "'\\u6210\\u5e74\\u5ea6\\u7684\\u51b2\\u523a\\u4efb\\u52a1'\\\n",
    "'\\uff0c\\u53ef\\u80fd\\u4f1a\\u572812\\u6708\\u4efd\\u96c6'\\\n",
    "'\\u4e2d\\u653e\\u91cf\\u3002\\u7684\\u8d70\\u52bf\\u3002'\\\n",
    "'\\u3000\\u3000\\u53e6\\u5916\\uff0c\\u201c\\u7531\\u4e8e'\\\n",
    "'\\u6700\\u8fd1\\u751f\\u732a\\u4ef7\\u683c\\u4e0a\\u6da8'\\\n",
    "'\\uff0c\\u6709\\u4e00\\u90e8\\u5206\\u6563\\u6237\\u538b'\\\n",
    "'\\u680f\\u60dc\\u552e\\uff0c\\u4e5f\\u53ef\\u80fd\\u4f1a'\\\n",
    "'\\u7b49\\u523012\\u6708\\u4efd\\u5de6\\u53f3\\u51fa\\u680f'\\\n",
    "'\\uff0c\\u5230\\u65f6\\u5019\\u751f\\u732a\\u6574\\u4f53'\\\n",
    "'\\u4f9b\\u5e94\\u91cf\\u53ef\\u80fd\\u4f1a\\u589e\\u591a'\\\n",
    "'\\u3002\\u201d\\u725b\\u54f2\\u6307\\u51fa\\u3002\\u3000'\\\n",
    "'\\u3000\\u3000\\u5728\\u725b\\u54f2\\u770b\\u6765\\uff0c'\\\n",
    "'\\u4eca\\u5e74\\u53d7\\u5929\\u6c14\\u5f71\\u54cd\\uff0c'\\\n",
    "'\\u5317\\u65b9\\u7684\\u704c\\u80a0\\u548c\\u5357\\u65b9'\\\n",
    "'\\u7684\\u814c\\u814a\\u5dee\\u4e0d\\u591a\\u63d0\\u524d'\\\n",
    "'\\u4e00\\u4e2a\\u6708\\u5c31\\u5f00\\u542f\\uff0c\\u5904'\\\n",
    "'\\u4e8e\\u6d88\\u8d39\\u63d0\\u524d\\u7684\\u72b6\\u6001'\\\n",
    "'\\uff0c\\u732a\\u8089\\u7684\\u6d88\\u8d39\\u65fa\\u5b63'\\\n",
    "'\\u53ef\\u80fd\\u96c6\\u4e2d\\u572811\\u6708\\u4efd\\u6216'\\\n",
    "'\\u6708\\u4efd\\u4e0a\\u65ec\\uff0c\\u5230\\u4e8612\\u6708'\\\n",
    "'\\u4efd\\u4e0b\\u65ec\\u4f30\\u8ba1\\u5df2\\u5904\\u4e8e'\\\n",
    "'\\u6d88\\u8d39\\u5c3e\\u58f0\\u3002\\u5230\\u65f6\\u5019'\\\n",
    "'\\u732a\\u8089\\u5904\\u4e8e\\u4f9b\\u8fc7\\u4e8e\\u6c42'\\\n",
    "'\\u7684\\u5c40\\u9762\\uff0c\\u6216\\u4f1a\\u5bfc\\u81f4'\\\n",
    "'\\u732a\\u4ef7\\u5448\\u73b0\\u9ad8\\u4f4d\\u4e0b\\u6ed1'\\\n",
    "'\\u3000\\u4f60\\u5bb6\\u6700\\u8fd1\\u814c\\u814a\\u8089'\\\n",
    "'\\u3001\\u704c\\u80a0\\u4e86\\u5417\\uff1f\\u732a\\u8089'\\\n",
    "'\\u4ef7\\u683c\\u662f\\u4e0d\\u662f\\u4e0a'"
   ]
  },
  {
   "cell_type": "code",
   "execution_count": 93,
   "metadata": {},
   "outputs": [],
   "source": [
    "characters=ascii_letters+digits+'_'\n",
    "suffix=['.com','.org','.net','.cn']\n",
    "\n",
    "def getEmail():\n",
    "    username=''.join((choice(characters) for i in range(randint(6,12))))\n",
    "    domain=''.join((choice(characters) for i in range(randint(3,6))))\n",
    "    return username+'@'+domain+choice(suffix)\n",
    "\n",
    "def getNameOrAddress(flag):\n",
    "    '''flag=1表示返回随机姓名，flag=0表示返回随机地址'''\n",
    "    result=''\n",
    "    if flag==0:\n",
    "        rangestart,rangeend=2,4\n",
    "    elif flag==1:\n",
    "        rangestart,rangeend=10,20\n",
    "    else:\n",
    "       print('flag must be 1 or 0')\n",
    "       return ''\n",
    "    for i in range(randint(rangestart,rangeend)):\n",
    "       result+=choice(StringBase)\n",
    "    return result"
   ]
  },
  {
   "cell_type": "code",
   "execution_count": 94,
   "metadata": {},
   "outputs": [
    {
     "name": "stdout",
     "output_type": "stream",
     "text": [
      "司在猪费份体或部。供照涨,男,35,还猪费,5LIpdKVS@lW6.org\n",
      "或季下公猪，于，过指在,男,50,有。？分,E3JLcZiyeJ@3V2n.com\n",
      "放格能是在了猪今走受状0。方导会,女,74,放价猪受,GC00qr0wvpT@iPagNP.org\n",
      "肠了份冯1旺多应。中是的。永已是临最不,女,90,在此处,bmGA8tgWfE@1gq2.com\n",
      "业是　1出，价年，“的猪“处方动影，就,男,48,份计到的,H3AuAMc@QMy3_.com\n",
      "元，面位气计于的　预会到,男,66,　最,1z11XTo@QCb.com\n",
      "的。应，上处下受肠此位肉导现段只的,女,55,，猪费,zhdrFJKNCau@W1d.cn\n",
      "产才消因月势产供提。到很上。辉散的元,女,94,临面份,F6T6qa@YuphtW.net\n",
      "供　业”价只2体趋个　，可的,女,43,肠前为,4Unda0VeO@ebC2Ht.net\n",
      "回年压“只猪尾增是了。　猪声的，辉的,女,55,状。,vtA2Y4z87SSk@j2W.net\n",
      "的还肉平到。价处一，多会认1,女,66,为肠辉,BC8hlttK@X4VH4b.org\n",
      "涨最性的时。提的，受需会受,男,47,，份,IPIafzZ@Lrf.com\n",
      "处1期有牛也到处“此　滑致、,女,44,位增,4vNiB5kJV@Sse1o7.org\n",
      "灌弹肉对冲或，左应势，声不,男,87,的受,jvpEQAl1@CKpC4N.cn\n",
      "水了最多业中波2需现处,男,57,生“上会,sumZ0pC@MmZCbn.org\n",
      "格，度份上份1多量1“牛,男,90,，下可天,u8GLk_qVfct@iBJY.org\n",
      "月，哲出。份的费刺照,男,51,，底,yP4iHd0j@LXXAk0.net\n",
      "高此　等处滑月此升最爬　,女,89,，腌家的,0LTzRvhX@sNjIO.com\n",
      "已1会于外高升段的斤消涨,女,81,平反尾,Nu8b487T@ql47SI.net\n",
      "旺部到以2照完导可散估到价也计猪阶,女,38,，的,ic6JB3qNk3i@6xy.net\n",
      "辉产格于消续2目提牛照份计弹,男,29,　能消“,I8riuQf6f3Z@hzO.cn\n",
      "最户因格有到呈反弹中了,女,18,只散,OY6agQNk@hnH.com\n",
      "能到到成或，“消方状,女,59,格成的时,lkb74fDIuf@EE_kL.cn\n",
      "应部续旬前爬1肉牛致可有提的还出,女,86,只完,C0roO8@dN_.net\n",
      "，季。动季局的很于放，到份的任因价，可来,男,39,到升此时,K8aczN@1KZUt.org\n",
      "响性数永求体不楼集走需肠或,女,92,回腌性,n94cXXwxM@fspn.cn\n",
      "处份压回由位生这月前售的最势，,女,77,中生,h89RuIz2TI@VU7.com\n",
      "位能散不猪周价量楼肉期费，惜,女,92,会性性,uG4mNtH@9hX.org\n",
      "，方压，处方多候求等能看费,男,56,已整惜方,6lgaBi@da5.net\n",
      "生导于处1趋性，个为心位阶，头，处,男,34,务来弹,ewBj_8ix@leu_J5.cn\n",
      "生腌的猪哲份分、上的费由平,男,29,肠会“,Jdjvw4@r_t.net\n",
      "到份2公格家　的猪是，司,男,49,牛数,SKLk2l0EYrA8@tYKp.org\n",
      "、天面平的，可消企惜，哲消于价个南头势也,女,52,会消旺,HAMAiFfN@pei.net\n",
      "眼价中，月会牛“左最肉的户,女,59,肉，,uGUW7t8KLfY7@FXBMsG.com\n",
      "上户能性，势肠需，到以的外滑方又由处处前,女,62,需猪,TQcoig3uXDpM@9TIq.net\n",
      "差消可预市就认上不可外的。家猪格升,女,88,肉吗　,nM3tS0K@iMlzay.cn\n",
      "于才惜性由声可方据哲　肉以需预,男,81,这于,8jhJtwdACv8L@REG.cn\n",
      "和尾势差指每有于生照份今2牛”,男,38,到处此,mcewcEudPlH@Fm8Pyk.cn\n",
      "月价时前。你会回中腊一段会心斤,男,34,量时冲对,ZhrvOE@aoGQn.com\n",
      "很灌消面对月在1多惜肠到差2临整猪,女,37,因由势，,Sqe6QDg@kzLM.cn\n",
      "最差最格　认应势着差“只　的,女,75,着开右、,EzRHLELXw@lcrDnL.org\n",
      "量价旺需平”肉分不”，于份方的导前“,女,93,拉　,ubllB8@KAM.cn\n",
      "1腊处“提的，家，，消在能,女,58,以左元腊,eQGj7APb@U_G7.net\n",
      "等是费哲永受1有。周生费了下,男,42,了来,IJI5Uw46f@pwy.com\n",
      "趋会猪担心月。肉，于会为成猪,男,48,辉或,NHWHDIVUFVi@HDWm.com\n",
      "候还高会。完年10的是,女,52,牛时家，,dBMCqk@x4J.net\n",
      "上、，又散看　态据价栏1一，反能冲于到到,女,54,能猪,cT2K5Wo44@Tub.org\n",
      "是在趋　势售了时下面冯,女,93,肠估,dS2SoK7r3F@t0Zcs.org\n",
      "2分吗涨外年哲外于滑位声多整到消　腊任,男,68,会已,XtigXlDVJ@vlLiTz.org\n",
      "只　候惜成增部势售的,男,28,候势方,s9wDNP@QBOM.org\n",
      "的于、1估会势生月2个，牛度出　出,男,62,价上产,BhzVOd@tM7n9.cn\n",
      "，分出价阶照肉　候是候会，，元可上，时眼,女,26,拉势,Qv6guf1PJK@M4lRhL.cn\n",
      "。滑成涨在　求到性、的。腌猪份，计上，,女,65,可性,wZ7T3vb@qSIf.org\n",
      "斤势启性份的格产惜滑牛高升是能生这,女,74,份弹到处,_AipYF@HUkBSB.com\n",
      "尾方能猪度北哲出多，,女,76,于能于,9dGRH8wb@meebu.cn\n",
      "出时费家下处候旬价，,女,52,份肠,RajhJpA@HScIL.net\n",
      "南会多并月“。的以猪分状肉部,男,41,肉能时,NI7Pt8uHZ@58Xnw.org\n",
      "费影人一肉。数永部下的牛,女,76,多的猪集,l_DsslX_Y@UIOm.cn\n",
      "，的已月“每冲开并猪1公很栏,女,21,0位斤或,zoH1qJ1R8v@QNXg.cn\n",
      "时段南也段1了在份”或面,男,65,上季,WGNZz7tHDd@X9y7oo.org\n",
      "生拉，或反腊时散涨量分月月会右过受,男,37,能可,6AGlrWuFpCYb@W1sSe.cn\n",
      "头波成的了才，方楼牛　格的灌是,女,25,散一水猪,HQnZQGrOb_rK@6_2l.cn\n",
      "方1位、消旬　肉受期,女,42,业方方开,yzpHvilC@E_NO.cn\n",
      "可到上估1灌部此近，提腊势,女,38,1动梯,c1ZGuXmH1j@4kcmC_.com\n",
      "猪牛今中可会牛　价价,女,40,”格出，,gAx8pcMeAK@35dkZ.cn\n",
      "波？就阶猪格　求近，季,男,62,，的,jc5jlypwm@IS2.net\n",
      "斤弹会上会“　据处候据度北梯势。的,男,72,或1企下,on3fXDu@jmW.org\n",
      "能腊需上候企反时每平上高担认月,女,70,会位肉,IkdG3tyfwQ50@Spm.net\n",
      "不于”体生“、分面位出猪费1的和,男,56,到集“,IGv03P19@e_Q96c.cn\n",
      "生，临旬猪提候可1年消等份惜时,男,91,反？的,ltHoBRolO@pZx9o_.org\n",
      "2上月或家辉回的是部。吗声性,女,42,气斤期,berwlF@4uG.org\n",
      "数多此声担吗生应前格近南月生,女,95,。公,akmYhnEbns@TwR.org\n",
      "期前部。猪的和出看分会,男,53,阶分,VfjL_wNyp49@dmJz.org\n",
      "2趋动，是21的面猪哲目滑,男,25,今猪了可,AUgi4XoHox@yylWv.com\n",
      "为导或完肉惜照在”，业中多才，份拉,男,65,猪势能部,TLlT0r@XqH.cn\n",
      "　的放有能近　于刺数楼现是看,女,46,肉消腊底,lMEg4a@Q4OF.com\n",
      "过可市猪前旬，价影目猪年是猪看猪，肉“时,男,44,哲的费滑,8djHyip@FHBo.com\n",
      "高是也腌梯性，任，前格,男,95,　了,MGnhY7QIDj@nkq5Hq.net\n",
      "能多已高肉分走，栏的在很量气有格认是企处,女,34,售会　,cQq7ITxUYI@vw7m2.org\n",
      "2的猪，处前能左担冲方公的腌成天集的,女,63,猪右面水,ahe3haNM@KTDE.org\n",
      "等　此心于，价1方年2生肉和，,女,39,。，,8PM8mL@nlR.cn\n",
      "格底出份并，会是业时的多下开只　猪部,男,90,价份,j_XasIEiUFAd@kMm.org\n",
      "。上猪集是的中价你月腊处份只　，期于供,男,87,的务指,zmpW8aN@qnptU.org\n",
      "季到腌　前，部家个预体部梯位肉哲到的不肉,女,74,候弹,ezcNiO@i3NwZ.org\n",
      "人应1外状只也能费前栏价方部是肉,男,44,，能,WwOjWYmqj@Rl8IE4.net\n",
      "猪启着对的了可会高家不是供消压位的有永,男,76,势求格,h16uEMjehsvA@CtF.cn\n",
      "腊周担　方会很到2的,男,74,，计“是,t1SwYBcrjj@hPR.com\n",
      "处右月整了近和平才对肉,女,29,1。肉,YPp6SZ1jac@wOg.cn\n",
      "回压价月多目近多分为消近价走2的1位、1,男,21,格在价栏,tRaZa3dvS@_qM4.org\n",
      "格　能　据是份，此的出着和售时是完,女,76,了1,xr3dY4T@TNXse2.org\n",
      "集涨体份高现出面任前的，旬出　处,男,65,　，肉刺,PrS0Sdj@qNr.cn\n",
      "底，　企，高最哲了　近20,男,56,为已,QIaNLlbib@3CirjD.org\n",
      "等1势产多生吗受，　左猪每猪,女,25,预的,Y7G0d2G@HNujk.net\n",
      "前势需据到元势年。来月在的,男,26,或，,cF52HutO@a0Z.org\n",
      "家费，或元涨年，于续今、不是或滑能此、续,女,61,，现,9FZyD8JvPdD@L9S_3.org\n",
      "高的肠个旺部预上猪业了目近位，会,女,50,能司,xjoAjwflh@3E4V.com\n",
      "涨1　势肠消“，产肉上，到，猪上“,男,38,会体,B3QKdoqR@CCw.cn\n",
      "这方前费哲份份”，启底性,男,77,方是腌,g6zEOIfU8k@u4lvY.com\n",
      "启于趋司辉2，的拉腊能预了会,女,91,格现压来,FSBqwlm@iPBTN.net\n",
      "猪腊续的下方或在水另,女,26,为可,Al1wdER@nMBoe.cn\n"
     ]
    }
   ],
   "source": [
    "def getSex():\n",
    "    return choice(('男','女'))\n",
    "def getAge():\n",
    "    return str(randint(18,100))\n",
    "\n",
    "for i in range(100):\n",
    "    name=getNameOrAddress(1)\n",
    "    sex=getSex()\n",
    "    age=getAge()\n",
    "    address=getNameOrAddress(0)\n",
    "    email=getEmail()\n",
    "    print(name,sex,age,address,email,sep=',')"
   ]
  },
  {
   "cell_type": "code",
   "execution_count": 98,
   "metadata": {},
   "outputs": [
    {
     "name": "stdout",
     "output_type": "stream",
     "text": [
      "最长加号字串的长度为： 15\n",
      "最长减号字串的长度为： 18\n"
     ]
    }
   ],
   "source": [
    "from random import choices\n",
    "from re import findall\n",
    "\n",
    "text_1=''.join(choices('+-',k=100000))\n",
    "\n",
    "maxPlusLength=len(max(findall(r'\\++',text_1),key=len))\n",
    "maxMinusLength=len(max(findall(r'-+',text_1),key=len))\n",
    "\n",
    "print('最长加号字串的长度为：',maxPlusLength)\n",
    "print('最长减号字串的长度为：',maxMinusLength)"
   ]
  }
 ],
 "metadata": {
  "interpreter": {
   "hash": "ac59ebe37160ed0dfa835113d9b8498d9f09ceb179beaac4002f036b9467c963"
  },
  "kernelspec": {
   "display_name": "Python 3.9.6 64-bit",
   "language": "python",
   "name": "python3"
  },
  "language_info": {
   "codemirror_mode": {
    "name": "ipython",
    "version": 3
   },
   "file_extension": ".py",
   "mimetype": "text/x-python",
   "name": "python",
   "nbconvert_exporter": "python",
   "pygments_lexer": "ipython3",
   "version": "3.9.6"
  },
  "orig_nbformat": 4
 },
 "nbformat": 4,
 "nbformat_minor": 2
}
