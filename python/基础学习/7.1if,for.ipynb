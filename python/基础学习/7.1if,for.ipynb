{
 "cells": [
  {
   "cell_type": "code",
   "execution_count": 3,
   "metadata": {},
   "outputs": [
    {
     "name": "stdout",
     "output_type": "stream",
     "text": [
      "wrong score.must >0\n"
     ]
    }
   ],
   "source": [
    "#成绩等级if\n",
    "score=int(input('请输入一个百分制成绩:'))\n",
    "if score>100:\n",
    "    message='wrong score.must <= 100'\n",
    "elif score>=90:\n",
    "    message='A' \n",
    "elif score>=80:\n",
    "    message='B' \n",
    "elif score>=70:\n",
    "    message='C' \n",
    "elif score>=60:\n",
    "    message='D' \n",
    "elif score>=0:\n",
    "    message='F' \n",
    "else:\n",
    "    message='wrong score.must >0'\n",
    "print(message) "
   ]
  },
  {
   "cell_type": "code",
   "execution_count": 4,
   "metadata": {},
   "outputs": [
    {
     "name": "stdout",
     "output_type": "stream",
     "text": [
      "A\n"
     ]
    }
   ],
   "source": [
    "#成绩等级if-else\n",
    "score=int(input('请输入一个百分制成绩：'))\n",
    "degree='DCBAAF'\n",
    "if score>100 or score<0:\n",
    "    message='wrong score.must between 0 and 100'\n",
    "else:\n",
    "    index=(score-60)//10\n",
    "    if index>=0:\n",
    "        message=degree[index]\n",
    "    else:\n",
    "        message=degree[-1]\n",
    "print(message)"
   ]
  },
  {
   "cell_type": "code",
   "execution_count": 7,
   "metadata": {},
   "outputs": [
    {
     "name": "stdout",
     "output_type": "stream",
     "text": [
      "199\n",
      "197\n",
      "195\n",
      "193\n",
      "191\n",
      "189\n",
      "187\n",
      "185\n",
      "183\n",
      "181\n",
      "179\n",
      "177\n",
      "175\n",
      "173\n",
      "171\n",
      "169\n",
      "167\n",
      "165\n",
      "163\n",
      "161\n",
      "159\n",
      "157\n",
      "155\n",
      "153\n",
      "151\n",
      "149\n",
      "147\n",
      "145\n",
      "143\n",
      "141\n",
      "139\n",
      "137\n",
      "135\n",
      "133\n",
      "131\n",
      "129\n",
      "127\n",
      "125\n",
      "123\n",
      "121\n",
      "119\n",
      "117\n",
      "115\n",
      "113\n",
      "111\n",
      "109\n",
      "107\n",
      "105\n",
      "103\n",
      "101\n",
      "99\n",
      "97\n",
      "95\n",
      "93\n",
      "91\n",
      "89\n",
      "87\n",
      "85\n",
      "83\n",
      "81\n",
      "79\n",
      "77\n",
      "75\n",
      "73\n",
      "71\n",
      "69\n",
      "67\n",
      "65\n",
      "63\n",
      "61\n",
      "59\n",
      "57\n",
      "55\n",
      "53\n",
      "51\n",
      "49\n",
      "47\n",
      "45\n",
      "43\n",
      "41\n",
      "39\n",
      "37\n",
      "35\n",
      "33\n",
      "31\n",
      "29\n",
      "27\n",
      "25\n",
      "23\n",
      "21\n",
      "19\n",
      "17\n",
      "15\n",
      "13\n",
      "11\n",
      "9\n",
      "7\n",
      "5\n",
      "3\n"
     ]
    }
   ],
   "source": [
    "#200内素数\n",
    "for n in range(200,1,-1):\n",
    "    for i in range(2,n):\n",
    "        if n%i==0:\n",
    "            break\n",
    "        else:\n",
    "            print(n)\n",
    "            break"
   ]
  },
  {
   "cell_type": "code",
   "execution_count": 8,
   "metadata": {},
   "outputs": [
    {
     "name": "stdout",
     "output_type": "stream",
     "text": [
      "610\n"
     ]
    }
   ],
   "source": [
    "#斐波那契第一个大于500的数\n",
    "a,b=1,1\n",
    "while True:\n",
    "    a,b=b,a+b\n",
    "    if b>500:\n",
    "        print(b)\n",
    "        break\n",
    "    #else\n",
    "#else可以不写"
   ]
  },
  {
   "cell_type": "code",
   "execution_count": null,
   "metadata": {},
   "outputs": [],
   "source": [
    "#try:\n",
    "#else:\n",
    "#fanilly:\n",
    "   "
   ]
  },
  {
   "cell_type": "code",
   "execution_count": 2,
   "metadata": {},
   "outputs": [
    {
     "name": "stdout",
     "output_type": "stream",
     "text": [
      "a= [1, 2, 3, 4, 5]\n"
     ]
    }
   ],
   "source": [
    "a=[1,2,3,4,5]\n",
    "if a:\n",
    "    print('a=',a)\n"
   ]
  },
  {
   "cell_type": "code",
   "execution_count": 1,
   "metadata": {},
   "outputs": [
    {
     "name": "stdout",
     "output_type": "stream",
     "text": [
      "i=0:\tj=0:\tj=1:\tj=2:\tj=3:\t\n",
      "\n",
      "i=1:\tj=0:\tj=1:\tj=2:\tj=3:\t\n",
      "\n",
      "i=2:\tj=0:\tj=1:\tj=2:\tj=3:\t\n",
      "\n"
     ]
    }
   ],
   "source": [
    "for i in range(3):\n",
    "    print(f'i={i}',end=':\\t')\n",
    "    for j in range(4):\n",
    "        print(f'j={j}',end=':\\t')\n",
    "    print('\\n')"
   ]
  }
 ],
 "metadata": {
  "interpreter": {
   "hash": "ac59ebe37160ed0dfa835113d9b8498d9f09ceb179beaac4002f036b9467c963"
  },
  "kernelspec": {
   "display_name": "Python 3.9.6 64-bit",
   "language": "python",
   "name": "python3"
  },
  "language_info": {
   "codemirror_mode": {
    "name": "ipython",
    "version": 3
   },
   "file_extension": ".py",
   "mimetype": "text/x-python",
   "name": "python",
   "nbconvert_exporter": "python",
   "pygments_lexer": "ipython3",
   "version": "3.9.6"
  },
  "orig_nbformat": 4
 },
 "nbformat": 4,
 "nbformat_minor": 2
}
