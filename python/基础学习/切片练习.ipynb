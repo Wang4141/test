{
 "cells": [
  {
   "cell_type": "code",
   "execution_count": 28,
   "metadata": {},
   "outputs": [],
   "source": [
    "#现有列表\n",
    "product_list=[\"手机\",\"电脑\",\"鼠标垫\"]"
   ]
  },
  {
   "cell_type": "code",
   "execution_count": 29,
   "metadata": {},
   "outputs": [],
   "source": [
    "#添加商品\n",
    "product_list[len(product_list):]=[input('请输入添加的商品名称:')]"
   ]
  },
  {
   "cell_type": "code",
   "execution_count": 20,
   "metadata": {},
   "outputs": [
    {
     "name": "stdout",
     "output_type": "stream",
     "text": [
      "['手机', '电脑', '鼠标垫', '鼠标']\n"
     ]
    }
   ],
   "source": [
    "#显示列表中的所有商品\n",
    "print(product_list)"
   ]
  },
  {
   "cell_type": "code",
   "execution_count": 21,
   "metadata": {},
   "outputs": [],
   "source": [
    "#输入序号\n",
    "\n",
    "a=int(input(\"输入序号，显示指定的商品:\"))"
   ]
  },
  {
   "cell_type": "code",
   "execution_count": 17,
   "metadata": {},
   "outputs": [
    {
     "name": "stdout",
     "output_type": "stream",
     "text": [
      "手机\n"
     ]
    }
   ],
   "source": [
    "#显示指定的商品\n",
    "print(\"%s\"%(product_list[a-1]))"
   ]
  },
  {
   "cell_type": "code",
   "execution_count": 22,
   "metadata": {},
   "outputs": [],
   "source": [
    "#输入序号\n",
    "b=int(input(\"输入序号，删除指定的商品:\"))"
   ]
  },
  {
   "cell_type": "code",
   "execution_count": 30,
   "metadata": {},
   "outputs": [
    {
     "name": "stdout",
     "output_type": "stream",
     "text": [
      "删除的是鼠标垫\n",
      "['手机', '电脑', '鼠标']\n"
     ]
    }
   ],
   "source": [
    "#删除指定位置的商品\n",
    "print(\"删除的是\"  \"%s\"%(product_list[b-1]))\n",
    "product_list[b-1:b]=[]\n",
    "print(\"%s\"%(product_list))"
   ]
  },
  {
   "cell_type": "code",
   "execution_count": 23,
   "metadata": {},
   "outputs": [],
   "source": [
    "#输入要显示的物品\n",
    "c=input('请输入要显示的物品名称：')"
   ]
  },
  {
   "cell_type": "code",
   "execution_count": 24,
   "metadata": {},
   "outputs": [
    {
     "name": "stdout",
     "output_type": "stream",
     "text": [
      "手机的序号为1\n"
     ]
    }
   ],
   "source": [
    "print(\"%s的序号为%d\"%(c,product_list.index(c)+1))"
   ]
  },
  {
   "cell_type": "code",
   "execution_count": 31,
   "metadata": {},
   "outputs": [],
   "source": [
    "#输入要删除的物品名称\n",
    "d=input('请输入要删除的物品名称：')"
   ]
  },
  {
   "cell_type": "code",
   "execution_count": 32,
   "metadata": {},
   "outputs": [
    {
     "name": "stdout",
     "output_type": "stream",
     "text": [
      "要删除的物品 鼠标的序号为3\n",
      "['手机', '电脑']\n"
     ]
    }
   ],
   "source": [
    "e=product_list.index(d)\n",
    "\n",
    "product_list[e:e+1]=[]\n",
    "print(\"要删除的物品 %s的序号为%d\"%(d,e+1))\n",
    "print(product_list)"
   ]
  }
 ],
 "metadata": {
  "interpreter": {
   "hash": "ac59ebe37160ed0dfa835113d9b8498d9f09ceb179beaac4002f036b9467c963"
  },
  "kernelspec": {
   "display_name": "Python 3.9.6 64-bit",
   "name": "python3"
  },
  "language_info": {
   "codemirror_mode": {
    "name": "ipython",
    "version": 3
   },
   "file_extension": ".py",
   "mimetype": "text/x-python",
   "name": "python",
   "nbconvert_exporter": "python",
   "pygments_lexer": "ipython3",
   "version": "3.9.6"
  },
  "orig_nbformat": 4
 },
 "nbformat": 4,
 "nbformat_minor": 2
}
