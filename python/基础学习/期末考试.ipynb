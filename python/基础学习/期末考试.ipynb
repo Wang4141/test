{
 "cells": [
  {
   "cell_type": "code",
   "execution_count": 11,
   "metadata": {},
   "outputs": [
    {
     "name": "stdout",
     "output_type": "stream",
     "text": [
      "240600\n"
     ]
    }
   ],
   "source": [
    "from functools import reduce\n",
    "\n",
    "def sum_even(iterable):\n",
    "    liebiao=[]\n",
    "    sum=0\n",
    "    for i in iterable:\n",
    "        if i%2==0:\n",
    "            liebiao.append(i)\n",
    "    result=reduce(lambda sum,i:sum+i,liebiao)\n",
    "    return result\n",
    "\n",
    "iterable=range(200,1001)\n",
    "print(sum_even(iterable))\n"
   ]
  },
  {
   "cell_type": "code",
   "execution_count": 1,
   "metadata": {},
   "outputs": [
    {
     "name": "stdout",
     "output_type": "stream",
     "text": [
      "* \n",
      "\n",
      "* * \n",
      "\n",
      "* * * \n",
      "\n",
      "* * * * \n",
      "\n",
      "* * * * * \n",
      "\n"
     ]
    }
   ],
   "source": [
    "for i in range(6):#输出n列\n",
    "    for j in range(i):\n",
    "        print('*',end=' ')#中间空格\n",
    "        if (j==i-1):#第n列输出n个数\n",
    "            print('\\n')"
   ]
  },
  {
   "cell_type": "code",
   "execution_count": 21,
   "metadata": {},
   "outputs": [
    {
     "name": "stdout",
     "output_type": "stream",
     "text": [
      "张三:100\n",
      "李四:84\n",
      "王五:77\n",
      "赵六:58\n"
     ]
    }
   ],
   "source": [
    "score='张三:100\\n李四:84\\n王五:77\\n赵六:58'\n",
    "with open('score.txt','w',encoding='utf-8') as fp:\n",
    "    fp.write(score)\n",
    "with open('score.txt',encoding='utf-8') as fp:\n",
    "    print(fp.read())"
   ]
  },
  {
   "cell_type": "code",
   "execution_count": 4,
   "metadata": {},
   "outputs": [
    {
     "name": "stdout",
     "output_type": "stream",
     "text": [
      "F\n"
     ]
    }
   ],
   "source": [
    "def get_level(score):\n",
    "\n",
    "    if score>100:\n",
    "        message='wrong score.must <= 100'\n",
    "    elif score>=90:\n",
    "        message='A' \n",
    "    elif score>=80:\n",
    "        message='B' \n",
    "    elif score>=70:\n",
    "        message='C' \n",
    "    elif score>=60:\n",
    "        message='D' \n",
    "    elif score>=0:\n",
    "        message='F' \n",
    "    else:\n",
    "        message='wrong score.must >0'\n",
    "    return message\n",
    "\n",
    "\n",
    "score=int(input('请输入一个百分制成绩:'))\n",
    "print(get_level(score)) "
   ]
  },
  {
   "cell_type": "code",
   "execution_count": 6,
   "metadata": {},
   "outputs": [
    {
     "name": "stdout",
     "output_type": "stream",
     "text": [
      "大数据分析基础成绩单\n",
      "张三,A\n",
      "李四,B\n",
      "王五,C\n",
      "赵六,F\n"
     ]
    }
   ],
   "source": [
    "import re\n",
    "with open('score.txt',\"r\",encoding=\"utf-8\") as f:\n",
    "    a=f.read()\n",
    "    x = re.findall(\"\\d.+\", a)\n",
    "    for i in x:\n",
    "        a=a.replace(i,get_level(int(i)))\n",
    "        a=a.replace(':',',')\n",
    "    \n",
    "    print(\"大数据分析基础成绩单\")\n",
    "    print(a)"
   ]
  }
 ],
 "metadata": {
  "interpreter": {
   "hash": "ac59ebe37160ed0dfa835113d9b8498d9f09ceb179beaac4002f036b9467c963"
  },
  "kernelspec": {
   "display_name": "Python 3.9.6 64-bit",
   "language": "python",
   "name": "python3"
  },
  "language_info": {
   "codemirror_mode": {
    "name": "ipython",
    "version": 3
   },
   "file_extension": ".py",
   "mimetype": "text/x-python",
   "name": "python",
   "nbconvert_exporter": "python",
   "pygments_lexer": "ipython3",
   "version": "3.9.6"
  },
  "orig_nbformat": 4
 },
 "nbformat": 4,
 "nbformat_minor": 2
}
