{
 "cells": [
  {
   "cell_type": "code",
   "execution_count": 2,
   "metadata": {},
   "outputs": [
    {
     "name": "stdout",
     "output_type": "stream",
     "text": [
      "10\n",
      "50\n"
     ]
    }
   ],
   "source": [
    "def collatz(number):\n",
    "    if(number%2==0):#判断是否为偶数\n",
    "        return number//2\n",
    "    else :#判断是否为奇数\n",
    "        return number*3+1\n",
    "print(collatz(3))\n",
    "print(collatz(100))#输出相应的值"
   ]
  },
  {
   "cell_type": "code",
   "execution_count": 5,
   "metadata": {},
   "outputs": [
    {
     "name": "stdout",
     "output_type": "stream",
     "text": [
      "153\n",
      "370\n",
      "371\n",
      "407\n"
     ]
    }
   ],
   "source": [
    "def is_narcissistic(num):\n",
    "        r=map(lambda x:int(x)**3,str(num))#将数字拆分为3个\n",
    "        if sum(r)==num:#是水仙花数\n",
    "            return True\n",
    "        else:\n",
    "            return False #不是水仙花数\n",
    "for num in range(100,1000):\n",
    "    if(is_narcissistic(num)):\n",
    "        print(num)      #输出所有三位水仙花数\n"
   ]
  },
  {
   "cell_type": "code",
   "execution_count": 11,
   "metadata": {},
   "outputs": [
    {
     "name": "stdout",
     "output_type": "stream",
     "text": [
      "(5.0, [6, 7, 8, 9])\n"
     ]
    }
   ],
   "source": [
    "def cacluate(*args):\n",
    "    list1 = []   #创建空列表\n",
    "    sum = 0\n",
    "    for i in args:\n",
    "        sum += i\n",
    "    avg = sum / len(args)#第一个值为所有参数的平均值\n",
    "    for i in args:        #第二个值是大于平均值的所有数组成的列表\n",
    "        if i > avg:        #将第二个值移入空列表\n",
    "            list1.append(i)\n",
    "    return avg, list1    \n",
    "\n",
    "n = cacluate(1, 2, 3, 4, 5, 6, 7, 8, 9)#输出n的值\n",
    "print(n)\n",
    "    "
   ]
  },
  {
   "cell_type": "code",
   "execution_count": 13,
   "metadata": {},
   "outputs": [
    {
     "name": "stdout",
     "output_type": "stream",
     "text": [
      "3\n"
     ]
    }
   ],
   "source": [
    "def f(n):\n",
    "    #先把数字转换成字符串\n",
    "    n=str(n)\n",
    "    #计算字符串中每个数的平方\n",
    "    sum = 0\n",
    "    for item in n:\n",
    "        sum +=int(item) ** 2\n",
    "    return sum\n",
    "#接受变量k,a,b\n",
    "s = input()\n",
    "#存储整型k,a,b\n",
    "list = []\n",
    "for item in s.split():\n",
    "    list.append(int(item))\n",
    "k,a,b=list\n",
    "\n",
    "\n",
    "#3.判断是否满足条件\n",
    "count=0\n",
    "for i in range(a,b+1):\n",
    "    if k*f(i) == i:\n",
    "        count += 1\n",
    "print(count)\n"
   ]
  }
 ],
 "metadata": {
  "interpreter": {
   "hash": "ac59ebe37160ed0dfa835113d9b8498d9f09ceb179beaac4002f036b9467c963"
  },
  "kernelspec": {
   "display_name": "Python 3.9.6 64-bit",
   "language": "python",
   "name": "python3"
  },
  "language_info": {
   "codemirror_mode": {
    "name": "ipython",
    "version": 3
   },
   "file_extension": ".py",
   "mimetype": "text/x-python",
   "name": "python",
   "nbconvert_exporter": "python",
   "pygments_lexer": "ipython3",
   "version": "3.9.6"
  },
  "orig_nbformat": 4
 },
 "nbformat": 4,
 "nbformat_minor": 2
}
