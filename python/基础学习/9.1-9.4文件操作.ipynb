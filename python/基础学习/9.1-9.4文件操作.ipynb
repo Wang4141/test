{
 "cells": [
  {
   "cell_type": "code",
   "execution_count": null,
   "metadata": {},
   "outputs": [],
   "source": [
    "open(file,mode='r',buffering=-1,encoding=None,errors=None,newlines=None,closed=None,opener=None)"
   ]
  },
  {
   "cell_type": "code",
   "execution_count": null,
   "metadata": {},
   "outputs": [],
   "source": [
    "\n",
    "with open(filename,mode,encoding) as fp:"
   ]
  },
  {
   "cell_type": "code",
   "execution_count": null,
   "metadata": {},
   "outputs": [],
   "source": [
    "s='hello world \\n 比较快十点半 解放\\n 韩城时间块菜鸟仓采纳数\\n'\n",
    "with open('sample.txt','w',encoding='utf-8') as fp:\n",
    "    fp.write(s)\n",
    "with open('sample.txt',encoding='utf-8') as fp:\n",
    "    print(fp.read())   #输入读取并输出"
   ]
  },
  {
   "cell_type": "code",
   "execution_count": null,
   "metadata": {},
   "outputs": [],
   "source": [
    "with open('sample.txt') as fp:\n",
    "    for line in fp:\n",
    "        print(line) "
   ]
  },
  {
   "cell_type": "code",
   "execution_count": null,
   "metadata": {},
   "outputs": [],
   "source": [
    "text='njksdNVDNVnvrihvnivn  buicAFHFNcfeih','苍井空本次内测用'，'疤痕促进吧不回家阿布不是'\n",
    "longestline=max(text,key=lambda s:len(s.encode('gbk')))\n",
    "maxlength=len(longestline.encode('gbk'))\n",
    "with open('result.txt','w') as fp:\n",
    "    for index ,line in enumerate(text):\n",
    "        fp.write(line+''*(maxlength-len(line.encode('gbk')))+' #{}\\n'.format(index))\n"
   ]
  },
  {
   "cell_type": "code",
   "execution_count": null,
   "metadata": {},
   "outputs": [],
   "source": [
    "with open('news.txt','r',encoding='utf-8') as fp:\n",
    "    content=fp.read()\n",
    "print(content[100:150])"
   ]
  },
  {
   "cell_type": "code",
   "execution_count": null,
   "metadata": {},
   "outputs": [],
   "source": [
    "with open('data.txt') as fp:\n",
    "    data=fp.readlines()\n",
    "data.sort(key=int)\n",
    "with open('data_new.txt','w') as fp:\n",
    "    fp.writelines(data)\n"
   ]
  },
  {
   "cell_type": "code",
   "execution_count": 1,
   "metadata": {},
   "outputs": [
    {
     "data": {
      "text/plain": [
       "'[\"a\", \"b\", \"c\", \"d\", \"e\", \"f\"]'"
      ]
     },
     "execution_count": 1,
     "metadata": {},
     "output_type": "execute_result"
    }
   ],
   "source": [
    "import json \n",
    "json.dumps(['a','b','c','d','e','f'])"
   ]
  },
  {
   "cell_type": "code",
   "execution_count": 3,
   "metadata": {},
   "outputs": [
    {
     "data": {
      "text/plain": [
       "['a', 'b', 'c', 'd', 'e', 'f']"
      ]
     },
     "execution_count": 3,
     "metadata": {},
     "output_type": "execute_result"
    }
   ],
   "source": [
    "json.loads(_)"
   ]
  },
  {
   "cell_type": "code",
   "execution_count": 4,
   "metadata": {},
   "outputs": [
    {
     "data": {
      "text/plain": [
       "'{\"a\": 1, \"b\": 2, \"c\": 3}'"
      ]
     },
     "execution_count": 4,
     "metadata": {},
     "output_type": "execute_result"
    }
   ],
   "source": [
    "json.dumps({'a':1, 'b':2, 'c':3})"
   ]
  },
  {
   "cell_type": "code",
   "execution_count": 5,
   "metadata": {},
   "outputs": [
    {
     "data": {
      "text/plain": [
       "{'a': 1, 'b': 2, 'c': 3}"
      ]
     },
     "execution_count": 5,
     "metadata": {},
     "output_type": "execute_result"
    }
   ],
   "source": [
    "json.loads(_)"
   ]
  },
  {
   "cell_type": "code",
   "execution_count": 6,
   "metadata": {},
   "outputs": [
    {
     "data": {
      "text/plain": [
       "'[1, 2, 3, {\"4\": 5, \"6\": 7}]'"
      ]
     },
     "execution_count": 6,
     "metadata": {},
     "output_type": "execute_result"
    }
   ],
   "source": [
    "json.dumps([1,2,3,{'4':5,'6':7}])"
   ]
  },
  {
   "cell_type": "code",
   "execution_count": 8,
   "metadata": {},
   "outputs": [
    {
     "data": {
      "text/plain": [
       "'[1,2,3,{\"4\":5,\"6\":7}]'"
      ]
     },
     "execution_count": 8,
     "metadata": {},
     "output_type": "execute_result"
    }
   ],
   "source": [
    "json.dumps([1,2,3,{'4':5,'6':7}],separators=(',',':'))"
   ]
  },
  {
   "cell_type": "code",
   "execution_count": 9,
   "metadata": {},
   "outputs": [
    {
     "data": {
      "text/plain": [
       "[1, 2, 3, {'4': 5, '6': 7}]"
      ]
     },
     "execution_count": 9,
     "metadata": {},
     "output_type": "execute_result"
    }
   ],
   "source": [
    "json.loads(_)"
   ]
  },
  {
   "cell_type": "code",
   "execution_count": 12,
   "metadata": {},
   "outputs": [
    {
     "data": {
      "text/plain": [
       "'\"\\\\u5c71\\\\u4e1c\\\\u70df\\\\u53f0\"'"
      ]
     },
     "execution_count": 12,
     "metadata": {},
     "output_type": "execute_result"
    }
   ],
   "source": [
    "json.dumps('山东烟台')"
   ]
  },
  {
   "cell_type": "code",
   "execution_count": 13,
   "metadata": {},
   "outputs": [
    {
     "data": {
      "text/plain": [
       "'山东烟台'"
      ]
     },
     "execution_count": 13,
     "metadata": {},
     "output_type": "execute_result"
    }
   ],
   "source": [
    "json.loads(_)"
   ]
  },
  {
   "cell_type": "code",
   "execution_count": 14,
   "metadata": {},
   "outputs": [
    {
     "name": "stdout",
     "output_type": "stream",
     "text": [
      "《斯诺克速度快女的采集卡把女警不对健康号女嘉宾电视剧不出》、\n",
      "《荒野之春》\n",
      "\n",
      "《浮生六记》\n",
      "\n",
      "《青龙图腾》\n",
      "\n",
      "《提灯樱桃花》\n",
      "\n",
      "《镇魂》\n",
      "\n",
      "《天涯客》\n",
      "\n",
      "《将进酒》\n",
      "\n",
      "《碎玉投珠》\n",
      "\n",
      "《权宦》\n"
     ]
    }
   ],
   "source": [
    "s='''《斯诺克速度快女的采集卡把女警不对健康号女嘉宾电视剧不出》、\n",
    "《荒野之春》\n",
    "\n",
    "《浮生六记》\n",
    "\n",
    "《青龙图腾》\n",
    "\n",
    "《提灯樱桃花》\n",
    "\n",
    "《镇魂》\n",
    "\n",
    "《天涯客》\n",
    "\n",
    "《将进酒》\n",
    "\n",
    "《碎玉投珠》\n",
    "\n",
    "《权宦》'''\n",
    "with open('text.txt','w') as fp:\n",
    "    json.dump(s,fp)\n",
    "with open('text.txt') as fp:\n",
    "    print(json.load(fp))"
   ]
  }
 ],
 "metadata": {
  "interpreter": {
   "hash": "ac59ebe37160ed0dfa835113d9b8498d9f09ceb179beaac4002f036b9467c963"
  },
  "kernelspec": {
   "display_name": "Python 3.9.6 64-bit",
   "language": "python",
   "name": "python3"
  },
  "language_info": {
   "codemirror_mode": {
    "name": "ipython",
    "version": 3
   },
   "file_extension": ".py",
   "mimetype": "text/x-python",
   "name": "python",
   "nbconvert_exporter": "python",
   "pygments_lexer": "ipython3",
   "version": "3.9.6"
  },
  "orig_nbformat": 4
 },
 "nbformat": 4,
 "nbformat_minor": 2
}
