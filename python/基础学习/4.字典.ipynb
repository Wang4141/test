{
 "cells": [
  {
   "cell_type": "code",
   "execution_count": null,
   "metadata": {},
   "outputs": [],
   "source": [
    "adict = {\"IP\": \"127.0.0.1\", \"port\": 80}\n"
   ]
  },
  {
   "cell_type": "code",
   "execution_count": null,
   "metadata": {},
   "outputs": [],
   "source": [
    "adict\n"
   ]
  },
  {
   "cell_type": "code",
   "execution_count": null,
   "metadata": {},
   "outputs": [],
   "source": [
    "x = dict()\n"
   ]
  },
  {
   "cell_type": "code",
   "execution_count": null,
   "metadata": {},
   "outputs": [],
   "source": [
    "x = {}\n"
   ]
  },
  {
   "cell_type": "code",
   "execution_count": null,
   "metadata": {},
   "outputs": [],
   "source": [
    "keys = [\"a\", \"b\", \"c\", \"d\"]\n"
   ]
  },
  {
   "cell_type": "code",
   "execution_count": null,
   "metadata": {},
   "outputs": [],
   "source": [
    "values = [1, 2, 3, 4]\n"
   ]
  },
  {
   "cell_type": "code",
   "execution_count": null,
   "metadata": {},
   "outputs": [],
   "source": [
    "adict = dict(zip(keys, values))\n"
   ]
  },
  {
   "cell_type": "code",
   "execution_count": null,
   "metadata": {},
   "outputs": [],
   "source": [
    "adict\n"
   ]
  },
  {
   "cell_type": "code",
   "execution_count": null,
   "metadata": {},
   "outputs": [],
   "source": [
    "bdict = dict(name=\"shang\", age=18)\n",
    "bdict\n"
   ]
  },
  {
   "cell_type": "code",
   "execution_count": null,
   "metadata": {},
   "outputs": [],
   "source": [
    "print(keys, values, sep=\"\\n\")\n"
   ]
  },
  {
   "cell_type": "code",
   "execution_count": null,
   "metadata": {},
   "outputs": [],
   "source": [
    "cdict = dict.fromkeys([\"name\", \"age\", \"sex\"])\n",
    "cdict\n"
   ]
  },
  {
   "cell_type": "code",
   "execution_count": null,
   "metadata": {},
   "outputs": [],
   "source": [
    "del cdict\n"
   ]
  },
  {
   "cell_type": "code",
   "execution_count": null,
   "metadata": {},
   "outputs": [],
   "source": [
    "words = [\"Hello\", \"python\", \"world\"]\n"
   ]
  },
  {
   "cell_type": "code",
   "execution_count": null,
   "metadata": {},
   "outputs": [],
   "source": [
    "{word: word.upper() for word in words}\n"
   ]
  },
  {
   "cell_type": "code",
   "execution_count": null,
   "metadata": {},
   "outputs": [],
   "source": [
    "ddict = {\"age\": 39, \"name\": \"wang\", \"sex\": \"male\"}\n"
   ]
  },
  {
   "cell_type": "code",
   "execution_count": null,
   "metadata": {},
   "outputs": [],
   "source": [
    "ddict[\"age\"]\n"
   ]
  },
  {
   "cell_type": "code",
   "execution_count": null,
   "metadata": {},
   "outputs": [],
   "source": [
    "ddict[\"address\"]\n"
   ]
  },
  {
   "cell_type": "code",
   "execution_count": null,
   "metadata": {},
   "outputs": [],
   "source": [
    "if \"adress\" in ddict:\n",
    "    print(ddict[\"adress\"])\n",
    "else:\n",
    "    print(\"Error\")\n"
   ]
  },
  {
   "cell_type": "code",
   "execution_count": null,
   "metadata": {},
   "outputs": [],
   "source": [
    "try:\n",
    "    print(ddict[\"height\"])\n",
    "except:\n",
    "    print(\"指定的键不存在，请检查\")\n"
   ]
  },
  {
   "cell_type": "code",
   "execution_count": null,
   "metadata": {},
   "outputs": [],
   "source": [
    "ddict.get('age')"
   ]
  },
  {
   "cell_type": "code",
   "execution_count": null,
   "metadata": {},
   "outputs": [],
   "source": [
    "ddict.get('wu','不存在')"
   ]
  },
  {
   "cell_type": "code",
   "execution_count": null,
   "metadata": {},
   "outputs": [],
   "source": [
    "sock={'IP':'127.0.0.1','port':80}\n",
    "list(sock)"
   ]
  },
  {
   "cell_type": "code",
   "execution_count": null,
   "metadata": {},
   "outputs": [],
   "source": [
    "tuple(sock.items())"
   ]
  },
  {
   "cell_type": "code",
   "execution_count": null,
   "metadata": {},
   "outputs": [],
   "source": [
    "for value in sock.values():\n",
    "    print(value)"
   ]
  },
  {
   "cell_type": "code",
   "execution_count": null,
   "metadata": {},
   "outputs": [],
   "source": [
    "80 in sock\n"
   ]
  },
  {
   "cell_type": "code",
   "execution_count": null,
   "metadata": {},
   "outputs": [],
   "source": [
    "80 in sock.keys()"
   ]
  },
  {
   "cell_type": "code",
   "execution_count": null,
   "metadata": {},
   "outputs": [],
   "source": [
    "80 in sock.values()"
   ]
  },
  {
   "cell_type": "code",
   "execution_count": null,
   "metadata": {},
   "outputs": [],
   "source": [
    "sock1={'IP':'127.0.0.1','port':80}"
   ]
  },
  {
   "cell_type": "code",
   "execution_count": null,
   "metadata": {},
   "outputs": [],
   "source": [
    "sock1['port']=8080\n",
    "sock1['protocol']='TCP'\n",
    "sock1"
   ]
  },
  {
   "cell_type": "code",
   "execution_count": null,
   "metadata": {},
   "outputs": [],
   "source": [
    "sock2={'IP':'127.0.0.1','port':80}\n",
    "sock2.update({'IP':'192.168.1.1','protocol':'TCP'})\n",
    "sock2"
   ]
  },
  {
   "cell_type": "code",
   "execution_count": null,
   "metadata": {},
   "outputs": [],
   "source": [
    "sock2.popitem()"
   ]
  },
  {
   "cell_type": "code",
   "execution_count": null,
   "metadata": {},
   "outputs": [],
   "source": [
    "sock2.pop('IP')"
   ]
  },
  {
   "cell_type": "code",
   "execution_count": null,
   "metadata": {},
   "outputs": [],
   "source": [
    "del sock2['port']\n",
    "sock2"
   ]
  },
  {
   "cell_type": "code",
   "execution_count": 1,
   "metadata": {},
   "outputs": [
    {
     "name": "stdout",
     "output_type": "stream",
     "text": [
      "0:91\n",
      "1:113\n",
      "2:109\n",
      "3:117\n",
      "4:93\n",
      "5:94\n",
      "6:100\n",
      "7:93\n",
      "8:92\n",
      "9:98\n"
     ]
    }
   ],
   "source": [
    "from string import digits\n",
    "from random import choice\n",
    "z=''.join(choice(digits) for i in range(1000))\n",
    "result={}\n",
    "for ch in z:\n",
    "    result[ch]=result.get(ch,0)+1\n",
    "for digit,fre in sorted(result.items()):\n",
    "    print(digit,fre,sep=':')"
   ]
  },
  {
   "cell_type": "code",
   "execution_count": 2,
   "metadata": {},
   "outputs": [
    {
     "data": {
      "text/plain": [
       "Counter({2: 6, 1: 13, 9: 13, 7: 15, 5: 8, 3: 9, 8: 9, 4: 8, 0: 10, 6: 9})"
      ]
     },
     "execution_count": 2,
     "metadata": {},
     "output_type": "execute_result"
    }
   ],
   "source": [
    "import collections\n",
    "import random\n",
    "data=random.choices(range(10),k=100)\n",
    "freq=collections.Counter(data)\n",
    "freq"
   ]
  },
  {
   "cell_type": "code",
   "execution_count": 3,
   "metadata": {},
   "outputs": [
    {
     "data": {
      "text/plain": [
       "[(7, 15)]"
      ]
     },
     "execution_count": 3,
     "metadata": {},
     "output_type": "execute_result"
    }
   ],
   "source": [
    "freq.most_common(1)"
   ]
  },
  {
   "cell_type": "code",
   "execution_count": 4,
   "metadata": {},
   "outputs": [],
   "source": [
    "from random import randrange\n",
    "data={'user'+str(i):{'film'+str(randrange(1,15)):randrange(1,16) \n",
    "                      for j in range(randrange(3,10))}\n",
    "                       for i in range(10)}"
   ]
  },
  {
   "cell_type": "code",
   "execution_count": 5,
   "metadata": {},
   "outputs": [
    {
     "name": "stdout",
     "output_type": "stream",
     "text": [
      "dict_keys(['film5', 'film2', 'film10', 'film7', 'film3'])\n"
     ]
    }
   ],
   "source": [
    "user={'film'+str(randrange(1,15)):randrange(1,6) for i in range(5)}\n",
    "user\n",
    "print(user.keys())"
   ]
  },
  {
   "cell_type": "code",
   "execution_count": 7,
   "metadata": {},
   "outputs": [],
   "source": [
    " f=lambda item:(-len(item[1].keys()&user),\n",
    "                sum((item[1].get(film)-user.get(film))**2 \n",
    "                    for film in user.keys()&item[1].keys()))\n",
    "similarUser,films=min(data.items(),key=f) "
   ]
  },
  {
   "cell_type": "code",
   "execution_count": 8,
   "metadata": {},
   "outputs": [
    {
     "name": "stdout",
     "output_type": "stream",
     "text": [
      "=======================已知数据=======================\n"
     ]
    }
   ],
   "source": [
    "print('已知数据'.center(50,'='))"
   ]
  },
  {
   "cell_type": "code",
   "execution_count": 11,
   "metadata": {},
   "outputs": [
    {
     "name": "stdout",
     "output_type": "stream",
     "text": [
      "1,0,('user0', {'film6': 10, 'film14': 1, 'film5': 5})\n",
      "3,106,('user1', {'film13': 1, 'film3': 5, 'film2': 13, 'film7': 6, 'film9': 1})\n",
      "2,170,('user2', {'film4': 12, 'film9': 14, 'film3': 9, 'film12': 7, 'film7': 13})\n",
      "1,16,('user3', {'film4': 4, 'film10': 7, 'film1': 9})\n",
      "3,318,('user4', {'film12': 14, 'film3': 9, 'film1': 12, 'film6': 15, 'film7': 15, 'film2': 14, 'film11': 15})\n",
      "1,1,('user5', {'film3': 3, 'film11': 15, 'film8': 14, 'film6': 4})\n",
      "2,10,('user6', {'film3': 3, 'film1': 3, 'film10': 6})\n",
      "2,121,('user7', {'film12': 15, 'film3': 2, 'film10': 14})\n",
      "3,41,('user8', {'film5': 9, 'film10': 7, 'film4': 15, 'film11': 1, 'film2': 1})\n",
      "2,145,('user9', {'film12': 11, 'film4': 7, 'film9': 5, 'film3': 14, 'film6': 8, 'film2': 3, 'film11': 8})\n",
      "===当前用户===\n",
      "{'film5': 5, 'film2': 4, 'film10': 3, 'film7': 2, 'film3': 2}\n",
      "=最像似用户，电影=\n",
      "user8:{'film5': 9, 'film10': 7, 'film4': 15, 'film11': 1, 'film2': 1}\n",
      "===推荐电影===\n",
      "film4\n"
     ]
    }
   ],
   "source": [
    "for item in data.items():\n",
    "    print(len(item[1].keys()&user.keys()),\n",
    "            sum(((item[1].get(film)-user.get(film))**2 \n",
    "                    for film in user.keys()&item[1].keys())),item,sep=',')\n",
    "print('当前用户'.center(10,'='))\n",
    "print(user)\n",
    "print('最像似用户，电影'.center(10,'='))\n",
    "print(similarUser,films,sep=':')\n",
    "print('推荐电影'.center(10,'='))\n",
    "print(max(films.keys()-user.keys(),key=lambda film:films[film]))"
   ]
  }
 ],
 "metadata": {
  "interpreter": {
   "hash": "ac59ebe37160ed0dfa835113d9b8498d9f09ceb179beaac4002f036b9467c963"
  },
  "kernelspec": {
   "display_name": "Python 3.9.6 64-bit",
   "name": "python3"
  },
  "language_info": {
   "codemirror_mode": {
    "name": "ipython",
    "version": 3
   },
   "file_extension": ".py",
   "mimetype": "text/x-python",
   "name": "python",
   "nbconvert_exporter": "python",
   "pygments_lexer": "ipython3",
   "version": "3.9.6"
  },
  "orig_nbformat": 4
 },
 "nbformat": 4,
 "nbformat_minor": 2
}
