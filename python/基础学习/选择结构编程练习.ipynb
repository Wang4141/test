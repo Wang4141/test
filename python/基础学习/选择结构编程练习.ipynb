{
 "cells": [
  {
   "cell_type": "code",
   "execution_count": 13,
   "metadata": {},
   "outputs": [
    {
     "name": "stdout",
     "output_type": "stream",
     "text": [
      "可以判断输入字符的类型\n",
      "其他字符\n"
     ]
    }
   ],
   "source": [
    "#判断字符\n",
    "print(\"可以判断输入字符的类型\")\n",
    "sym=input(\"请输入一个字符\")\n",
    "if('a'<=sym<='z' or 'A'<=sym<='Z'):\n",
    "    print(\"你输入的是英文字母\")\n",
    "elif('0'<sym<'9'):\n",
    "     print(\"你输入的是数字\")\n",
    "else:\n",
    "    print(\"其他字符\")"
   ]
  },
  {
   "cell_type": "code",
   "execution_count": 1,
   "metadata": {},
   "outputs": [
    {
     "name": "stdout",
     "output_type": "stream",
     "text": [
      "70.9\n"
     ]
    }
   ],
   "source": [
    "#出租车计费\n",
    "distance=int(input(\"输入行程的总里程\"))\n",
    "if(0<distance<=3):\n",
    "    fee=10\n",
    "    print(fee)\n",
    "elif(3<distance<=10):\n",
    "    fee=10+(distance-3)*1.2\n",
    "    print(fee)\n",
    "else:\n",
    "    fee=10+7*1.2+(distance-10)*1.5\n",
    "    print(fee)"
   ]
  }
 ],
 "metadata": {
  "interpreter": {
   "hash": "ac59ebe37160ed0dfa835113d9b8498d9f09ceb179beaac4002f036b9467c963"
  },
  "kernelspec": {
   "display_name": "Python 3.9.6 64-bit",
   "language": "python",
   "name": "python3"
  },
  "language_info": {
   "codemirror_mode": {
    "name": "ipython",
    "version": 3
   },
   "file_extension": ".py",
   "mimetype": "text/x-python",
   "name": "python",
   "nbconvert_exporter": "python",
   "pygments_lexer": "ipython3",
   "version": "3.9.6"
  },
  "orig_nbformat": 4
 },
 "nbformat": 4,
 "nbformat_minor": 2
}
