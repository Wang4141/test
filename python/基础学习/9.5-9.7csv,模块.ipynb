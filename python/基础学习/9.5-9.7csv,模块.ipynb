{
 "cells": [
  {
   "cell_type": "code",
   "execution_count": 3,
   "metadata": {},
   "outputs": [
    {
     "name": "stdout",
     "output_type": "stream",
     "text": [
      "['日期', '销量']\n",
      "['2021-12-29', '337']\n",
      "['2021-12-30', '363']\n",
      "['2021-12-31', '373']\n",
      "['2022-01-01', '415']\n",
      "['2022-01-02', '388']\n",
      "['2022-01-03', '429']\n",
      "['2022-01-04', '341']\n",
      "['2022-01-05', '369']\n",
      "['2022-01-06', '370']\n",
      "['2022-01-07', '419']\n",
      "['2022-01-08', '426']\n",
      "['2022-01-09', '415']\n",
      "['2022-01-10', '382']\n",
      "['2022-01-11', '442']\n",
      "['2022-01-12', '433']\n",
      "['2022-01-13', '466']\n",
      "['2022-01-14', '448']\n",
      "['2022-01-15', '438']\n",
      "['2022-01-16', '455']\n",
      "['2022-01-17', '484']\n",
      "['2022-01-18', '465']\n",
      "['2022-01-19', '453']\n",
      "['2022-01-20', '487']\n",
      "['2022-01-21', '474']\n",
      "['2022-01-22', '516']\n",
      "['2022-01-23', '441']\n",
      "['2022-01-24', '481']\n",
      "['2022-01-25', '503']\n",
      "['2022-01-26', '520']\n"
     ]
    }
   ],
   "source": [
    "import csv\n",
    "import random\n",
    "import datetime\n",
    "\n",
    "fn='data.csv'\n",
    "#newline：不会插入空行\n",
    "with open(fn,'w',newline='') as fp:\n",
    "    wr=csv.writer(fp)\n",
    "    wr.writerow(['日期','销量'])\n",
    "\n",
    "    startdate=datetime.date.today()\n",
    "\n",
    "    for i in range(1,30):\n",
    "        amount=300+i*5+random.randrange(100)\n",
    "        wr.writerow([str(startdate),amount])\n",
    "        startdate=startdate+datetime.timedelta(days=1)\n",
    "\n",
    "with open(fn) as fp:\n",
    "    rd=csv.reader(fp)\n",
    "    for line in rd:\n",
    "        print(line)"
   ]
  },
  {
   "cell_type": "code",
   "execution_count": 6,
   "metadata": {},
   "outputs": [],
   "source": [
    "import pickle\n",
    "\n",
    "i=13000000\n",
    "a=99.078\n",
    "s='中国aasf'\n",
    "lst=[[1,2,3],[4,5,6],[7,8,9]]\n",
    "tu=(-5,10,8)\n",
    "coll={4,5,6,7,8,9}\n",
    "dic={'a':'apple','b':'banana','c':'cheese','d':'donder'}\n",
    "\n",
    "class Test:\n",
    "    def __init__(self,value):\n",
    "        self.value=value\n",
    "    def __str__(self):\n",
    "        return str(self.value)\n",
    "t=Test(3)\n",
    "\n",
    "data=(i,a,s,lst,tu,coll,dic,t)\n",
    "\n",
    "with open('sample_pickle.dat','wb') as f:\n",
    "    try:\n",
    "        pickle.dump(len(data),f)\n",
    "        for item in data:\n",
    "            pickle.dump(item,f)\n",
    "    except:\n",
    "        print('写文件异常')"
   ]
  },
  {
   "cell_type": "code",
   "execution_count": 7,
   "metadata": {},
   "outputs": [
    {
     "name": "stdout",
     "output_type": "stream",
     "text": [
      "13000000\n",
      "99.078\n",
      "中国aasf\n",
      "[[1, 2, 3], [4, 5, 6], [7, 8, 9]]\n",
      "(-5, 10, 8)\n",
      "{4, 5, 6, 7, 8, 9}\n",
      "{'a': 'apple', 'b': 'banana', 'c': 'cheese', 'd': 'donder'}\n",
      "3\n"
     ]
    }
   ],
   "source": [
    "import pickle \n",
    "with open('sample_pickle.dat','rb') as f:\n",
    "    n=pickle.load(f)\n",
    "    for i in range(n):\n",
    "        x=pickle.load(f)\n",
    "        print(x)"
   ]
  },
  {
   "cell_type": "code",
   "execution_count": 10,
   "metadata": {},
   "outputs": [],
   "source": [
    "import struct \n",
    "n=99**9\n",
    "x=3.14e15\n",
    "b=True\n",
    "s='人生苦短，我用python'\n",
    "\n",
    "sn=struct.pack('qd?',n,x,b)\n",
    "with open('sample_struct.dat','wb') as f:\n",
    "    f.write(sn)\n",
    "    f.write(s.encode('gbk'))"
   ]
  },
  {
   "cell_type": "code",
   "execution_count": 11,
   "metadata": {},
   "outputs": [
    {
     "name": "stdout",
     "output_type": "stream",
     "text": [
      "n= 913517247483640899 x= 3140000000000000.0 b1= True\n",
      "s= 人生苦短，我用python\n"
     ]
    }
   ],
   "source": [
    "with open('sample_struct.dat','rb') as f:\n",
    "    sn=f.read(17)\n",
    "    n,x,b1=struct.unpack('qd?',sn)\n",
    "    print('n=',n,'x=',x,'b1=',b1)\n",
    "    s=f.read(22).decode('gbk')\n",
    "    print('s=',s)\n",
    "    "
   ]
  },
  {
   "cell_type": "code",
   "execution_count": 12,
   "metadata": {},
   "outputs": [
    {
     "data": {
      "text/plain": [
       "'d:\\\\python\\\\基础学习'"
      ]
     },
     "execution_count": 12,
     "metadata": {},
     "output_type": "execute_result"
    }
   ],
   "source": [
    "import os\n",
    "os.getcwd()#返回当前工作文件夹\n"
   ]
  },
  {
   "cell_type": "code",
   "execution_count": 13,
   "metadata": {},
   "outputs": [],
   "source": [
    "os.mkdir('mkdir')"
   ]
  },
  {
   "cell_type": "code",
   "execution_count": 14,
   "metadata": {},
   "outputs": [],
   "source": [
    "os.rmdir('mkdir')"
   ]
  },
  {
   "cell_type": "code",
   "execution_count": 15,
   "metadata": {},
   "outputs": [],
   "source": [
    "os.startfile('notepad.exe')"
   ]
  },
  {
   "cell_type": "code",
   "execution_count": 17,
   "metadata": {},
   "outputs": [
    {
     "name": "stdout",
     "output_type": "stream",
     "text": [
      "3.2列表推导式.ipynb\n",
      "3.3元组与生成器.ipynb\n",
      "3.4切片.ipynb\n",
      "3.5序列解包.ipynb\n",
      "4.字典.ipynb\n",
      "5.集合.ipynb\n",
      "6.1字符串.ipynb\n",
      "6.2-6.3.7字符串.ipynb\n",
      "6.3.8-6.3.13.ipynb\n",
      "6.3字符串切片.ipynb\n",
      "6.3数据压缩与解压缩.ipynb\n",
      "6.4正则表达式.ipynb\n",
      "6.5中文拼音处理.ipynb\n",
      "6.5分词.ipynb\n",
      "6.6应用案例.ipynb\n",
      "7.1if,for.ipynb\n",
      "7.2应用.ipynb\n",
      "8.1-8.6定义函数.ipynb\n",
      "9.1-9.4文件操作.ipynb\n",
      "9.5-9.7csv,模块.ipynb\n",
      "jxdz.ipynb\n",
      "lambda表达式作业.ipynb\n",
      "函数10.8.ipynb\n",
      "函数基础练习.ipynb\n",
      "切片练习.ipynb\n",
      "列表和元组.ipynb\n",
      "列表编程练习.ipynb\n",
      "单元测试1.ipynb\n",
      "字典编程练习.ipynb\n",
      "常用内置函数.ipynb\n",
      "常用内置对象与运算符.ipynb\n",
      "开发环境搭建.ipynb\n",
      "循环结构编程.ipynb\n",
      "标准库与扩展库的导入与使用.ipynb\n",
      "输入输出函数.ipynb\n",
      "选择结构编程练习.ipynb\n",
      "集合编程练习.ipynb\n"
     ]
    }
   ],
   "source": [
    "for fn in os.listdir():\n",
    "    if fn.endswith('.ipynb'):\n",
    "        print(fn)"
   ]
  },
  {
   "cell_type": "code",
   "execution_count": 18,
   "metadata": {},
   "outputs": [
    {
     "data": {
      "text/plain": [
       "True"
      ]
     },
     "execution_count": 18,
     "metadata": {},
     "output_type": "execute_result"
    }
   ],
   "source": [
    "import os.path as path\n",
    "fileName = r'C:\\Program Files\\Python39\\python.exe'\n",
    "path.isfile(fileName)\n"
   ]
  },
  {
   "cell_type": "code",
   "execution_count": 19,
   "metadata": {},
   "outputs": [
    {
     "data": {
      "text/plain": [
       "False"
      ]
     },
     "execution_count": 19,
     "metadata": {},
     "output_type": "execute_result"
    }
   ],
   "source": [
    "path.isdir(fileName)"
   ]
  },
  {
   "cell_type": "code",
   "execution_count": 20,
   "metadata": {},
   "outputs": [
    {
     "data": {
      "text/plain": [
       "101608"
      ]
     },
     "execution_count": 20,
     "metadata": {},
     "output_type": "execute_result"
    }
   ],
   "source": [
    "path.getsize(fileName)"
   ]
  },
  {
   "cell_type": "code",
   "execution_count": 21,
   "metadata": {},
   "outputs": [
    {
     "data": {
      "text/plain": [
       "'python.exe'"
      ]
     },
     "execution_count": 21,
     "metadata": {},
     "output_type": "execute_result"
    }
   ],
   "source": [
    "path.basename(fileName)"
   ]
  },
  {
   "cell_type": "code",
   "execution_count": 22,
   "metadata": {},
   "outputs": [
    {
     "data": {
      "text/plain": [
       "'C:\\\\Program Files\\\\Python39'"
      ]
     },
     "execution_count": 22,
     "metadata": {},
     "output_type": "execute_result"
    }
   ],
   "source": [
    "path.dirname(fileName)"
   ]
  },
  {
   "cell_type": "code",
   "execution_count": 24,
   "metadata": {},
   "outputs": [
    {
     "data": {
      "text/plain": [
       "('C:\\\\Program Files\\\\Python39\\\\python', '.exe')"
      ]
     },
     "execution_count": 24,
     "metadata": {},
     "output_type": "execute_result"
    }
   ],
   "source": [
    "path.splitext(fileName)"
   ]
  },
  {
   "cell_type": "code",
   "execution_count": 25,
   "metadata": {},
   "outputs": [
    {
     "data": {
      "text/plain": [
       "'d:\\\\python\\\\基础学习'"
      ]
     },
     "execution_count": 25,
     "metadata": {},
     "output_type": "execute_result"
    }
   ],
   "source": [
    "import os\n",
    "os.getcwd()"
   ]
  },
  {
   "cell_type": "code",
   "execution_count": 26,
   "metadata": {},
   "outputs": [
    {
     "data": {
      "text/plain": [
       "'d:\\\\python\\\\基础学习\\\\python.exe'"
      ]
     },
     "execution_count": 26,
     "metadata": {},
     "output_type": "execute_result"
    }
   ],
   "source": [
    "os.path.join(os.getcwd(), 'python.exe')"
   ]
  },
  {
   "cell_type": "code",
   "execution_count": 28,
   "metadata": {},
   "outputs": [
    {
     "data": {
      "text/plain": [
       "1624867724.0"
      ]
     },
     "execution_count": 28,
     "metadata": {},
     "output_type": "execute_result"
    }
   ],
   "source": [
    "import time \n",
    "path.getctime(fileName)\n"
   ]
  },
  {
   "cell_type": "code",
   "execution_count": 29,
   "metadata": {},
   "outputs": [
    {
     "data": {
      "text/plain": [
       "'2021-06-28 16:08:44'"
      ]
     },
     "execution_count": 29,
     "metadata": {},
     "output_type": "execute_result"
    }
   ],
   "source": [
    "time.strftime('%Y-%m-%d %H:%M:%S',time.localtime(path.getctime(fileName)))"
   ]
  },
  {
   "cell_type": "code",
   "execution_count": 35,
   "metadata": {},
   "outputs": [
    {
     "name": "stdout",
     "output_type": "stream",
     "text": [
      "D:/python\\.vscode\n",
      "D:/python\\.vscode\\launch.json\n",
      "D:/python\\.vscode\\settings.json\n",
      "D:/python\\.vscode\\tasks.json\n",
      "D:/python\\test\n",
      "D:/python\\test\\cookies-1.sqlite\n",
      "D:/python\\test\\cookies.sqlite\n",
      "D:/python\\test\\debug.ipynb\n",
      "D:/python\\test\\hello.ipynb\n",
      "D:/python\\test\\hello.py\n",
      "D:/python\\test\\jxdz.py\n",
      "D:/python\\test\\ssp.py\n",
      "D:/python\\test\\standardplot.py\n",
      "D:/python\\基础学习\n",
      "D:/python\\基础学习\\3.2列表推导式.ipynb\n",
      "D:/python\\基础学习\\3.3元组与生成器.ipynb\n",
      "D:/python\\基础学习\\3.4切片.ipynb\n",
      "D:/python\\基础学习\\3.5序列解包.ipynb\n",
      "D:/python\\基础学习\\4.字典.ipynb\n",
      "D:/python\\基础学习\\5.集合.ipynb\n",
      "D:/python\\基础学习\\6.1字符串.ipynb\n",
      "D:/python\\基础学习\\6.2-6.3.7字符串.ipynb\n",
      "D:/python\\基础学习\\6.3.8-6.3.13.ipynb\n",
      "D:/python\\基础学习\\6.3字符串切片.ipynb\n",
      "D:/python\\基础学习\\6.3数据压缩与解压缩.ipynb\n",
      "D:/python\\基础学习\\6.4正则表达式.ipynb\n",
      "D:/python\\基础学习\\6.5中文拼音处理.ipynb\n",
      "D:/python\\基础学习\\6.5分词.ipynb\n",
      "D:/python\\基础学习\\6.6应用案例.ipynb\n",
      "D:/python\\基础学习\\7.1if,for.ipynb\n",
      "D:/python\\基础学习\\7.2应用.ipynb\n",
      "D:/python\\基础学习\\8.1-8.6定义函数.ipynb\n",
      "D:/python\\基础学习\\9.1-9.4文件操作.ipynb\n",
      "D:/python\\基础学习\\9.5-9.7csv,模块.ipynb\n",
      "D:/python\\基础学习\\data.csv\n",
      "D:/python\\基础学习\\jxdz.ipynb\n",
      "D:/python\\基础学习\\lambda表达式作业.ipynb\n",
      "D:/python\\基础学习\\sample_pickle.dat\n",
      "D:/python\\基础学习\\sample_struct.dat\n",
      "D:/python\\基础学习\\text.txt\n",
      "D:/python\\基础学习\\函数10.8.ipynb\n",
      "D:/python\\基础学习\\函数基础练习.ipynb\n",
      "D:/python\\基础学习\\切片练习.ipynb\n",
      "D:/python\\基础学习\\列表和元组.ipynb\n",
      "D:/python\\基础学习\\列表编程练习.ipynb\n",
      "D:/python\\基础学习\\单元测试1.ipynb\n",
      "D:/python\\基础学习\\字典编程练习.ipynb\n",
      "D:/python\\基础学习\\常用内置函数.ipynb\n",
      "D:/python\\基础学习\\常用内置对象与运算符.ipynb\n",
      "D:/python\\基础学习\\开发环境搭建.ipynb\n",
      "D:/python\\基础学习\\循环结构编程.ipynb\n",
      "D:/python\\基础学习\\标准库与扩展库的导入与使用.ipynb\n",
      "D:/python\\基础学习\\输入输出函数.ipynb\n",
      "D:/python\\基础学习\\选择结构编程练习.ipynb\n",
      "D:/python\\基础学习\\集合编程练习.ipynb\n"
     ]
    }
   ],
   "source": [
    "from os import listdir\n",
    "from os.path import join,isfile,isdir\n",
    "\n",
    "def listdirdepthfirst(directory):\n",
    "    for subPath in listdir(directory):\n",
    "        path=join(directory,subPath)\n",
    "        if isfile(path):\n",
    "            print(path)\n",
    "        elif isdir(path):\n",
    "            print(path)\n",
    "            listdirdepthfirst(path)\n",
    "listdirdepthfirst(r'D:/python')"
   ]
  },
  {
   "cell_type": "code",
   "execution_count": 37,
   "metadata": {},
   "outputs": [
    {
     "data": {
      "text/plain": [
       "'D:\\\\python下载的视频\\\\hello1.txt'"
      ]
     },
     "execution_count": 37,
     "metadata": {},
     "output_type": "execute_result"
    }
   ],
   "source": [
    "import shutil\n",
    "shutil.copyfile(r'D:\\python\\test\\hello.txt',r'D:\\python下载的视频\\hello1.txt')"
   ]
  },
  {
   "cell_type": "code",
   "execution_count": null,
   "metadata": {},
   "outputs": [],
   "source": [
    "shutil.make_archive(r'D:\\python\\test\\a','zip',r'D:\\python下载的视频','zip') r'D:\\python\\test\\a.zip'"
   ]
  },
  {
   "cell_type": "code",
   "execution_count": null,
   "metadata": {},
   "outputs": [],
   "source": [
    "shutil.unpack_archive(r'D:\\a.zip',r'D:\\a_unpack')"
   ]
  },
  {
   "cell_type": "code",
   "execution_count": null,
   "metadata": {},
   "outputs": [],
   "source": [
    "shutil.rmtree(r'D:\\a_unpack')"
   ]
  },
  {
   "cell_type": "code",
   "execution_count": null,
   "metadata": {},
   "outputs": [],
   "source": [
    "from shutil import copytree,ignore_patterns\n",
    "copytree(r'D:\\python\\test',r'D:\\python下载的视频',ignore=ignore_patterns('*.pyc','新*'))"
   ]
  },
  {
   "cell_type": "code",
   "execution_count": null,
   "metadata": {},
   "outputs": [],
   "source": [
    "from shutil import copytree\n",
    "from time import sleep\n",
    "from psutil import disk_partitions\n",
    "\n",
    "while True:\n",
    "    sleep(3)\n",
    "    for item in disk_partitions():\n",
    "        if 'removable' in item.opts:\n",
    "            driver=item.device\n",
    "            print('找到USB',driver)\n",
    "            break\n",
    "        else:\n",
    "            continue\n",
    "        break\n",
    "\n",
    "copytree(driver,r'D:\\usbdriver')\n",
    "print('文件全部复制完成 ')"
   ]
  }
 ],
 "metadata": {
  "interpreter": {
   "hash": "ac59ebe37160ed0dfa835113d9b8498d9f09ceb179beaac4002f036b9467c963"
  },
  "kernelspec": {
   "display_name": "Python 3.9.6 64-bit",
   "language": "python",
   "name": "python3"
  },
  "language_info": {
   "codemirror_mode": {
    "name": "ipython",
    "version": 3
   },
   "file_extension": ".py",
   "mimetype": "text/x-python",
   "name": "python",
   "nbconvert_exporter": "python",
   "pygments_lexer": "ipython3",
   "version": "3.9.6"
  },
  "orig_nbformat": 4
 },
 "nbformat": 4,
 "nbformat_minor": 2
}
