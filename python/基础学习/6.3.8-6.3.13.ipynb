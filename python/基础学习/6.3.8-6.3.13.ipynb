{
 "cells": [
  {
   "cell_type": "code",
   "execution_count": 1,
   "metadata": {},
   "outputs": [
    {
     "data": {
      "text/plain": [
       "'Hello world'"
      ]
     },
     "execution_count": 1,
     "metadata": {},
     "output_type": "execute_result"
    }
   ],
   "source": [
    "'\\n\\nHello world    \\n\\n'.strip()"
   ]
  },
  {
   "cell_type": "code",
   "execution_count": 2,
   "metadata": {},
   "outputs": [
    {
     "data": {
      "text/plain": [
       "'ssssddffff'"
      ]
     },
     "execution_count": 2,
     "metadata": {},
     "output_type": "execute_result"
    }
   ],
   "source": [
    "\"aaaaaaaaaaaaassssddffffaaaaaaaaaa\".strip(\"a\")"
   ]
  },
  {
   "cell_type": "code",
   "execution_count": 3,
   "metadata": {},
   "outputs": [
    {
     "data": {
      "text/plain": [
       "'aaaaaaaaaaaaassssddffff'"
      ]
     },
     "execution_count": 3,
     "metadata": {},
     "output_type": "execute_result"
    }
   ],
   "source": [
    "\"aaaaaaaaaaaaassssddffffaaaaaaaaaaa\".rstrip(\"a\")"
   ]
  },
  {
   "cell_type": "code",
   "execution_count": 4,
   "metadata": {},
   "outputs": [
    {
     "data": {
      "text/plain": [
       "'ssssddffffaaaaaaaaaaa'"
      ]
     },
     "execution_count": 4,
     "metadata": {},
     "output_type": "execute_result"
    }
   ],
   "source": [
    "\"aaaaaaaaaaaaassssddffffaaaaaaaaaaa\".lstrip(\"a\")"
   ]
  },
  {
   "cell_type": "code",
   "execution_count": 6,
   "metadata": {},
   "outputs": [
    {
     "data": {
      "text/plain": [
       "'fghijkl'"
      ]
     },
     "execution_count": 6,
     "metadata": {},
     "output_type": "execute_result"
    }
   ],
   "source": [
    "'abcdefghijklabcde'.strip('abcde')"
   ]
  },
  {
   "cell_type": "code",
   "execution_count": 8,
   "metadata": {},
   "outputs": [
    {
     "data": {
      "text/plain": [
       "'abc'"
      ]
     },
     "execution_count": 8,
     "metadata": {},
     "output_type": "execute_result"
    }
   ],
   "source": [
    "'abcdefg'.strip('gfed')"
   ]
  },
  {
   "cell_type": "code",
   "execution_count": 24,
   "metadata": {},
   "outputs": [
    {
     "data": {
      "text/plain": [
       "'ccddeeeff'"
      ]
     },
     "execution_count": 24,
     "metadata": {},
     "output_type": "execute_result"
    }
   ],
   "source": [
    "#中间部分的俩字母不会被删\n",
    "'aabbccddeeeffg'.strip('gbaed')"
   ]
  },
  {
   "cell_type": "code",
   "execution_count": 22,
   "metadata": {},
   "outputs": [
    {
     "data": {
      "text/plain": [
       "['姓名:张三', '年龄:35', '性别男', '职业 学生', '籍贯:   地球']"
      ]
     },
     "execution_count": 22,
     "metadata": {},
     "output_type": "execute_result"
    }
   ],
   "source": [
    "text='''姓名:张三\n",
    "年龄:35\n",
    "性别男\n",
    "职业 学生\n",
    "籍贯:   地球'''\n",
    "information=text.split('\\n')\n",
    "information\n",
    "        \n",
    "\n"
   ]
  },
  {
   "cell_type": "code",
   "execution_count": 23,
   "metadata": {},
   "outputs": [
    {
     "name": "stdout",
     "output_type": "stream",
     "text": [
      "姓名: 张三\n",
      "年龄: 35\n",
      "性别: 男\n",
      "职业: 学生\n",
      "籍贯: 地球\n"
     ]
    }
   ],
   "source": [
    "for item in  information:\n",
    "    print(item[:2],item[2:].strip(': '),sep=': ')"
   ]
  },
  {
   "cell_type": "code",
   "execution_count": 26,
   "metadata": {},
   "outputs": [
    {
     "name": "stdout",
     "output_type": "stream",
     "text": [
      "D:\\python\\test\\news.txt\n"
     ]
    }
   ],
   "source": [
    "path=r'D:\\python\\test\\news.txt'\n",
    "print(path)"
   ]
  },
  {
   "cell_type": "code",
   "execution_count": 27,
   "metadata": {},
   "outputs": [
    {
     "name": "stdout",
     "output_type": "stream",
     "text": [
      "True\n"
     ]
    }
   ],
   "source": [
    "\n",
    "print(path.endswith('.txt'))"
   ]
  },
  {
   "cell_type": "code",
   "execution_count": 28,
   "metadata": {},
   "outputs": [
    {
     "name": "stdout",
     "output_type": "stream",
     "text": [
      "True\n"
     ]
    }
   ],
   "source": [
    "print(path.startswith('D:'))"
   ]
  },
  {
   "cell_type": "code",
   "execution_count": 29,
   "metadata": {},
   "outputs": [
    {
     "data": {
      "text/plain": [
       "['$RECYCLE.BIN',\n",
       " '0.docx',\n",
       " '8051',\n",
       " '92476223d2834de3d0f177f80b226ee2',\n",
       " 'Ardunio',\n",
       " 'AutoCAD_2014_Simplified_Chinese_Win_64bit_dlm安装包',\n",
       " 'BaiduNetdisk',\n",
       " 'BaiduNetdiskDownload',\n",
       " 'bubu',\n",
       " 'b站C语言',\n",
       " 'c',\n",
       " 'CAD文件',\n",
       " 'CD-EW8051-8101',\n",
       " 'CH341SER.zip',\n",
       " 'chrome插件',\n",
       " 'CloudMusic',\n",
       " 'common',\n",
       " 'C语言经典',\n",
       " 'C语言资料',\n",
       " 'DeathlyStillness2.1.rar',\n",
       " 'Dev-Cpp',\n",
       " 'Dev-Cpp 5.11 TDM-GCC 4.9.2 Setup.exe',\n",
       " 'Drivers',\n",
       " 'easyMule',\n",
       " 'easyMule-noads-Setup.exe',\n",
       " 'ecloud',\n",
       " 'eNSP',\n",
       " 'flash',\n",
       " 'fotiaoqiang',\n",
       " 'GamePP',\n",
       " 'GamePP Wonderful Moment',\n",
       " 'git 安装包',\n",
       " 'HTML+css+js',\n",
       " 'HTML上课代码',\n",
       " 'HTML资料',\n",
       " 'IAR安装包',\n",
       " 'install-info',\n",
       " 'IQIYI Video',\n",
       " 'kingsoft',\n",
       " 'KuGou',\n",
       " 'LenovoSoftstore',\n",
       " 'LeStoreDownload',\n",
       " 'mBlock5',\n",
       " 'mBlock5-驱动',\n",
       " 'Microsoft VS Code',\n",
       " 'mke2fs.conf',\n",
       " 'msdownld.tmp',\n",
       " 'MSI Afterburner',\n",
       " 'MSIAfterburnerSetup',\n",
       " 'MyDrivers',\n",
       " 'NoDirectory',\n",
       " 'PDF',\n",
       " 'platform-tools',\n",
       " 'Program Files',\n",
       " 'Program Files (x86)',\n",
       " 'ProgramData',\n",
       " 'python',\n",
       " 'python下载的视频',\n",
       " 'python资料',\n",
       " 'QQMusicCache',\n",
       " 'QQ消息',\n",
       " 'qycache',\n",
       " 'rar',\n",
       " 'Rebel1.0',\n",
       " 'RivaTuner Statistics Server',\n",
       " 'SDAudioMonTemp',\n",
       " 'snipaste',\n",
       " 'SogouInput',\n",
       " 'SONG',\n",
       " 'source.properties',\n",
       " 'STM32',\n",
       " 'System Volume Information',\n",
       " 'Tencent',\n",
       " 'Thunder',\n",
       " 'Typeeasy',\n",
       " 'VPN',\n",
       " 'WeChat',\n",
       " 'Wireshark',\n",
       " 'Wondershare',\n",
       " 'Word文件',\n",
       " 'YesPlayMusic.0.3.3.exe',\n",
       " 'ZOL壁纸-提供高清桌面壁纸下载，美女、动漫、非主流、小清新、爱情、风景、唯美、星空等十几种不同风格的海量高清壁纸一网打尽、一键收藏.url',\n",
       " '《数字电子技术》（赵巍）272-2资源包',\n",
       " '下载的文件',\n",
       " '专升本',\n",
       " '专题十一 习近平新时代中国特色社会主义思想的主要内容和历史地位.pdf',\n",
       " '个人收支.xlsx',\n",
       " '其他',\n",
       " '创业计划书.doc',\n",
       " '加密.pdf',\n",
       " '华为ICT',\n",
       " '单片机',\n",
       " '压缩包',\n",
       " '图片',\n",
       " '复习',\n",
       " '天翼云盘下载',\n",
       " '天翼云盘同步盘',\n",
       " '接受的文件',\n",
       " '数字电子',\n",
       " '数学',\n",
       " '机器人',\n",
       " '油猴',\n",
       " '游戏',\n",
       " '源代码下载',\n",
       " '火绒安装包.exe',\n",
       " '物联2002班第八组研究报告.docx',\n",
       " '物联网2002班第五组.docx',\n",
       " '物联网2002班第五组.ino',\n",
       " '物联网2002班第五组.rar',\n",
       " '电影',\n",
       " '电视剧',\n",
       " '百度网盘',\n",
       " '给学生嵌入式资料',\n",
       " '给学生嵌入式资料.zip',\n",
       " '视频',\n",
       " '迅雷下载',\n",
       " '迅雷云盘',\n",
       " '音乐']"
      ]
     },
     "execution_count": 29,
     "metadata": {},
     "output_type": "execute_result"
    }
   ],
   "source": [
    "import os\n",
    "os.listdir(r'D:\\\\')"
   ]
  },
  {
   "cell_type": "code",
   "execution_count": 31,
   "metadata": {},
   "outputs": [
    {
     "data": {
      "text/plain": [
       "['Dev-Cpp 5.11 TDM-GCC 4.9.2 Setup.exe',\n",
       " 'easyMule-noads-Setup.exe',\n",
       " 'YesPlayMusic.0.3.3.exe',\n",
       " '火绒安装包.exe']"
      ]
     },
     "execution_count": 31,
     "metadata": {},
     "output_type": "execute_result"
    }
   ],
   "source": [
    "[filename for filename in os.listdir(r'D:\\\\')\n",
    "if filename.endswith(('.exe'))]"
   ]
  },
  {
   "cell_type": "code",
   "execution_count": 32,
   "metadata": {},
   "outputs": [
    {
     "data": {
      "text/plain": [
       "True"
      ]
     },
     "execution_count": 32,
     "metadata": {},
     "output_type": "execute_result"
    }
   ],
   "source": [
    "'1234abcd'.isalnum()"
   ]
  },
  {
   "cell_type": "code",
   "execution_count": 33,
   "metadata": {},
   "outputs": [
    {
     "data": {
      "text/plain": [
       "True"
      ]
     },
     "execution_count": 33,
     "metadata": {},
     "output_type": "execute_result"
    }
   ],
   "source": [
    "'\\t\\n\\r '.isspace()"
   ]
  },
  {
   "cell_type": "code",
   "execution_count": 35,
   "metadata": {},
   "outputs": [
    {
     "data": {
      "text/plain": [
       "False"
      ]
     },
     "execution_count": 35,
     "metadata": {},
     "output_type": "execute_result"
    }
   ],
   "source": [
    "'aBc'.isupper()"
   ]
  },
  {
   "cell_type": "code",
   "execution_count": 36,
   "metadata": {},
   "outputs": [
    {
     "data": {
      "text/plain": [
       "False"
      ]
     },
     "execution_count": 36,
     "metadata": {},
     "output_type": "execute_result"
    }
   ],
   "source": [
    "'1234abcd'.isalpha()"
   ]
  },
  {
   "cell_type": "code",
   "execution_count": 37,
   "metadata": {},
   "outputs": [
    {
     "data": {
      "text/plain": [
       "False"
      ]
     },
     "execution_count": 37,
     "metadata": {},
     "output_type": "execute_result"
    }
   ],
   "source": [
    "'1234abcd'.isdigit()"
   ]
  },
  {
   "cell_type": "code",
   "execution_count": 38,
   "metadata": {},
   "outputs": [
    {
     "data": {
      "text/plain": [
       "False"
      ]
     },
     "execution_count": 38,
     "metadata": {},
     "output_type": "execute_result"
    }
   ],
   "source": [
    "'1234.0'.isdigit()"
   ]
  },
  {
   "cell_type": "code",
   "execution_count": 39,
   "metadata": {},
   "outputs": [
    {
     "data": {
      "text/plain": [
       "True"
      ]
     },
     "execution_count": 39,
     "metadata": {},
     "output_type": "execute_result"
    }
   ],
   "source": [
    "'1234'.isdigit()"
   ]
  },
  {
   "cell_type": "code",
   "execution_count": 47,
   "metadata": {},
   "outputs": [
    {
     "data": {
      "text/plain": [
       "'     Main Menu      '"
      ]
     },
     "execution_count": 47,
     "metadata": {},
     "output_type": "execute_result"
    }
   ],
   "source": [
    "'Main Menu'.center(20)"
   ]
  },
  {
   "cell_type": "code",
   "execution_count": 48,
   "metadata": {},
   "outputs": [],
   "source": [
    "'Main Menu '.center(20, '-')"
   ]
  },
  {
   "cell_type": "code",
   "execution_count": 2,
   "metadata": {},
   "outputs": [
    {
     "data": {
      "text/plain": [
       "'Main Menu ##########'"
      ]
     },
     "execution_count": 2,
     "metadata": {},
     "output_type": "execute_result"
    }
   ],
   "source": [
    "'Main Menu '.ljust(20, '#')"
   ]
  },
  {
   "cell_type": "code",
   "execution_count": 4,
   "metadata": {},
   "outputs": [
    {
     "data": {
      "text/plain": [
       "'==========Main Menu '"
      ]
     },
     "execution_count": 4,
     "metadata": {},
     "output_type": "execute_result"
    }
   ],
   "source": [
    "'Main Menu '.rjust(20, '=')"
   ]
  },
  {
   "cell_type": "code",
   "execution_count": 13,
   "metadata": {},
   "outputs": [
    {
     "data": {
      "text/plain": [
       "['n', 'i', 'h', 'a', 'o']"
      ]
     },
     "execution_count": 13,
     "metadata": {},
     "output_type": "execute_result"
    }
   ],
   "source": [
    "text='nihao'\n",
    "list(filter(lambda x: x.islower(),text))"
   ]
  },
  {
   "cell_type": "code",
   "execution_count": 12,
   "metadata": {},
   "outputs": [
    {
     "data": {
      "text/plain": [
       "['N', 'I', 'H', 'A', 'O']"
      ]
     },
     "execution_count": 12,
     "metadata": {},
     "output_type": "execute_result"
    }
   ],
   "source": [
    "list(map(str.upper,text))"
   ]
  },
  {
   "cell_type": "code",
   "execution_count": 14,
   "metadata": {},
   "outputs": [
    {
     "data": {
      "text/plain": [
       "'helloworld'"
      ]
     },
     "execution_count": 14,
     "metadata": {},
     "output_type": "execute_result"
    }
   ],
   "source": [
    "'hello'+'world'"
   ]
  },
  {
   "cell_type": "code",
   "execution_count": 15,
   "metadata": {},
   "outputs": [
    {
     "data": {
      "text/plain": [
       "'hhhhhhhhh'"
      ]
     },
     "execution_count": 15,
     "metadata": {},
     "output_type": "execute_result"
    }
   ],
   "source": [
    "'hhh'*3"
   ]
  },
  {
   "cell_type": "code",
   "execution_count": 16,
   "metadata": {},
   "outputs": [
    {
     "data": {
      "text/plain": [
       "True"
      ]
     },
     "execution_count": 16,
     "metadata": {},
     "output_type": "execute_result"
    }
   ],
   "source": [
    "\"ab\" in \"abcd\""
   ]
  },
  {
   "cell_type": "code",
   "execution_count": 17,
   "metadata": {},
   "outputs": [
    {
     "data": {
      "text/plain": [
       "False"
      ]
     },
     "execution_count": 17,
     "metadata": {},
     "output_type": "execute_result"
    }
   ],
   "source": [
    "'ac' in 'abcd'"
   ]
  },
  {
   "cell_type": "code",
   "execution_count": 19,
   "metadata": {},
   "outputs": [
    {
     "data": {
      "text/plain": [
       "'qlkdr'"
      ]
     },
     "execution_count": 19,
     "metadata": {},
     "output_type": "execute_result"
    }
   ],
   "source": [
    "def add3(ch):\n",
    "    return chr(ord(ch)+3)\n",
    "''.join(map(add3,text))"
   ]
  },
  {
   "cell_type": "code",
   "execution_count": 20,
   "metadata": {},
   "outputs": [
    {
     "data": {
      "text/plain": [
       "'oahin'"
      ]
     },
     "execution_count": 20,
     "metadata": {},
     "output_type": "execute_result"
    }
   ],
   "source": [
    "''.join(reversed(text))"
   ]
  },
  {
   "cell_type": "code",
   "execution_count": 21,
   "metadata": {},
   "outputs": [
    {
     "data": {
      "text/plain": [
       "[(0, 'n'), (1, 'i'), (2, 'h'), (3, 'a'), (4, 'o')]"
      ]
     },
     "execution_count": 21,
     "metadata": {},
     "output_type": "execute_result"
    }
   ],
   "source": [
    "list(enumerate(text))"
   ]
  }
 ],
 "metadata": {
  "interpreter": {
   "hash": "ac59ebe37160ed0dfa835113d9b8498d9f09ceb179beaac4002f036b9467c963"
  },
  "kernelspec": {
   "display_name": "Python 3.9.6 64-bit",
   "language": "python",
   "name": "python3"
  },
  "language_info": {
   "codemirror_mode": {
    "name": "ipython",
    "version": 3
   },
   "file_extension": ".py",
   "mimetype": "text/x-python",
   "name": "python",
   "nbconvert_exporter": "python",
   "pygments_lexer": "ipython3",
   "version": "3.9.6"
  },
  "orig_nbformat": 4
 },
 "nbformat": 4,
 "nbformat_minor": 2
}
