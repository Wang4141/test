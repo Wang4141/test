{
 "cells": [
  {
   "cell_type": "code",
   "execution_count": 1,
   "metadata": {},
   "outputs": [],
   "source": [
    "#平抛运动\n",
    "# 从键盘上输入一个数，使用eval()函数，返回表达式的数值\n",
    "t=eval(input(\"请输入经过时间t：\"))"
   ]
  },
  {
   "cell_type": "code",
   "execution_count": 2,
   "metadata": {},
   "outputs": [],
   "source": [
    "#计算水平距离\n",
    "x=5*t"
   ]
  },
  {
   "cell_type": "code",
   "execution_count": 3,
   "metadata": {},
   "outputs": [],
   "source": [
    "#计算垂直距离\n",
    "h=9.8*t*t*0.5"
   ]
  },
  {
   "cell_type": "code",
   "execution_count": 4,
   "metadata": {},
   "outputs": [
    {
     "name": "stdout",
     "output_type": "stream",
     "text": [
      "经过0.600000秒后，小球与原点距离为3.4801862019150644\n"
     ]
    }
   ],
   "source": [
    "#计算直线距离\n",
    "print(\"经过0.600000秒后，小球与原点距离为{}\".format((x*x+h*h)**0.5))"
   ]
  },
  {
   "cell_type": "code",
   "execution_count": 5,
   "metadata": {},
   "outputs": [],
   "source": [
    "#输入长\n",
    "length=float(input(\"请输入长：\"))"
   ]
  },
  {
   "cell_type": "code",
   "execution_count": 6,
   "metadata": {},
   "outputs": [],
   "source": [
    "#输入宽\n",
    "width=float(input(\"请输入宽：\"))"
   ]
  },
  {
   "cell_type": "code",
   "execution_count": 7,
   "metadata": {},
   "outputs": [],
   "source": [
    "#输入高\n",
    "high=float(input(\"请输入高：\"))"
   ]
  },
  {
   "cell_type": "code",
   "execution_count": 8,
   "metadata": {},
   "outputs": [
    {
     "name": "stdout",
     "output_type": "stream",
     "text": [
      "长方体的体积为1.0立方米\n"
     ]
    }
   ],
   "source": [
    "#长方体体积\n",
    "print(\"长方体的体积为{}立方米\".format(length*width*high))"
   ]
  },
  {
   "cell_type": "code",
   "execution_count": 9,
   "metadata": {},
   "outputs": [],
   "source": [
    "#输入三角形第一条直角边\n",
    "import math\n",
    "x=int(input(\"请输入直角边：\"))"
   ]
  },
  {
   "cell_type": "code",
   "execution_count": 10,
   "metadata": {},
   "outputs": [],
   "source": [
    "#输入三角形第二条直角边\n",
    "y=int(input(\"请输入直角边：\"))\n"
   ]
  },
  {
   "cell_type": "code",
   "execution_count": 11,
   "metadata": {},
   "outputs": [
    {
     "name": "stdout",
     "output_type": "stream",
     "text": [
      "三角斜边的长度为5.0\n"
     ]
    }
   ],
   "source": [
    "print(\"三角斜边的长度为{}\".format(math.sqrt((math.pow(x,2)+math.pow(y,2)))))"
   ]
  }
 ],
 "metadata": {
  "interpreter": {
   "hash": "ac59ebe37160ed0dfa835113d9b8498d9f09ceb179beaac4002f036b9467c963"
  },
  "kernelspec": {
   "display_name": "Python 3.9.6 64-bit",
   "name": "python3"
  },
  "language_info": {
   "codemirror_mode": {
    "name": "ipython",
    "version": 3
   },
   "file_extension": ".py",
   "mimetype": "text/x-python",
   "name": "python",
   "nbconvert_exporter": "python",
   "pygments_lexer": "ipython3",
   "version": "3.9.6"
  },
  "orig_nbformat": 4
 },
 "nbformat": 4,
 "nbformat_minor": 2
}
