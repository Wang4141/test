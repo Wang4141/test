{
 "cells": [
  {
   "cell_type": "code",
   "execution_count": 1,
   "metadata": {},
   "outputs": [
    {
     "name": "stdout",
     "output_type": "stream",
     "text": [
      "(3, 3, 2)\n"
     ]
    }
   ],
   "source": [
    "def get_frequency(s):\n",
    "    '''统计数字，字母，符号频次'''\n",
    "    digits,alphabets,others=0,0,0\n",
    "    for ch in s:\n",
    "        if '0'<=ch<='9':\n",
    "            digits+=1\n",
    "        elif 'a'<=ch<='z' or 'A'<=ch<='Z':\n",
    "             alphabets+=1\n",
    "        else:\n",
    "             others+=1\n",
    "    return(digits,alphabets,others)\n",
    "\n",
    "print(get_frequency('123:;abc'))"
   ]
  },
  {
   "cell_type": "code",
   "execution_count": 4,
   "metadata": {},
   "outputs": [
    {
     "name": "stdout",
     "output_type": "stream",
     "text": [
      "deed        是回文\n",
      "dad         是回文\n",
      "need        不是回文\n",
      "rotor       是回文\n",
      "civic       是回文\n",
      "eye         是回文\n",
      "redivider   是回文\n",
      "noon        是回文\n",
      "his         不是回文\n",
      "difference  不是回文\n",
      "a           是回文\n"
     ]
    }
   ],
   "source": [
    "def is_palindrome(text) :\n",
    "    '''递归函数-判断回文'''\n",
    "    if len(text)<=1:\n",
    "        return True\n",
    "    if text[0]!=text[-1] :\n",
    "        return False\n",
    "    return is_palindrome(text[1:-1])\n",
    "\n",
    "sentences=('deed','dad','need','rotor','civic','eye','redivider','noon','his','difference','a')\n",
    "\n",
    "for sentence in sentences:\n",
    "    print(sentence.ljust(12),end='')\n",
    "    if is_palindrome(sentence):\n",
    "        print('是回文')\n",
    "    else:\n",
    "        print('不是回文')"
   ]
  },
  {
   "cell_type": "code",
   "execution_count": 2,
   "metadata": {},
   "outputs": [
    {
     "data": {
      "text/plain": [
       "2"
      ]
     },
     "execution_count": 2,
     "metadata": {},
     "output_type": "execute_result"
    }
   ],
   "source": [
    "def jiecheng(n):\n",
    "    if(n==0 or n==1):\n",
    "        return 1 \n",
    "    else:\n",
    "        return n*jiecheng(n-1)\n",
    "\n",
    "jiecheng(2)"
   ]
  },
  {
   "cell_type": "code",
   "execution_count": 34,
   "metadata": {},
   "outputs": [
    {
     "data": {
      "text/plain": [
       "7"
      ]
     },
     "execution_count": 34,
     "metadata": {},
     "output_type": "execute_result"
    }
   ],
   "source": [
    "from functools import reduce\n",
    "def my_reduce(num,c):\n",
    "    #定义进制转换函数\n",
    "    if not all(map(lambda i:0<int(i)<c,str(num))):\n",
    "        return 'error'\n",
    "    def func(x,y):\n",
    "        return x*c+y         \n",
    "    return reduce(func,map(int,str(num)))     \n",
    "my_reduce(111,2)\n",
    "                                        "
   ]
  },
  {
   "cell_type": "code",
   "execution_count": 2,
   "metadata": {},
   "outputs": [
    {
     "data": {
      "text/plain": [
       "[1, 1, 1]"
      ]
     },
     "execution_count": 2,
     "metadata": {},
     "output_type": "execute_result"
    }
   ],
   "source": [
    "list(map(int,str(111)))"
   ]
  },
  {
   "cell_type": "code",
   "execution_count": 40,
   "metadata": {},
   "outputs": [
    {
     "data": {
      "text/plain": [
       "[5, 6, 7, 8, 9]"
      ]
     },
     "execution_count": 40,
     "metadata": {},
     "output_type": "execute_result"
    }
   ],
   "source": [
    "def mymap(iterable,op,value):\n",
    "    if op not in ('+','-','*','/','//','%','**'):\n",
    "        return 'error'\n",
    "    def func(i):\n",
    "        return eval(str(i)+op+str(value))\n",
    "    return map(func,iterable)\n",
    "list(mymap(range(5),'+',5))"
   ]
  },
  {
   "cell_type": "code",
   "execution_count": 1,
   "metadata": {},
   "outputs": [
    {
     "name": "stdout",
     "output_type": "stream",
     "text": [
      "3 4 5\n"
     ]
    }
   ],
   "source": [
    "def demo(a,b,c):\n",
    "    print(a,b,c)\n",
    "print(3,4,5)"
   ]
  },
  {
   "cell_type": "code",
   "execution_count": 3,
   "metadata": {},
   "outputs": [
    {
     "name": "stdout",
     "output_type": "stream",
     "text": [
      "1 2 3\n",
      "(4, 5, 6, 7, 8)\n"
     ]
    }
   ],
   "source": [
    "def demo(a,b,c,*p):\n",
    "    print(a,b,c)\n",
    "    print(p)\n",
    "demo(1,2,3,4,5,6,7,8)"
   ]
  },
  {
   "cell_type": "code",
   "execution_count": 5,
   "metadata": {},
   "outputs": [
    {
     "name": "stdout",
     "output_type": "stream",
     "text": [
      "('x', 1)\n",
      "('y', 8)\n",
      "('v', 0)\n"
     ]
    }
   ],
   "source": [
    "def demo2(**p):\n",
    "    for item in p.items():\n",
    "        print(item)\n",
    "demo2(x=1,y=8,v=0)"
   ]
  },
  {
   "cell_type": "code",
   "execution_count": 9,
   "metadata": {},
   "outputs": [
    {
     "name": "stdout",
     "output_type": "stream",
     "text": [
      "3 4\n"
     ]
    },
    {
     "ename": "NameError",
     "evalue": "name 'y' is not defined",
     "output_type": "error",
     "traceback": [
      "\u001b[1;31m---------------------------------------------------------------------------\u001b[0m",
      "\u001b[1;31mNameError\u001b[0m                                 Traceback (most recent call last)",
      "\u001b[1;32m~\\AppData\\Local\\Temp/ipykernel_45000/1944219040.py\u001b[0m in \u001b[0;36m<module>\u001b[1;34m\u001b[0m\n\u001b[0;32m      7\u001b[0m \u001b[0mx\u001b[0m\u001b[1;33m=\u001b[0m\u001b[1;36m5\u001b[0m\u001b[1;33m\u001b[0m\u001b[1;33m\u001b[0m\u001b[0m\n\u001b[0;32m      8\u001b[0m \u001b[0mdemo3\u001b[0m\u001b[1;33m(\u001b[0m\u001b[1;33m)\u001b[0m\u001b[1;33m\u001b[0m\u001b[1;33m\u001b[0m\u001b[0m\n\u001b[1;32m----> 9\u001b[1;33m \u001b[0my\u001b[0m\u001b[1;33m\u001b[0m\u001b[1;33m\u001b[0m\u001b[0m\n\u001b[0m",
      "\u001b[1;31mNameError\u001b[0m: name 'y' is not defined"
     ]
    }
   ],
   "source": [
    "def demo3():\n",
    "    global x\n",
    "    x=3\n",
    "    y=4\n",
    "    print(x,y)\n",
    "\n",
    "x=5\n",
    "demo3()\n",
    "y"
   ]
  },
  {
   "cell_type": "code",
   "execution_count": 10,
   "metadata": {},
   "outputs": [
    {
     "ename": "NameError",
     "evalue": "name 'x' is not defined",
     "output_type": "error",
     "traceback": [
      "\u001b[1;31m---------------------------------------------------------------------------\u001b[0m",
      "\u001b[1;31mNameError\u001b[0m                                 Traceback (most recent call last)",
      "\u001b[1;32m~\\AppData\\Local\\Temp/ipykernel_45000/3278025082.py\u001b[0m in \u001b[0;36m<module>\u001b[1;34m\u001b[0m\n\u001b[0;32m      1\u001b[0m \u001b[1;32mdel\u001b[0m \u001b[0mx\u001b[0m\u001b[1;33m\u001b[0m\u001b[1;33m\u001b[0m\u001b[0m\n\u001b[1;32m----> 2\u001b[1;33m \u001b[0mx\u001b[0m\u001b[1;33m\u001b[0m\u001b[1;33m\u001b[0m\u001b[0m\n\u001b[0m",
      "\u001b[1;31mNameError\u001b[0m: name 'x' is not defined"
     ]
    }
   ],
   "source": [
    "del x\n",
    "x"
   ]
  },
  {
   "cell_type": "code",
   "execution_count": 12,
   "metadata": {},
   "outputs": [
    {
     "name": "stdout",
     "output_type": "stream",
     "text": [
      "3 4\n"
     ]
    },
    {
     "data": {
      "text/plain": [
       "3"
      ]
     },
     "execution_count": 12,
     "metadata": {},
     "output_type": "execute_result"
    }
   ],
   "source": [
    "demo3()\n",
    "x"
   ]
  },
  {
   "cell_type": "code",
   "execution_count": 18,
   "metadata": {},
   "outputs": [
    {
     "name": "stdout",
     "output_type": "stream",
     "text": [
      "3\n"
     ]
    },
    {
     "data": {
      "text/plain": [
       "5"
      ]
     },
     "execution_count": 18,
     "metadata": {},
     "output_type": "execute_result"
    }
   ],
   "source": [
    "def demo4():\n",
    "    x=3\n",
    "    print(x)\n",
    "x=5\n",
    "x\n",
    "demo4()\n",
    "x\n"
   ]
  },
  {
   "cell_type": "code",
   "execution_count": 1,
   "metadata": {},
   "outputs": [
    {
     "name": "stdout",
     "output_type": "stream",
     "text": [
      "[27, 94, 40, 43, 61, 13, 18, 73, 92, 67]\n",
      "[9, 24, 56, 17, 31, 32, 52, 92, 57, 45]\n",
      "[54, 44, 36, 29, 37, 15, 70, 11, 86, 84]\n",
      "[22, 27, 23, 33, 4, 44, 28, 39, 57, 80]\n",
      "[5, 22, 4, 8, 95, 32, 14, 91, 29, 49]\n"
     ]
    }
   ],
   "source": [
    "from random import sample\n",
    "data=[sample(range(100),10) for i in range(5)]\n",
    "for row in data:\n",
    "    print(row)"
   ]
  },
  {
   "cell_type": "code",
   "execution_count": 2,
   "metadata": {},
   "outputs": [
    {
     "name": "stdout",
     "output_type": "stream",
     "text": [
      "[5, 22, 4, 8, 95, 32, 14, 91, 29, 49]\n",
      "[9, 24, 56, 17, 31, 32, 52, 92, 57, 45]\n",
      "[22, 27, 23, 33, 4, 44, 28, 39, 57, 80]\n",
      "[27, 94, 40, 43, 61, 13, 18, 73, 92, 67]\n",
      "[54, 44, 36, 29, 37, 15, 70, 11, 86, 84]\n"
     ]
    }
   ],
   "source": [
    "for row in sorted(data):\n",
    "    print(row)"
   ]
  },
  {
   "cell_type": "code",
   "execution_count": 3,
   "metadata": {},
   "outputs": [
    {
     "name": "stdout",
     "output_type": "stream",
     "text": [
      "[5, 22, 4, 8, 95, 32, 14, 91, 29, 49]\n",
      "[9, 24, 56, 17, 31, 32, 52, 92, 57, 45]\n",
      "[22, 27, 23, 33, 4, 44, 28, 39, 57, 80]\n",
      "[54, 44, 36, 29, 37, 15, 70, 11, 86, 84]\n",
      "[27, 94, 40, 43, 61, 13, 18, 73, 92, 67]\n"
     ]
    }
   ],
   "source": [
    "for row in sorted(data,key=lambda row:row[1]):\n",
    "    print(row)"
   ]
  },
  {
   "cell_type": "code",
   "execution_count": 4,
   "metadata": {},
   "outputs": [
    {
     "data": {
      "text/plain": [
       "28038272175838080"
      ]
     },
     "execution_count": 4,
     "metadata": {},
     "output_type": "execute_result"
    }
   ],
   "source": [
    "from functools import reduce\n",
    "reduce(lambda x,y:x*y,data[0]) "
   ]
  },
  {
   "cell_type": "code",
   "execution_count": 5,
   "metadata": {},
   "outputs": [
    {
     "data": {
      "text/plain": [
       "2503115630346240"
      ]
     },
     "execution_count": 5,
     "metadata": {},
     "output_type": "execute_result"
    }
   ],
   "source": [
    "reduce(lambda x,y:x*y,data[1]) "
   ]
  },
  {
   "cell_type": "code",
   "execution_count": 6,
   "metadata": {},
   "outputs": [
    {
     "data": {
      "text/plain": [
       "[27, 9, 54, 22, 5]"
      ]
     },
     "execution_count": 6,
     "metadata": {},
     "output_type": "execute_result"
    }
   ],
   "source": [
    "list(map(lambda row:row[0],data))"
   ]
  },
  {
   "cell_type": "code",
   "execution_count": 7,
   "metadata": {},
   "outputs": [
    {
     "data": {
      "text/plain": [
       "[27, 24, 36, 33, 95]"
      ]
     },
     "execution_count": 7,
     "metadata": {},
     "output_type": "execute_result"
    }
   ],
   "source": [
    "list(map(lambda row:row[data.index(row)],data))"
   ]
  },
  {
   "cell_type": "code",
   "execution_count": 8,
   "metadata": {},
   "outputs": [
    {
     "data": {
      "text/plain": [
       "[54, 44, 36, 29, 37, 15, 70, 11, 86, 84]"
      ]
     },
     "execution_count": 8,
     "metadata": {},
     "output_type": "execute_result"
    }
   ],
   "source": [
    "max(data,key=lambda row:row[-1])"
   ]
  },
  {
   "cell_type": "code",
   "execution_count": 10,
   "metadata": {},
   "outputs": [
    {
     "name": "stdout",
     "output_type": "stream",
     "text": [
      "[27, 94, 40, 43, 61, 13, 18, 73, 92, 67]\n",
      "[54, 44, 36, 29, 37, 15, 70, 11, 86, 84]\n"
     ]
    }
   ],
   "source": [
    "for row in filter(lambda row:sum(row)%2==0,data):\n",
    "    print(row)"
   ]
  },
  {
   "cell_type": "code",
   "execution_count": 17,
   "metadata": {},
   "outputs": [
    {
     "data": {
      "text/plain": [
       "[([27, 94, 40, 43, 61, 13, 18, 73, 92, 67],),\n",
       " ([9, 24, 56, 17, 31, 32, 52, 92, 57, 45],),\n",
       " ([54, 44, 36, 29, 37, 15, 70, 11, 86, 84],),\n",
       " ([22, 27, 23, 33, 4, 44, 28, 39, 57, 80],),\n",
       " ([5, 22, 4, 8, 95, 32, 14, 91, 29, 49],)]"
      ]
     },
     "execution_count": 17,
     "metadata": {},
     "output_type": "execute_result"
    }
   ],
   "source": [
    "list(zip(data))"
   ]
  },
  {
   "cell_type": "code",
   "execution_count": 18,
   "metadata": {},
   "outputs": [
    {
     "data": {
      "text/plain": [
       "[117, 211, 159, 130, 228, 136, 182, 306, 321, 325]"
      ]
     },
     "execution_count": 18,
     "metadata": {},
     "output_type": "execute_result"
    }
   ],
   "source": [
    "reduce(lambda x,y:[x+y for x,y in zip(x,y)],data)"
   ]
  },
  {
   "cell_type": "code",
   "execution_count": 12,
   "metadata": {},
   "outputs": [
    {
     "data": {
      "text/plain": [
       "[117, 211, 159, 130, 228, 136, 182, 306, 321, 325]"
      ]
     },
     "execution_count": 12,
     "metadata": {},
     "output_type": "execute_result"
    }
   ],
   "source": [
    "reduce(lambda x,y:list(map( lambda x,y:x+y,x,y)),data)"
   ]
  },
  {
   "cell_type": "code",
   "execution_count": 20,
   "metadata": {},
   "outputs": [
    {
     "data": {
      "text/plain": [
       "[117, 211, 159, 130, 228, 136, 182, 306, 321, 325]"
      ]
     },
     "execution_count": 20,
     "metadata": {},
     "output_type": "execute_result"
    }
   ],
   "source": [
    "list(reduce(lambda x,y:map( lambda x,y:x+y,x,y),data))"
   ]
  },
  {
   "cell_type": "code",
   "execution_count": 23,
   "metadata": {},
   "outputs": [
    {
     "name": "stdout",
     "output_type": "stream",
     "text": [
      "1 1 2 3 5 8 13 21 34 55 89 144 233 377 "
     ]
    }
   ],
   "source": [
    "def fibo():\n",
    "    a,b=1,1\n",
    "    while True:\n",
    "        yield a \n",
    "        a,b=b,a+b\n",
    "        #a=b   b=a+b\n",
    "seq=fibo()\n",
    "for num in seq:\n",
    "    if num>500:\n",
    "        break\n",
    "    print(num,end=' ')"
   ]
  },
  {
   "cell_type": "code",
   "execution_count": 16,
   "metadata": {},
   "outputs": [
    {
     "ename": "TypeError",
     "evalue": "'int' object is not subscriptable",
     "output_type": "error",
     "traceback": [
      "\u001b[1;31m---------------------------------------------------------------------------\u001b[0m",
      "\u001b[1;31mTypeError\u001b[0m                                 Traceback (most recent call last)",
      "\u001b[1;32m~\\AppData\\Local\\Temp/ipykernel_32956/2500434030.py\u001b[0m in \u001b[0;36m<module>\u001b[1;34m\u001b[0m\n\u001b[0;32m     21\u001b[0m \u001b[1;33m\u001b[0m\u001b[0m\n\u001b[0;32m     22\u001b[0m \u001b[0mteacherNames\u001b[0m\u001b[1;33m=\u001b[0m\u001b[1;33m[\u001b[0m\u001b[1;34m'教师'\u001b[0m\u001b[1;33m+\u001b[0m\u001b[0mstr\u001b[0m\u001b[1;33m(\u001b[0m\u001b[0mi\u001b[0m\u001b[1;33m)\u001b[0m \u001b[1;32mfor\u001b[0m \u001b[0mi\u001b[0m \u001b[1;32min\u001b[0m \u001b[0mrange\u001b[0m\u001b[1;33m(\u001b[0m\u001b[1;36m10\u001b[0m\u001b[1;33m)\u001b[0m\u001b[1;33m]\u001b[0m\u001b[1;33m\u001b[0m\u001b[1;33m\u001b[0m\u001b[0m\n\u001b[1;32m---> 23\u001b[1;33m \u001b[0mresult\u001b[0m\u001b[1;33m=\u001b[0m\u001b[0mfunc\u001b[0m\u001b[1;33m(\u001b[0m\u001b[0mteacherNames\u001b[0m\u001b[1;33m,\u001b[0m\u001b[1;36m32\u001b[0m\u001b[1;33m,\u001b[0m\u001b[1;36m10\u001b[0m\u001b[1;33m)\u001b[0m\u001b[1;33m\u001b[0m\u001b[1;33m\u001b[0m\u001b[0m\n\u001b[0m\u001b[0;32m     24\u001b[0m \u001b[0mprint\u001b[0m\u001b[1;33m(\u001b[0m\u001b[0mresult\u001b[0m\u001b[1;33m)\u001b[0m\u001b[1;33m\u001b[0m\u001b[1;33m\u001b[0m\u001b[0m\n\u001b[0;32m     25\u001b[0m \u001b[1;32mif\u001b[0m \u001b[0mresult\u001b[0m\u001b[1;33m!=\u001b[0m\u001b[1;34m'数据不合适'\u001b[0m\u001b[1;33m:\u001b[0m\u001b[1;33m\u001b[0m\u001b[1;33m\u001b[0m\u001b[0m\n",
      "\u001b[1;32m~\\AppData\\Local\\Temp/ipykernel_32956/2500434030.py\u001b[0m in \u001b[0;36mfunc\u001b[1;34m(teacherNames, examNumbers, maxPerTeacher)\u001b[0m\n\u001b[0;32m      9\u001b[0m     \u001b[0mresult\u001b[0m\u001b[1;33m=\u001b[0m\u001b[1;33m[\u001b[0m\u001b[1;33m]\u001b[0m\u001b[1;33m\u001b[0m\u001b[1;33m\u001b[0m\u001b[0m\n\u001b[0;32m     10\u001b[0m     \u001b[1;32mfor\u001b[0m \u001b[0m_\u001b[0m \u001b[1;32min\u001b[0m \u001b[0mrange\u001b[0m\u001b[1;33m(\u001b[0m\u001b[0mexamNumbers\u001b[0m\u001b[1;33m)\u001b[0m\u001b[1;33m:\u001b[0m\u001b[1;33m\u001b[0m\u001b[1;33m\u001b[0m\u001b[0m\n\u001b[1;32m---> 11\u001b[1;33m         \u001b[0mteacher1\u001b[0m\u001b[1;33m=\u001b[0m\u001b[0mmin\u001b[0m\u001b[1;33m(\u001b[0m\u001b[0mteachers\u001b[0m\u001b[1;33m.\u001b[0m\u001b[0mitems\u001b[0m\u001b[1;33m(\u001b[0m\u001b[1;33m)\u001b[0m\u001b[1;33m,\u001b[0m\u001b[0mkey\u001b[0m\u001b[1;33m=\u001b[0m\u001b[1;32mlambda\u001b[0m \u001b[0mitem\u001b[0m\u001b[1;33m:\u001b[0m\u001b[0mitem\u001b[0m\u001b[1;33m[\u001b[0m\u001b[1;36m1\u001b[0m\u001b[1;33m]\u001b[0m\u001b[1;33m[\u001b[0m\u001b[1;36m0\u001b[0m\u001b[1;33m]\u001b[0m\u001b[1;33m)\u001b[0m\u001b[1;33m\u001b[0m\u001b[1;33m\u001b[0m\u001b[0m\n\u001b[0m\u001b[0;32m     12\u001b[0m         \u001b[0mrestTeachers\u001b[0m\u001b[1;33m=\u001b[0m\u001b[1;33m[\u001b[0m\u001b[0mitem\u001b[0m \u001b[1;32mfor\u001b[0m \u001b[0mitem\u001b[0m \u001b[1;32min\u001b[0m \u001b[0mteachers\u001b[0m\u001b[1;33m.\u001b[0m\u001b[0mitems\u001b[0m\u001b[1;33m(\u001b[0m\u001b[1;33m)\u001b[0m \u001b[1;32mif\u001b[0m \u001b[0mitem\u001b[0m\u001b[1;33m[\u001b[0m\u001b[1;36m0\u001b[0m\u001b[1;33m]\u001b[0m\u001b[1;33m!=\u001b[0m\u001b[0mteacher1\u001b[0m\u001b[1;33m]\u001b[0m\u001b[1;33m\u001b[0m\u001b[1;33m\u001b[0m\u001b[0m\n\u001b[0;32m     13\u001b[0m         \u001b[0mshuffle\u001b[0m\u001b[1;33m(\u001b[0m\u001b[0mrestTeachers\u001b[0m\u001b[1;33m)\u001b[0m\u001b[1;33m\u001b[0m\u001b[1;33m\u001b[0m\u001b[0m\n",
      "\u001b[1;32m~\\AppData\\Local\\Temp/ipykernel_32956/2500434030.py\u001b[0m in \u001b[0;36m<lambda>\u001b[1;34m(item)\u001b[0m\n\u001b[0;32m      9\u001b[0m     \u001b[0mresult\u001b[0m\u001b[1;33m=\u001b[0m\u001b[1;33m[\u001b[0m\u001b[1;33m]\u001b[0m\u001b[1;33m\u001b[0m\u001b[1;33m\u001b[0m\u001b[0m\n\u001b[0;32m     10\u001b[0m     \u001b[1;32mfor\u001b[0m \u001b[0m_\u001b[0m \u001b[1;32min\u001b[0m \u001b[0mrange\u001b[0m\u001b[1;33m(\u001b[0m\u001b[0mexamNumbers\u001b[0m\u001b[1;33m)\u001b[0m\u001b[1;33m:\u001b[0m\u001b[1;33m\u001b[0m\u001b[1;33m\u001b[0m\u001b[0m\n\u001b[1;32m---> 11\u001b[1;33m         \u001b[0mteacher1\u001b[0m\u001b[1;33m=\u001b[0m\u001b[0mmin\u001b[0m\u001b[1;33m(\u001b[0m\u001b[0mteachers\u001b[0m\u001b[1;33m.\u001b[0m\u001b[0mitems\u001b[0m\u001b[1;33m(\u001b[0m\u001b[1;33m)\u001b[0m\u001b[1;33m,\u001b[0m\u001b[0mkey\u001b[0m\u001b[1;33m=\u001b[0m\u001b[1;32mlambda\u001b[0m \u001b[0mitem\u001b[0m\u001b[1;33m:\u001b[0m\u001b[0mitem\u001b[0m\u001b[1;33m[\u001b[0m\u001b[1;36m1\u001b[0m\u001b[1;33m]\u001b[0m\u001b[1;33m[\u001b[0m\u001b[1;36m0\u001b[0m\u001b[1;33m]\u001b[0m\u001b[1;33m)\u001b[0m\u001b[1;33m\u001b[0m\u001b[1;33m\u001b[0m\u001b[0m\n\u001b[0m\u001b[0;32m     12\u001b[0m         \u001b[0mrestTeachers\u001b[0m\u001b[1;33m=\u001b[0m\u001b[1;33m[\u001b[0m\u001b[0mitem\u001b[0m \u001b[1;32mfor\u001b[0m \u001b[0mitem\u001b[0m \u001b[1;32min\u001b[0m \u001b[0mteachers\u001b[0m\u001b[1;33m.\u001b[0m\u001b[0mitems\u001b[0m\u001b[1;33m(\u001b[0m\u001b[1;33m)\u001b[0m \u001b[1;32mif\u001b[0m \u001b[0mitem\u001b[0m\u001b[1;33m[\u001b[0m\u001b[1;36m0\u001b[0m\u001b[1;33m]\u001b[0m\u001b[1;33m!=\u001b[0m\u001b[0mteacher1\u001b[0m\u001b[1;33m]\u001b[0m\u001b[1;33m\u001b[0m\u001b[1;33m\u001b[0m\u001b[0m\n\u001b[0;32m     13\u001b[0m         \u001b[0mshuffle\u001b[0m\u001b[1;33m(\u001b[0m\u001b[0mrestTeachers\u001b[0m\u001b[1;33m)\u001b[0m\u001b[1;33m\u001b[0m\u001b[1;33m\u001b[0m\u001b[0m\n",
      "\u001b[1;31mTypeError\u001b[0m: 'int' object is not subscriptable"
     ]
    }
   ],
   "source": [
    "from random import shuffle \n",
    "\n",
    "def func(teacherNames,examNumbers,maxPerTeacher):\n",
    "    '''teacherNames:教师名单，列表类型\n",
    "       examNumbers:监考总场次，整数\n",
    "       maxPerTeacher:每个老师最大监考次数，整数\n",
    "       每场考试2名老师监考'''\n",
    "    teachers={teacher:0 for teacher in teacherNames}\n",
    "    result=[]\n",
    "    for _ in range(examNumbers):\n",
    "        teacher1=min(teachers.items(),key=lambda item:item[1][0])\n",
    "        restTeachers=[item for item in teachers.items() if item[0]!=teacher1]\n",
    "        shuffle(restTeachers)\n",
    "        teacher2=min(restTeachers,key=lambda item:item[1][0])\n",
    "        if max(teacher[teacher1],teacher[teacher2])>=maxPerTeacher:\n",
    "            return '数据不合适'\n",
    "        teacher[teacher1]+=1 \n",
    "        teacher[teacher2]+=1\n",
    "        result.append(teacher1,teacher2)\n",
    "    return result\n",
    "    \n",
    "teacherNames=['教师'+str(i) for i in range(10)]\n",
    "result=func(teacherNames,32,10)\n",
    "print(result)\n",
    "if result!='数据不合适':\n",
    "    for teacher in teacherNames:\n",
    "        num=sum(1 for item in result if teacher in item)\n",
    "        print(teacher,num)\n"
   ]
  },
  {
   "cell_type": "code",
   "execution_count": 19,
   "metadata": {},
   "outputs": [
    {
     "name": "stdout",
     "output_type": "stream",
     "text": [
      "(8800.0, 640.0)\n"
     ]
    }
   ],
   "source": [
    "#团队实际收入\n",
    "def calcFee(total,num):\n",
    "    origin=800+(total-800)*0.8\n",
    "    base=num*800\n",
    "    if total<=base:\n",
    "        return (total,total-origin)\n",
    "    now=base+(total-base)*0.8\n",
    "    return (now,now-origin)\n",
    "\n",
    "print(calcFee(10000,5))"
   ]
  },
  {
   "cell_type": "code",
   "execution_count": 20,
   "metadata": {},
   "outputs": [
    {
     "ename": "UnboundLocalError",
     "evalue": "local variable 'span' referenced before assignment",
     "output_type": "error",
     "traceback": [
      "\u001b[1;31m---------------------------------------------------------------------------\u001b[0m",
      "\u001b[1;31mUnboundLocalError\u001b[0m                         Traceback (most recent call last)",
      "\u001b[1;32m~\\AppData\\Local\\Temp/ipykernel_32956/3972530907.py\u001b[0m in \u001b[0;36m<module>\u001b[1;34m\u001b[0m\n\u001b[0;32m     13\u001b[0m         \u001b[0mprint\u001b[0m\u001b[1;33m(\u001b[0m\u001b[1;34m''\u001b[0m\u001b[1;33m.\u001b[0m\u001b[0mjoin\u001b[0m\u001b[1;33m(\u001b[0m\u001b[0mmap\u001b[0m\u001b[1;33m(\u001b[0m\u001b[0mstr\u001b[0m\u001b[1;33m,\u001b[0m \u001b[0mseats\u001b[0m\u001b[1;33m)\u001b[0m\u001b[1;33m)\u001b[0m\u001b[1;33m.\u001b[0m\u001b[0mtranslate\u001b[0m\u001b[1;33m(\u001b[0m\u001b[1;34m''\u001b[0m\u001b[1;33m.\u001b[0m\u001b[0mmaketrans\u001b[0m\u001b[1;33m(\u001b[0m\u001b[1;34m'01'\u001b[0m\u001b[1;33m,\u001b[0m\u001b[1;34m'_x'\u001b[0m\u001b[1;33m)\u001b[0m\u001b[1;33m)\u001b[0m\u001b[1;33m)\u001b[0m\u001b[1;33m\u001b[0m\u001b[1;33m\u001b[0m\u001b[0m\n\u001b[0;32m     14\u001b[0m \u001b[1;33m\u001b[0m\u001b[0m\n\u001b[1;32m---> 15\u001b[1;33m \u001b[0marrangeOrder\u001b[0m\u001b[1;33m(\u001b[0m\u001b[1;36m18\u001b[0m\u001b[1;33m)\u001b[0m\u001b[1;33m\u001b[0m\u001b[1;33m\u001b[0m\u001b[0m\n\u001b[0m",
      "\u001b[1;32m~\\AppData\\Local\\Temp/ipykernel_32956/3972530907.py\u001b[0m in \u001b[0;36marrangeOrder\u001b[1;34m(n)\u001b[0m\n\u001b[0;32m      2\u001b[0m     \u001b[0mseats\u001b[0m\u001b[1;33m=\u001b[0m\u001b[1;33m[\u001b[0m\u001b[1;36m0\u001b[0m\u001b[1;33m]\u001b[0m\u001b[1;33m*\u001b[0m\u001b[0mn\u001b[0m\u001b[1;33m\u001b[0m\u001b[1;33m\u001b[0m\u001b[0m\n\u001b[0;32m      3\u001b[0m     \u001b[1;32mfor\u001b[0m \u001b[0m_\u001b[0m \u001b[1;32min\u001b[0m \u001b[0mrange\u001b[0m\u001b[1;33m(\u001b[0m\u001b[0mn\u001b[0m\u001b[1;33m)\u001b[0m\u001b[1;33m:\u001b[0m\u001b[1;33m\u001b[0m\u001b[1;33m\u001b[0m\u001b[0m\n\u001b[1;32m----> 4\u001b[1;33m         \u001b[0mspan\u001b[0m\u001b[1;33m(\u001b[0m\u001b[1;36m0\u001b[0m\u001b[1;33m,\u001b[0m\u001b[1;36m0\u001b[0m\u001b[1;33m)\u001b[0m\u001b[1;33m\u001b[0m\u001b[1;33m\u001b[0m\u001b[0m\n\u001b[0m\u001b[0;32m      5\u001b[0m         \u001b[1;32mfor\u001b[0m \u001b[0mpos\u001b[0m \u001b[1;32min\u001b[0m \u001b[0mrange\u001b[0m\u001b[1;33m(\u001b[0m\u001b[0mn\u001b[0m\u001b[1;33m)\u001b[0m\u001b[1;33m:\u001b[0m\u001b[1;33m\u001b[0m\u001b[1;33m\u001b[0m\u001b[0m\n\u001b[0;32m      6\u001b[0m             \u001b[1;32mif\u001b[0m \u001b[0mseats\u001b[0m\u001b[1;33m[\u001b[0m\u001b[0mpos\u001b[0m\u001b[1;33m]\u001b[0m \u001b[1;33m==\u001b[0m \u001b[1;36m0\u001b[0m \u001b[1;32mand\u001b[0m \u001b[1;33m(\u001b[0m\u001b[0mpos\u001b[0m \u001b[1;33m==\u001b[0m \u001b[1;36m0\u001b[0m \u001b[1;32mor\u001b[0m \u001b[0mseats\u001b[0m\u001b[1;33m[\u001b[0m\u001b[0mpos\u001b[0m\u001b[1;33m-\u001b[0m\u001b[1;36m1\u001b[0m\u001b[1;33m]\u001b[0m \u001b[1;33m==\u001b[0m \u001b[1;36m1\u001b[0m\u001b[1;33m)\u001b[0m\u001b[1;33m:\u001b[0m\u001b[1;33m\u001b[0m\u001b[1;33m\u001b[0m\u001b[0m\n",
      "\u001b[1;31mUnboundLocalError\u001b[0m: local variable 'span' referenced before assignment"
     ]
    }
   ],
   "source": [
    "def arrangeOrder(n):\n",
    "    seats=[0]*n\n",
    "    for _ in range(n):\n",
    "        span(0,0)\n",
    "        for pos in range(n):\n",
    "            if seats[pos] == 0 and (pos == 0 or seats[pos-1] == 1):\n",
    "                start = pos\n",
    "            elif (seats[pos] == 1 and  seats[pos-1] == 0 and pos-start>span[1]-span[0]):\n",
    "                span=(start,pos-1)\n",
    "        if seats[pos] == 0 and pos-start>=span[1]-span[0]:\n",
    "            span=(start,pos)\n",
    "        seats[(span[1]+span[0])//2]=1\n",
    "        print(''.join(map(str, seats)).translate(''.maketrans('01','_x')))\n",
    "\n",
    "arrangeOrder(18)"
   ]
  },
  {
   "cell_type": "code",
   "execution_count": 21,
   "metadata": {},
   "outputs": [
    {
     "name": "stdout",
     "output_type": "stream",
     "text": [
      "36 20.398873437157043\n"
     ]
    }
   ],
   "source": [
    "def balance(base,rate):\n",
    "    while True:\n",
    "        base+=base*rate\n",
    "        yield base\n",
    "base=10\n",
    "rate=0.02\n",
    "\n",
    "\n",
    "for year ,current in enumerate(balance(base,rate),start=1):\n",
    "    if current>=2*base:\n",
    "        print(year,current)\n",
    "        break"
   ]
  },
  {
   "cell_type": "code",
   "execution_count": 22,
   "metadata": {},
   "outputs": [
    {
     "name": "stdout",
     "output_type": "stream",
     "text": [
      "(0, 'H')(1, 'e')(2, 'l')(3, 'l')(4, 'o')(5, ' ')(6, 'w')(7, 'o')(8, 'r')(9, 'l')(10, 'd')(11, '!')"
     ]
    }
   ],
   "source": [
    "def myEnumerate(seq):\n",
    "    index=0\n",
    "    for item in seq:\n",
    "        yield (index, item)\n",
    "        index+=1\n",
    "for item in myEnumerate('Hello world!'):\n",
    "    print(item,end='')\n"
   ]
  },
  {
   "cell_type": "code",
   "execution_count": 24,
   "metadata": {},
   "outputs": [
    {
     "name": "stdout",
     "output_type": "stream",
     "text": [
      "The1Times move:A==>C\n",
      "A : [3, 2]\n",
      "B : []\n",
      "C : [1]\n",
      "The2Times move:A==>B\n",
      "A : [3]\n",
      "B : [2]\n",
      "C : [1]\n",
      "The3Times move:A==>C\n",
      "A : []\n",
      "B : [2]\n",
      "C : [1, 3]\n",
      "The4Times move:A==>C\n"
     ]
    },
    {
     "ename": "IndexError",
     "evalue": "pop from empty list",
     "output_type": "error",
     "traceback": [
      "\u001b[1;31m---------------------------------------------------------------------------\u001b[0m",
      "\u001b[1;31mIndexError\u001b[0m                                Traceback (most recent call last)",
      "\u001b[1;32m~\\AppData\\Local\\Temp/ipykernel_2052/1086825247.py\u001b[0m in \u001b[0;36m<module>\u001b[1;34m\u001b[0m\n\u001b[0;32m     15\u001b[0m \u001b[0mn\u001b[0m\u001b[1;33m=\u001b[0m\u001b[1;36m3\u001b[0m\u001b[1;33m\u001b[0m\u001b[1;33m\u001b[0m\u001b[0m\n\u001b[0;32m     16\u001b[0m \u001b[0mtowers\u001b[0m\u001b[1;33m=\u001b[0m\u001b[1;33m{\u001b[0m\u001b[1;34m\"A\"\u001b[0m\u001b[1;33m:\u001b[0m\u001b[0mlist\u001b[0m\u001b[1;33m(\u001b[0m\u001b[0mrange\u001b[0m\u001b[1;33m(\u001b[0m\u001b[0mn\u001b[0m\u001b[1;33m,\u001b[0m\u001b[1;36m0\u001b[0m\u001b[1;33m,\u001b[0m\u001b[1;33m-\u001b[0m\u001b[1;36m1\u001b[0m\u001b[1;33m)\u001b[0m\u001b[1;33m)\u001b[0m\u001b[1;33m,\u001b[0m\u001b[1;34m\"B\"\u001b[0m\u001b[1;33m:\u001b[0m\u001b[1;33m[\u001b[0m\u001b[1;33m]\u001b[0m\u001b[1;33m,\u001b[0m\u001b[1;34m\"C\"\u001b[0m\u001b[1;33m:\u001b[0m\u001b[1;33m[\u001b[0m\u001b[1;33m]\u001b[0m\u001b[1;33m}\u001b[0m\u001b[1;33m\u001b[0m\u001b[1;33m\u001b[0m\u001b[0m\n\u001b[1;32m---> 17\u001b[1;33m \u001b[0mhannoi\u001b[0m\u001b[1;33m(\u001b[0m\u001b[0mn\u001b[0m\u001b[1;33m,\u001b[0m\u001b[1;34m\"A\"\u001b[0m\u001b[1;33m,\u001b[0m\u001b[1;34m\"C\"\u001b[0m\u001b[1;33m,\u001b[0m\u001b[1;34m\"B\"\u001b[0m\u001b[1;33m)\u001b[0m\u001b[1;33m\u001b[0m\u001b[1;33m\u001b[0m\u001b[0m\n\u001b[0m",
      "\u001b[1;32m~\\AppData\\Local\\Temp/ipykernel_2052/1086825247.py\u001b[0m in \u001b[0;36mhannoi\u001b[1;34m(num, src, dst, temp)\u001b[0m\n\u001b[0;32m      6\u001b[0m     \u001b[0mhannoi\u001b[0m\u001b[1;33m(\u001b[0m\u001b[0mnum\u001b[0m\u001b[1;33m-\u001b[0m\u001b[1;36m1\u001b[0m\u001b[1;33m,\u001b[0m\u001b[0msrc\u001b[0m\u001b[1;33m,\u001b[0m\u001b[0mtemp\u001b[0m\u001b[1;33m,\u001b[0m\u001b[0mdst\u001b[0m\u001b[1;33m)\u001b[0m\u001b[1;33m\u001b[0m\u001b[1;33m\u001b[0m\u001b[0m\n\u001b[0;32m      7\u001b[0m     \u001b[0mprint\u001b[0m\u001b[1;33m(\u001b[0m\u001b[1;34m\"The{0}Times move:{1}==>{2}\"\u001b[0m\u001b[1;33m.\u001b[0m\u001b[0mformat\u001b[0m\u001b[1;33m(\u001b[0m\u001b[0mtimes\u001b[0m\u001b[1;33m,\u001b[0m\u001b[0msrc\u001b[0m\u001b[1;33m,\u001b[0m\u001b[0mdst\u001b[0m\u001b[1;33m,\u001b[0m\u001b[0mtemp\u001b[0m\u001b[1;33m)\u001b[0m\u001b[1;33m)\u001b[0m\u001b[1;33m\u001b[0m\u001b[1;33m\u001b[0m\u001b[0m\n\u001b[1;32m----> 8\u001b[1;33m     \u001b[0mtowers\u001b[0m\u001b[1;33m[\u001b[0m\u001b[0mdst\u001b[0m\u001b[1;33m]\u001b[0m\u001b[1;33m.\u001b[0m\u001b[0mappend\u001b[0m\u001b[1;33m(\u001b[0m\u001b[0mtowers\u001b[0m\u001b[1;33m[\u001b[0m\u001b[0msrc\u001b[0m\u001b[1;33m]\u001b[0m\u001b[1;33m.\u001b[0m\u001b[0mpop\u001b[0m\u001b[1;33m(\u001b[0m\u001b[1;33m)\u001b[0m\u001b[1;33m)\u001b[0m\u001b[1;33m\u001b[0m\u001b[1;33m\u001b[0m\u001b[0m\n\u001b[0m\u001b[0;32m      9\u001b[0m     \u001b[1;32mfor\u001b[0m \u001b[0mtower\u001b[0m \u001b[1;32min\u001b[0m\u001b[1;34m'ABC'\u001b[0m\u001b[1;33m:\u001b[0m\u001b[1;33m\u001b[0m\u001b[1;33m\u001b[0m\u001b[0m\n\u001b[0;32m     10\u001b[0m         \u001b[0mprint\u001b[0m\u001b[1;33m(\u001b[0m\u001b[0mtower\u001b[0m\u001b[1;33m,\u001b[0m\u001b[1;34m':'\u001b[0m\u001b[1;33m,\u001b[0m\u001b[0mtowers\u001b[0m\u001b[1;33m[\u001b[0m\u001b[0mtower\u001b[0m\u001b[1;33m]\u001b[0m\u001b[1;33m)\u001b[0m\u001b[1;33m\u001b[0m\u001b[1;33m\u001b[0m\u001b[0m\n",
      "\u001b[1;31mIndexError\u001b[0m: pop from empty list"
     ]
    }
   ],
   "source": [
    "#汉诺塔\n",
    "def hannoi(num,src,dst,temp=None):\n",
    "    if num<1:\n",
    "        return \n",
    "    global times\n",
    "    hannoi(num-1,src,temp,dst)\n",
    "    print(\"The{0}Times move:{1}==>{2}\".format(times,src,dst,temp))\n",
    "    towers[dst].append(towers[src].pop())\n",
    "    for tower in'ABC':\n",
    "        print(tower,':',towers[tower])\n",
    "    times+=1\n",
    "    hannoi(num-1,src,temp,dst)\n",
    "\n",
    "times=1\n",
    "n=3\n",
    "towers={\"A\":list(range(n,0,-1)),\"B\":[],\"C\":[]}\n",
    "hannoi(n,\"A\",\"C\",\"B\") "
   ]
  },
  {
   "cell_type": "code",
   "execution_count": 21,
   "metadata": {},
   "outputs": [
    {
     "name": "stdout",
     "output_type": "stream",
     "text": [
      "True\n",
      "True\n",
      "False\n",
      "True\n"
     ]
    }
   ],
   "source": [
    "#丑数：因数包含2,3,5\n",
    "def demo(n):\n",
    "    for i in (2,3,5):\n",
    "        while True:\n",
    "            m,r=divmod(n,i)\n",
    "            if r!=0:\n",
    "                break\n",
    "            else:\n",
    "                n=m\n",
    "    return n==1\n",
    "print(demo(30))\n",
    "print(demo(50))\n",
    "print(demo(70))\n",
    "print(demo(90))\n",
    "\n"
   ]
  },
  {
   "cell_type": "code",
   "execution_count": 1,
   "metadata": {},
   "outputs": [],
   "source": [
    "from random import randrange\n",
    "def init():\n",
    "    '''返回一个字典，键为3个门牌号，值为门后面的物品'''\n",
    "    result={i:'goat' for i in range(3)}\n",
    "    r=randrange(3)\n",
    "    result[r]='car'\n",
    "    return result\n"
   ]
  },
  {
   "cell_type": "code",
   "execution_count": 2,
   "metadata": {},
   "outputs": [
    {
     "name": "stdout",
     "output_type": "stream",
     "text": [
      "==============================\n",
      "Door number must be between 0and 2\n",
      "\"goat\" behind the door  1\n",
      "I Win!\n",
      "==============================\n",
      "\"goat\" behind the door  2\n",
      "I Win!\n",
      "==============================\n",
      "\"goat\" behind the door  0\n",
      "You win.\n",
      "==============================\n",
      "Door number must be between 0and 2\n",
      "Door number must be between 0and 2\n",
      "Door number must be between 0and 2\n",
      "Door number must be between 0and 2\n",
      "Door number must be between 0and 2\n",
      "\"goat\" behind the door  2\n",
      "I Win!\n",
      "==============================\n",
      "\"goat\" behind the door  0\n",
      "I Win!\n"
     ]
    }
   ],
   "source": [
    "\n",
    "def startGame():\n",
    "    #获取本次游戏中每个门的情况\n",
    "    doors=init()\n",
    "    \n",
    "    while True:\n",
    "        try:\n",
    "            firstDoorNum=int(input('choose a door to open :'))\n",
    "            assert 0<=firstDoorNum<=2\n",
    "            break\n",
    "        except:\n",
    "            print('Door number must be between {}and {}'.format(0,2))\n",
    "    for door in doors.keys()-{firstDoorNum}:\n",
    "        if doors[door]=='goat':\n",
    "            print('\"goat\" behind the door ',door)\n",
    "            thirdDoor=(doors.keys()-{door,firstDoorNum}).pop()\n",
    "            change=input('Swich to {}?(y/n)'.format(thirdDoor))\n",
    "            finalDoorNum=thirdDoor if change =='y' else firstDoorNum\n",
    "            if doors[finalDoorNum]=='goat':\n",
    "                return 'I Win!'\n",
    "            else:\n",
    "                return \"You win.\"\n",
    "    \n",
    "while True:\n",
    "    print('='*30)\n",
    "    print(startGame())\n",
    "    r=input('Do you want to try once more(y/n)')\n",
    "    if r=='n':\n",
    "        break\n",
    "    "
   ]
  },
  {
   "cell_type": "code",
   "execution_count": 12,
   "metadata": {},
   "outputs": [
    {
     "name": "stdout",
     "output_type": "stream",
     "text": [
      "0.8\n"
     ]
    }
   ],
   "source": [
    "def Rate(origin,userInput):\n",
    "    right=sum(map(lambda oc,uc:uc==oc,origin,userInput))\n",
    "    return round(right/len(origin),3)\n",
    "origin='complex is better than complicated.'\n",
    "userInput='complex is BETTER than complicated'\n",
    "print(Rate(origin,userInput))"
   ]
  },
  {
   "cell_type": "code",
   "execution_count": 4,
   "metadata": {},
   "outputs": [
    {
     "name": "stdout",
     "output_type": "stream",
     "text": [
      "123\n",
      "6170\n",
      "108\n"
     ]
    }
   ],
   "source": [
    "#计算a+aa+aaa\n",
    "from functools import reduce\n",
    "def demo(a,n):\n",
    "     a=str(a)\n",
    "     return sum(map(lambda i:eval(a*i),range(1,n+1)))\n",
    "print(demo(1,3))\n",
    "print(demo(5,4))\n",
    "print(demo(9,2))"
   ]
  },
  {
   "cell_type": "code",
   "execution_count": 6,
   "metadata": {},
   "outputs": [
    {
     "name": "stdout",
     "output_type": "stream",
     "text": [
      "1    \n",
      "1    1    \n",
      "1    2    1    \n",
      "1    3    3    1    \n",
      "1    4    6    4    1    \n",
      "1    5    10   10   5    1    \n",
      "1    6    15   20   15   6    1    \n",
      "1    7    21   35   35   21   7    1    \n"
     ]
    }
   ],
   "source": [
    "from functools import lru_cache\n",
    "\n",
    "@lru_cache(maxsize=64)\n",
    "def cni(n,i):\n",
    "    if n==i or i==0:\n",
    "        return 1\n",
    "    return cni(n-1,i)+cni(n-1,i-1)\n",
    "\n",
    "def yanghui(num):\n",
    "    for n in range(num):\n",
    "        for i in range(n+1):\n",
    "            print(str(cni(n,i)).ljust(4),end=' ')\n",
    "        print()\n",
    "yanghui(8)"
   ]
  },
  {
   "cell_type": "code",
   "execution_count": 8,
   "metadata": {},
   "outputs": [
    {
     "name": "stdout",
     "output_type": "stream",
     "text": [
      "[-3, -2, -1, 1, 2, 3, 4]\n",
      "<generator object myFilter at 0x0000023F4A0AE970>\n",
      "[6, 7, 8, 9]\n"
     ]
    }
   ],
   "source": [
    "def myFilter(func,seq):\n",
    "    if func is None :\n",
    "        func=bool\n",
    "    for item  in seq :\n",
    "        if func(item):\n",
    "            yield item \n",
    "print(list(myFilter(None,range(-3,5))))\n",
    "print(myFilter(str.isdigit,'123456defs567'))\n",
    "print(list(myFilter(lambda x:x>5,range(10))))"
   ]
  }
 ],
 "metadata": {
  "interpreter": {
   "hash": "ac59ebe37160ed0dfa835113d9b8498d9f09ceb179beaac4002f036b9467c963"
  },
  "kernelspec": {
   "display_name": "Python 3.9.6 64-bit",
   "language": "python",
   "name": "python3"
  },
  "language_info": {
   "codemirror_mode": {
    "name": "ipython",
    "version": 3
   },
   "file_extension": ".py",
   "mimetype": "text/x-python",
   "name": "python",
   "nbconvert_exporter": "python",
   "pygments_lexer": "ipython3",
   "version": "3.9.6"
  },
  "orig_nbformat": 4
 },
 "nbformat": 4,
 "nbformat_minor": 2
}
