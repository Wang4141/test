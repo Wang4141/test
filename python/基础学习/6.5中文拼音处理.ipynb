{
 "cells": [
  {
   "cell_type": "code",
   "execution_count": 1,
   "metadata": {},
   "outputs": [
    {
     "data": {
      "text/plain": [
       "['python',\n",
       " 'zhi',\n",
       " 'chan',\n",
       " 'zhong',\n",
       " 'you',\n",
       " 'ju',\n",
       " 'hua',\n",
       " 'fei',\n",
       " 'chang',\n",
       " 'zhong',\n",
       " 'yao',\n",
       " '，Readability counts.']"
      ]
     },
     "execution_count": 1,
     "metadata": {},
     "output_type": "execute_result"
    }
   ],
   "source": [
    "text='python之禅中有句话非常重要，Readability counts.'\n",
    "from pypinyin import lazy_pinyin\n",
    "lazy_pinyin(text)\n"
   ]
  },
  {
   "cell_type": "code",
   "execution_count": 2,
   "metadata": {},
   "outputs": [
    {
     "data": {
      "text/plain": [
       "['python',\n",
       " 'zhī',\n",
       " 'chán',\n",
       " 'zhōng',\n",
       " 'yǒu',\n",
       " 'jù',\n",
       " 'huà',\n",
       " 'fēi',\n",
       " 'cháng',\n",
       " 'zhòng',\n",
       " 'yào',\n",
       " '，Readability counts.']"
      ]
     },
     "execution_count": 2,
     "metadata": {},
     "output_type": "execute_result"
    }
   ],
   "source": [
    "lazy_pinyin(text,1)"
   ]
  },
  {
   "cell_type": "code",
   "execution_count": 3,
   "metadata": {},
   "outputs": [
    {
     "data": {
      "text/plain": [
       "['python',\n",
       " 'zhi1',\n",
       " 'cha2n',\n",
       " 'zho1ng',\n",
       " 'yo3u',\n",
       " 'ju4',\n",
       " 'hua4',\n",
       " 'fe1i',\n",
       " 'cha2ng',\n",
       " 'zho4ng',\n",
       " 'ya4o',\n",
       " '，Readability counts.']"
      ]
     },
     "execution_count": 3,
     "metadata": {},
     "output_type": "execute_result"
    }
   ],
   "source": [
    "lazy_pinyin(text,2)"
   ]
  },
  {
   "cell_type": "code",
   "execution_count": 4,
   "metadata": {},
   "outputs": [
    {
     "data": {
      "text/plain": [
       "['python',\n",
       " 'zh',\n",
       " 'ch',\n",
       " 'zh',\n",
       " '',\n",
       " 'j',\n",
       " 'h',\n",
       " 'f',\n",
       " 'ch',\n",
       " 'zh',\n",
       " '',\n",
       " '，Readability counts.']"
      ]
     },
     "execution_count": 4,
     "metadata": {},
     "output_type": "execute_result"
    }
   ],
   "source": [
    "lazy_pinyin(text,3)"
   ]
  },
  {
   "cell_type": "code",
   "execution_count": 7,
   "metadata": {},
   "outputs": [
    {
     "data": {
      "text/plain": [
       "['zhòng', 'yào']"
      ]
     },
     "execution_count": 7,
     "metadata": {},
     "output_type": "execute_result"
    }
   ],
   "source": [
    "lazy_pinyin('重要',1)"
   ]
  },
  {
   "cell_type": "code",
   "execution_count": 9,
   "metadata": {},
   "outputs": [
    {
     "data": {
      "text/plain": [
       "['chóng', 'yáng']"
      ]
     },
     "execution_count": 9,
     "metadata": {},
     "output_type": "execute_result"
    }
   ],
   "source": [
    "lazy_pinyin('重阳',1)"
   ]
  }
 ],
 "metadata": {
  "interpreter": {
   "hash": "ac59ebe37160ed0dfa835113d9b8498d9f09ceb179beaac4002f036b9467c963"
  },
  "kernelspec": {
   "display_name": "Python 3.9.6 64-bit",
   "language": "python",
   "name": "python3"
  },
  "language_info": {
   "codemirror_mode": {
    "name": "ipython",
    "version": 3
   },
   "file_extension": ".py",
   "mimetype": "text/x-python",
   "name": "python",
   "nbconvert_exporter": "python",
   "pygments_lexer": "ipython3",
   "version": "3.9.6"
  },
  "orig_nbformat": 4
 },
 "nbformat": 4,
 "nbformat_minor": 2
}
