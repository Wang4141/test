{
 "cells": [
  {
   "cell_type": "code",
   "execution_count": 2,
   "metadata": {},
   "outputs": [
    {
     "name": "stdout",
     "output_type": "stream",
     "text": [
      "{0, 2, 4, 6, 8, 9}\n",
      "{0, 1, 2, 4, 5, 6, 8}\n",
      "a:{0, 2, 4, 6, 8, 9}\n",
      "b:{0, 1, 2, 4, 5, 6, 8}\n"
     ]
    }
   ],
   "source": [
    "from random import randint\n",
    "a={randint(0,9) for i in range(1,10)} \n",
    "b={randint(0,9) for i in range(1,10)}\n",
    "print(a)\n",
    "print(b)\n",
    "#print('a:{0}\\nb:{1}'.format(a,b))  "
   ]
  },
  {
   "cell_type": "code",
   "execution_count": 33,
   "metadata": {},
   "outputs": [],
   "source": [
    "x=int(input('输入 A | B  的结果'))\n",
    "y=int(input('输入 A & B 的结果'))\n",
    "p=a|b\n",
    "q=a&b"
   ]
  },
  {
   "cell_type": "code",
   "execution_count": 34,
   "metadata": {},
   "outputs": [
    {
     "name": "stdout",
     "output_type": "stream",
     "text": [
      "回答正确\n",
      "回答错误\n",
      "正确答案是： {0, 1, 4, 5}\n"
     ]
    }
   ],
   "source": [
    "if x in p:\n",
    "    print('回答正确')\n",
    "else :\n",
    "    print('回答错误')\n",
    "    print('正确答案是：',p)\n",
    "if y in q:\n",
    "    print('回答正确')\n",
    "else :\n",
    "    print('回答错误')\n",
    "    print('正确答案是：',q)"
   ]
  }
 ],
 "metadata": {
  "interpreter": {
   "hash": "ac59ebe37160ed0dfa835113d9b8498d9f09ceb179beaac4002f036b9467c963"
  },
  "kernelspec": {
   "display_name": "Python 3.9.6 64-bit",
   "language": "python",
   "name": "python3"
  },
  "language_info": {
   "codemirror_mode": {
    "name": "ipython",
    "version": 3
   },
   "file_extension": ".py",
   "mimetype": "text/x-python",
   "name": "python",
   "nbconvert_exporter": "python",
   "pygments_lexer": "ipython3",
   "version": "3.9.6"
  },
  "orig_nbformat": 4
 },
 "nbformat": 4,
 "nbformat_minor": 2
}
