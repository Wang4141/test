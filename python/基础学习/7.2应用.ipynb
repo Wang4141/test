{
 "cells": [
  {
   "cell_type": "code",
   "execution_count": 2,
   "metadata": {},
   "outputs": [
    {
     "name": "stdout",
     "output_type": "stream",
     "text": [
      "0002-01-17\n"
     ]
    }
   ],
   "source": [
    "#根据年周输出日期\n",
    "from datetime import date,timedelta\n",
    "year,n,w=map(int,input('请输入year  n w:').split())\n",
    "start=date(year,1,1)\n",
    "for i in range(7):\n",
    "    if start.isoweekday()==w:\n",
    "        break\n",
    "    start=start+timedelta(days=1)\n",
    "print(start+timedelta(weeks=n-1))"
   ]
  },
  {
   "cell_type": "code",
   "execution_count": 3,
   "metadata": {},
   "outputs": [
    {
     "name": "stdout",
     "output_type": "stream",
     "text": [
      "0 25 75\n",
      "4 18 78\n",
      "8 11 81\n",
      "12 4 84\n"
     ]
    }
   ],
   "source": [
    "#解实际方程\n",
    "for x in range(21):\n",
    "    for y in range(34):\n",
    "        z=100-x-y\n",
    "        if z%3==0 and 5*x+3*y+z//3==100:\n",
    "            print(x,y,z)"
   ]
  },
  {
   "cell_type": "code",
   "execution_count": 4,
   "metadata": {},
   "outputs": [
    {
     "name": "stdout",
     "output_type": "stream",
     "text": [
      "153\n",
      "370\n",
      "371\n",
      "407\n"
     ]
    }
   ],
   "source": [
    "#输出所有3位水仙花数\n",
    "for num in range(100,1000):\n",
    "    r=map(lambda x:int(x)**3,str(num))\n",
    "    if sum(r)==num:\n",
    "        print(num)\n"
   ]
  },
  {
   "cell_type": "code",
   "execution_count": 1,
   "metadata": {},
   "outputs": [
    {
     "name": "stdout",
     "output_type": "stream",
     "text": [
      "yes\n"
     ]
    }
   ],
   "source": [
    "#判断闰年\n",
    "try:\n",
    "    year=int(input('请输入一个年份：'))\n",
    "except:\n",
    "    print('输入错误，请输入表示年份的整数.')\n",
    "else:\n",
    "    if year%400==0 or (year%4==0 and year%100!=0):\n",
    "        print('yes')\n",
    "    else:\n",
    "        print('no')"
   ]
  },
  {
   "cell_type": "code",
   "execution_count": 3,
   "metadata": {},
   "outputs": [
    {
     "data": {
      "text/plain": [
       "False"
      ]
     },
     "execution_count": 3,
     "metadata": {},
     "output_type": "execute_result"
    }
   ],
   "source": [
    "#判断闰年\n",
    "import calendar\n",
    "calendar.isleap(2018)"
   ]
  },
  {
   "cell_type": "code",
   "execution_count": 4,
   "metadata": {},
   "outputs": [],
   "source": [
    "#6174猜想\n",
    "from string import digits\n",
    "from itertools import combinations\n",
    "for item in combinations(digits,4):\n",
    "    times=0\n",
    "    while True:\n",
    "        big=int(''.join(sorted(item,reverse=True)))\n",
    "        little=int(''.join(sorted(item)))\n",
    "        difference=big-little\n",
    "        times=times+1\n",
    "        if difference==6174:\n",
    "            if times>7:\n",
    "                print(times)\n",
    "            break\n",
    "        else:\n",
    "            item=str(difference)\n"
   ]
  },
  {
   "cell_type": "code",
   "execution_count": 14,
   "metadata": {},
   "outputs": [
    {
     "name": "stdout",
     "output_type": "stream",
     "text": [
      "数大\n",
      "数大\n",
      "数大\n",
      "数小\n",
      "数小\n",
      "游戏结束\n",
      "数字是 94\n"
     ]
    }
   ],
   "source": [
    "from random import randint\n",
    "\n",
    "def guess(maxValue=100,maxTimes=5):\n",
    "    value=randint(1,maxValue)\n",
    "    for i in range(maxTimes):\n",
    "        prompt='Start to Guess:' if i==0 else 'Guess again:'\n",
    "        try:\n",
    "            x=int(input(prompt))\n",
    "        except:\n",
    "            print('必须输入1至',maxValue)\n",
    "        else:\n",
    "            if x==value:\n",
    "                print('猜对了')\n",
    "                break\n",
    "            elif x>value:\n",
    "                print('数大')\n",
    "            else:\n",
    "                print('数小')\n",
    "    else:\n",
    "            print('游戏结束')\n",
    "            print('数字是',value)\n",
    "\n",
    "guess()\n",
    "\n",
    "\n"
   ]
  },
  {
   "cell_type": "code",
   "execution_count": 4,
   "metadata": {},
   "outputs": [
    {
     "name": "stdout",
     "output_type": "stream",
     "text": [
      "0 20 10\n",
      "1 18 11\n",
      "2 16 12\n",
      "3 14 13\n",
      "4 12 14\n",
      "5 10 15\n",
      "6 8 16\n",
      "7 6 17\n",
      "8 4 18\n",
      "9 2 19\n",
      "10 0 20\n"
     ]
    }
   ],
   "source": [
    "for x in range(17):\n",
    "    for y in range(26):\n",
    "        z=30-x-y\n",
    "        if  3*x+2*y+z==50:\n",
    "            print(x,y,z)"
   ]
  }
 ],
 "metadata": {
  "interpreter": {
   "hash": "ac59ebe37160ed0dfa835113d9b8498d9f09ceb179beaac4002f036b9467c963"
  },
  "kernelspec": {
   "display_name": "Python 3.9.6 64-bit",
   "language": "python",
   "name": "python3"
  },
  "language_info": {
   "codemirror_mode": {
    "name": "ipython",
    "version": 3
   },
   "file_extension": ".py",
   "mimetype": "text/x-python",
   "name": "python",
   "nbconvert_exporter": "python",
   "pygments_lexer": "ipython3",
   "version": "3.9.6"
  },
  "orig_nbformat": 4
 },
 "nbformat": 4,
 "nbformat_minor": 2
}
