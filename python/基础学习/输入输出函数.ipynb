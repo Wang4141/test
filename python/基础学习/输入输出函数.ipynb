{
 "cells": [
  {
   "cell_type": "code",
   "execution_count": 1,
   "metadata": {},
   "outputs": [
    {
     "name": "stdout",
     "output_type": "stream",
     "text": [
      "现在有 100 辆汽车\n",
      "现在只有 30 个司机\n",
      "今天有 70 辆空车没有司机\n",
      "我们可以接送 120.0 位乘客\n",
      "今天我们将接送 90 位乘客\n",
      "每辆车上至少需要搭载 3.0 位乘客\n"
     ]
    }
   ],
   "source": [
    "cars=100\n",
    "space_in_a_car=4.0\n",
    "drivers=30\n",
    "passengers=90\n",
    "cars_not_driven=cars-drivers\n",
    "cars_driven=drivers\n",
    "carpool_capacity=cars_driven*space_in_a_car\n",
    "average__passengers_per_car=passengers/cars_driven\n",
    "\n",
    "print(\"现在有\",cars,\"辆汽车\")\n",
    "print(\"现在只有\",drivers,\"个司机\")\n",
    "print(\"今天有\",cars_not_driven,\"辆空车没有司机\")\n",
    "print(\"我们可以接送\",carpool_capacity,\"位乘客\")\n",
    "print(\"今天我们将接送\",passengers,\"位乘客\")\n",
    "print(\"每辆车上至少需要搭载\",average__passengers_per_car,\"位乘客\")\n",
    "\n"
   ]
  },
  {
   "cell_type": "code",
   "execution_count": 3,
   "metadata": {},
   "outputs": [
    {
     "name": "stdout",
     "output_type": "stream",
     "text": [
      "Here are the days: MON TUE WED THU FRI SAT SUN\n",
      "Jan\n",
      "Feb\n",
      "Mar\n",
      "Apr\n",
      "May\n",
      "Jun\n",
      "Jul\n",
      "Aug\n",
      "\n",
      "There's something going on here...\n",
      "With the three double-quotes.\n",
      "We'll be able to type as much as we like...\n",
      "Even 4 lines if we want ,or 5,or 6 \n"
     ]
    }
   ],
   "source": [
    "days=\"MON TUE WED THU FRI SAT SUN\"\n",
    "months=\"Jan\\nFeb\\nMar\\nApr\\nMay\\nJun\\nJul\\nAug\"\n",
    "\n",
    "print(\"Here are the days:\",days)\n",
    "print(months)\n",
    "\n",
    "print(\"\"\"\n",
    "There's something going on here...\n",
    "With the three double-quotes.\n",
    "We'll be able to type as much as we like...\n",
    "Even 4 lines if we want ,or 5,or 6 \"\"\")\n"
   ]
  },
  {
   "cell_type": "code",
   "execution_count": 4,
   "metadata": {},
   "outputs": [
    {
     "name": "stdout",
     "output_type": "stream",
     "text": [
      "让我们认识一下泽.肖恩\n",
      "他身高20英尺\n",
      "他体重180磅\n",
      "他的身材不算胖\n",
      "他有一双蓝色的眼睛，他的发色是棕色。\n",
      "他的牙齿是白色。\n",
      "如果我将35,20,和180加起来，将得到235\n"
     ]
    }
   ],
   "source": [
    "my_name='泽.肖恩'\n",
    "my_age=35\n",
    "my_height=20\n",
    "my_weight=180\n",
    "my_eyes='蓝'\n",
    "my_teeth='白'\n",
    "my_hair='棕'\n",
    "\n",
    "print(f\"让我们认识一下{my_name}\")\n",
    "print(f\"他身高{my_height}英尺\")\n",
    "print(f\"他体重{my_weight}磅\")\n",
    "print(\"他的身材不算胖\")\n",
    "print(f\"他有一双{my_eyes}色的眼睛，他的发色是{my_hair}色。\")\n",
    "print(f\"他的牙齿是{my_teeth}色。\")\n",
    "\n",
    "total=my_age+my_height+my_weight\n",
    "print(f\"如果我将{my_age},{my_height},和{my_weight}加起来，将得到{total}\")\n"
   ]
  },
  {
   "cell_type": "code",
   "execution_count": 5,
   "metadata": {},
   "outputs": [
    {
     "name": "stdout",
     "output_type": "stream",
     "text": [
      "输入你的年龄你的身高（厘米）？你的体重？（千克）所以，你今年15岁，身高16厘米，体重1千克\n"
     ]
    }
   ],
   "source": [
    "print(\"输入你的年龄\",end='')\n",
    "age=input()\n",
    "print(\"你的身高（厘米）？\",end='')\n",
    "height=input()\n",
    "print(\"你的体重？（千克）\",end='')\n",
    "weight=input()\n",
    "print(f\"所以，你今年{age}岁，身高{height}厘米，体重{weight}千克\")\n"
   ]
  },
  {
   "cell_type": "code",
   "execution_count": 9,
   "metadata": {},
   "outputs": [
    {
     "name": "stdout",
     "output_type": "stream",
     "text": [
      "你今年18岁\n",
      "你的身高是18.00cm,你的体重是18kg\n"
     ]
    }
   ],
   "source": [
    "age=input(\"输入你的年龄\")\n",
    "height=input()\n",
    "weight=input()\n",
    "\n",
    "print(f\"你今年{age}岁\")\n",
    "print('你的身高是%.2fcm,你的体重是%dkg'%(float(height),int(weight)))"
   ]
  }
 ],
 "metadata": {
  "interpreter": {
   "hash": "ac59ebe37160ed0dfa835113d9b8498d9f09ceb179beaac4002f036b9467c963"
  },
  "kernelspec": {
   "display_name": "Python 3.9.6 64-bit",
   "name": "python3"
  },
  "language_info": {
   "codemirror_mode": {
    "name": "ipython",
    "version": 3
   },
   "file_extension": ".py",
   "mimetype": "text/x-python",
   "name": "python",
   "nbconvert_exporter": "python",
   "pygments_lexer": "ipython3",
   "version": "3.9.6"
  },
  "orig_nbformat": 4
 },
 "nbformat": 4,
 "nbformat_minor": 2
}
